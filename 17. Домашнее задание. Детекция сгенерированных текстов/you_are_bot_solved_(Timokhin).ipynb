{
 "cells": [
  {
   "cell_type": "code",
   "execution_count": 1,
   "metadata": {},
   "outputs": [
    {
     "name": "stdout",
     "output_type": "stream",
     "text": [
      "\u001b[33mWARNING: Running pip as the 'root' user can result in broken permissions and conflicting behaviour with the system package manager, possibly rendering your system unusable. It is recommended to use a virtual environment instead: https://pip.pypa.io/warnings/venv. Use the --root-user-action option if you know what you are doing and want to suppress this warning.\u001b[0m\u001b[33m\n",
      "\u001b[0mNote: you may need to restart the kernel to use updated packages.\n"
     ]
    }
   ],
   "source": [
    "pip install pandas scikit-learn datasets torch matplotlib seaborn transformers sentence_transformers nltk pymorphy2 tqdm ipywidgets catboost umap-learn hdbscan optuna category_encoders -q"
   ]
  },
  {
   "cell_type": "markdown",
   "metadata": {},
   "source": [
    "## 1. Анализ и подготовка данных"
   ]
  },
  {
   "cell_type": "markdown",
   "metadata": {},
   "source": [
    "### 1.1. Импорт необходимых библиотек и моделей"
   ]
  },
  {
   "cell_type": "code",
   "execution_count": 2,
   "metadata": {},
   "outputs": [
    {
     "name": "stderr",
     "output_type": "stream",
     "text": [
      "[nltk_data] Downloading package stopwords to /root/nltk_data...\n",
      "[nltk_data]   Package stopwords is already up-to-date!\n"
     ]
    }
   ],
   "source": [
    "import os\n",
    "import math\n",
    "import random\n",
    "import json\n",
    "import pickle\n",
    "import pandas as pd\n",
    "import numpy as np\n",
    "from scipy.sparse import hstack\n",
    "from tqdm import tqdm\n",
    "import matplotlib.pyplot as plt\n",
    "import seaborn as sns\n",
    "\n",
    "from copy import deepcopy\n",
    "from collections import Counter, defaultdict\n",
    "from sklearn.model_selection import train_test_split\n",
    "from sklearn.model_selection import StratifiedKFold\n",
    "from sklearn.metrics import accuracy_score, roc_auc_score, log_loss, f1_score, roc_curve\n",
    "from sklearn.preprocessing import RobustScaler, OneHotEncoder\n",
    "from sklearn.feature_extraction.text import TfidfVectorizer\n",
    "from sklearn.decomposition import PCA\n",
    "import umap\n",
    "import optuna\n",
    "from optuna.samplers import TPESampler\n",
    "from sklearn.linear_model import LogisticRegression\n",
    "import catboost as ctb\n",
    "\n",
    "from sklearn.impute import SimpleImputer\n",
    "from sklearn.pipeline import Pipeline\n",
    "from sklearn.compose import ColumnTransformer\n",
    "from sklearn.base import BaseEstimator, TransformerMixin\n",
    "from category_encoders import CatBoostEncoder\n",
    "\n",
    "import re\n",
    "import string\n",
    "import nltk\n",
    "import pymorphy2\n",
    "from nltk.corpus import stopwords\n",
    "nltk.download('stopwords')\n",
    "\n",
    "import torch\n",
    "import datasets\n",
    "from datasets import Dataset\n",
    "from transformers import AutoModelForCausalLM, AutoTokenizer\n",
    "from sentence_transformers import SentenceTransformer\n",
    "\n",
    "import warnings\n",
    "warnings.filterwarnings(\"ignore\")"
   ]
  },
  {
   "cell_type": "code",
   "execution_count": 3,
   "metadata": {},
   "outputs": [],
   "source": [
    "SEED = 42\n",
    "\n",
    "def seed_torch(seed:int=42):\n",
    "    \"\"\"\n",
    "    Функция для фиксации воспроизведения расчетов\n",
    "        seed:int - параметр фиксации\n",
    "    \"\"\"\n",
    "    random.seed(seed)\n",
    "    os.environ['PYTHONHASHSEED'] = str(seed)\n",
    "    np.random.seed(seed)\n",
    "    torch.manual_seed(seed)\n",
    "    torch.cuda.manual_seed(seed)\n",
    "    torch.cuda.manual_seed_all(seed) # if you are using multi-GPU.\n",
    "    torch.backends.cudnn.benchmark = False\n",
    "    torch.backends.cudnn.deterministic = True\n",
    "\n",
    "seed_torch(SEED)"
   ]
  },
  {
   "cell_type": "code",
   "execution_count": 4,
   "metadata": {},
   "outputs": [
    {
     "name": "stdout",
     "output_type": "stream",
     "text": [
      "Sat May 10 21:47:48 2025       \n",
      "+-----------------------------------------------------------------------------------------+\n",
      "| NVIDIA-SMI 560.35.02              Driver Version: 560.94         CUDA Version: 12.6     |\n",
      "|-----------------------------------------+------------------------+----------------------+\n",
      "| GPU  Name                 Persistence-M | Bus-Id          Disp.A | Volatile Uncorr. ECC |\n",
      "| Fan  Temp   Perf          Pwr:Usage/Cap |           Memory-Usage | GPU-Util  Compute M. |\n",
      "|                                         |                        |               MIG M. |\n",
      "|=========================================+========================+======================|\n",
      "|   0  NVIDIA GeForce RTX 3060        On  |   00000000:01:00.0  On |                  N/A |\n",
      "|  0%   42C    P8             11W /  170W |     419MiB /  12288MiB |      1%      Default |\n",
      "|                                         |                        |                  N/A |\n",
      "+-----------------------------------------+------------------------+----------------------+\n",
      "                                                                                         \n",
      "+-----------------------------------------------------------------------------------------+\n",
      "| Processes:                                                                              |\n",
      "|  GPU   GI   CI        PID   Type   Process name                              GPU Memory |\n",
      "|        ID   ID                                                               Usage      |\n",
      "|=========================================================================================|\n",
      "|    0   N/A  N/A        33      G   /Xwayland                                   N/A      |\n",
      "+-----------------------------------------------------------------------------------------+\n"
     ]
    },
    {
     "data": {
      "text/plain": [
       "'cuda'"
      ]
     },
     "execution_count": 4,
     "metadata": {},
     "output_type": "execute_result"
    }
   ],
   "source": [
    "!nvidia-smi\n",
    "DEVICE = 'cuda' if torch.cuda.is_available() else 'cpu'\n",
    "DEVICE"
   ]
  },
  {
   "cell_type": "code",
   "execution_count": 5,
   "metadata": {},
   "outputs": [],
   "source": [
    "model_gpt = AutoModelForCausalLM.from_pretrained(\"gpt2\",\n",
    "                                                 torch_dtype=\"auto\",\n",
    "                                                 trust_remote_code=True,\n",
    "                                                 output_hidden_states=True\n",
    "                                                 )\n",
    "tokenizer_gpt = AutoTokenizer.from_pretrained(\"gpt2\",\n",
    "                                            trust_remote_code=True\n",
    "                                            )\n",
    "\n",
    "model_gpt = model_gpt.to(DEVICE)"
   ]
  },
  {
   "cell_type": "code",
   "execution_count": 6,
   "metadata": {},
   "outputs": [],
   "source": [
    "model_phi = AutoModelForCausalLM.from_pretrained(\"microsoft/phi-1.5\",\n",
    "                                                 torch_dtype=\"auto\",\n",
    "                                                 trust_remote_code=True,\n",
    "                                                 output_hidden_states=True\n",
    "                                                 )\n",
    "tokenizer_phi = AutoTokenizer.from_pretrained(\"microsoft/phi-1.5\",\n",
    "                                            trust_remote_code=True\n",
    "                                            )\n",
    "\n",
    "model_phi = model_phi.to(DEVICE)"
   ]
  },
  {
   "cell_type": "code",
   "execution_count": 7,
   "metadata": {},
   "outputs": [
    {
     "data": {
      "text/plain": [
       "SentenceTransformer(\n",
       "  (0): Transformer({'max_seq_length': 8192, 'do_lower_case': False}) with Transformer model: XLMRobertaModel \n",
       "  (1): Pooling({'word_embedding_dimension': 1024, 'pooling_mode_cls_token': True, 'pooling_mode_mean_tokens': False, 'pooling_mode_max_tokens': False, 'pooling_mode_mean_sqrt_len_tokens': False, 'pooling_mode_weightedmean_tokens': False, 'pooling_mode_lasttoken': False, 'include_prompt': True})\n",
       "  (2): Normalize()\n",
       ")"
      ]
     },
     "execution_count": 7,
     "metadata": {},
     "output_type": "execute_result"
    }
   ],
   "source": [
    "embedding_model = SentenceTransformer(\"deepvk/USER-bge-m3\")\n",
    "\n",
    "embedding_model.to(DEVICE)"
   ]
  },
  {
   "cell_type": "markdown",
   "metadata": {},
   "source": [
    "### 1.2. Чтение Train / Test данных"
   ]
  },
  {
   "cell_type": "code",
   "execution_count": 8,
   "metadata": {},
   "outputs": [
    {
     "name": "stdout",
     "output_type": "stream",
     "text": [
      "(1572, 3)\n"
     ]
    },
    {
     "data": {
      "text/html": [
       "<div>\n",
       "<style scoped>\n",
       "    .dataframe tbody tr th:only-of-type {\n",
       "        vertical-align: middle;\n",
       "    }\n",
       "\n",
       "    .dataframe tbody tr th {\n",
       "        vertical-align: top;\n",
       "    }\n",
       "\n",
       "    .dataframe thead th {\n",
       "        text-align: right;\n",
       "    }\n",
       "</style>\n",
       "<table border=\"1\" class=\"dataframe\">\n",
       "  <thead>\n",
       "    <tr style=\"text-align: right;\">\n",
       "      <th></th>\n",
       "      <th>dialog_id</th>\n",
       "      <th>participant_index</th>\n",
       "      <th>is_bot</th>\n",
       "    </tr>\n",
       "  </thead>\n",
       "  <tbody>\n",
       "    <tr>\n",
       "      <th>0</th>\n",
       "      <td>dae9e2dae9f840549764f8d9bbbb80f0</td>\n",
       "      <td>0</td>\n",
       "      <td>0</td>\n",
       "    </tr>\n",
       "    <tr>\n",
       "      <th>1</th>\n",
       "      <td>159da0d7937c4c1e84a51f0df7e3ade6</td>\n",
       "      <td>0</td>\n",
       "      <td>0</td>\n",
       "    </tr>\n",
       "    <tr>\n",
       "      <th>2</th>\n",
       "      <td>1aed86f082234446951360d00979f0d9</td>\n",
       "      <td>0</td>\n",
       "      <td>0</td>\n",
       "    </tr>\n",
       "    <tr>\n",
       "      <th>3</th>\n",
       "      <td>ab3dbd121828403ba30d0ed4008fbea4</td>\n",
       "      <td>0</td>\n",
       "      <td>0</td>\n",
       "    </tr>\n",
       "    <tr>\n",
       "      <th>4</th>\n",
       "      <td>08ce7e4224cc411ba629f1983eba031f</td>\n",
       "      <td>0</td>\n",
       "      <td>1</td>\n",
       "    </tr>\n",
       "  </tbody>\n",
       "</table>\n",
       "</div>"
      ],
      "text/plain": [
       "                          dialog_id participant_index is_bot\n",
       "0  dae9e2dae9f840549764f8d9bbbb80f0                 0      0\n",
       "1  159da0d7937c4c1e84a51f0df7e3ade6                 0      0\n",
       "2  1aed86f082234446951360d00979f0d9                 0      0\n",
       "3  ab3dbd121828403ba30d0ed4008fbea4                 0      0\n",
       "4  08ce7e4224cc411ba629f1983eba031f                 0      1"
      ]
     },
     "execution_count": 8,
     "metadata": {},
     "output_type": "execute_result"
    }
   ],
   "source": [
    "ytrain_data = pd.read_csv('./data/ytrain.csv',\n",
    "                          dtype={'dialog_id': str,\n",
    "                                 'participant_index': str,\n",
    "                                 'is_bot': str})\n",
    "print(ytrain_data.shape)\n",
    "ytrain_data.head()"
   ]
  },
  {
   "cell_type": "code",
   "execution_count": 9,
   "metadata": {},
   "outputs": [
    {
     "name": "stdout",
     "output_type": "stream",
     "text": [
      "(676, 3)\n"
     ]
    },
    {
     "data": {
      "text/html": [
       "<div>\n",
       "<style scoped>\n",
       "    .dataframe tbody tr th:only-of-type {\n",
       "        vertical-align: middle;\n",
       "    }\n",
       "\n",
       "    .dataframe tbody tr th {\n",
       "        vertical-align: top;\n",
       "    }\n",
       "\n",
       "    .dataframe thead th {\n",
       "        text-align: right;\n",
       "    }\n",
       "</style>\n",
       "<table border=\"1\" class=\"dataframe\">\n",
       "  <thead>\n",
       "    <tr style=\"text-align: right;\">\n",
       "      <th></th>\n",
       "      <th>dialog_id</th>\n",
       "      <th>participant_index</th>\n",
       "      <th>ID</th>\n",
       "    </tr>\n",
       "  </thead>\n",
       "  <tbody>\n",
       "    <tr>\n",
       "      <th>0</th>\n",
       "      <td>af36ac2aa9734738bbd533db8e5fb43a</td>\n",
       "      <td>0</td>\n",
       "      <td>af36ac2aa9734738bbd533db8e5fb43a_0</td>\n",
       "    </tr>\n",
       "    <tr>\n",
       "      <th>1</th>\n",
       "      <td>cdc2c5c605144c8e8dd5e9ea3d1352fc</td>\n",
       "      <td>0</td>\n",
       "      <td>cdc2c5c605144c8e8dd5e9ea3d1352fc_0</td>\n",
       "    </tr>\n",
       "    <tr>\n",
       "      <th>2</th>\n",
       "      <td>ed19efdedcb24600aea67c968aba5520</td>\n",
       "      <td>0</td>\n",
       "      <td>ed19efdedcb24600aea67c968aba5520_0</td>\n",
       "    </tr>\n",
       "    <tr>\n",
       "      <th>3</th>\n",
       "      <td>f2ea031960cf4454b4596d94cbee021e</td>\n",
       "      <td>0</td>\n",
       "      <td>f2ea031960cf4454b4596d94cbee021e_0</td>\n",
       "    </tr>\n",
       "    <tr>\n",
       "      <th>4</th>\n",
       "      <td>d948808cda4944cd838f88308a9ecd8b</td>\n",
       "      <td>0</td>\n",
       "      <td>d948808cda4944cd838f88308a9ecd8b_0</td>\n",
       "    </tr>\n",
       "  </tbody>\n",
       "</table>\n",
       "</div>"
      ],
      "text/plain": [
       "                          dialog_id participant_index  \\\n",
       "0  af36ac2aa9734738bbd533db8e5fb43a                 0   \n",
       "1  cdc2c5c605144c8e8dd5e9ea3d1352fc                 0   \n",
       "2  ed19efdedcb24600aea67c968aba5520                 0   \n",
       "3  f2ea031960cf4454b4596d94cbee021e                 0   \n",
       "4  d948808cda4944cd838f88308a9ecd8b                 0   \n",
       "\n",
       "                                   ID  \n",
       "0  af36ac2aa9734738bbd533db8e5fb43a_0  \n",
       "1  cdc2c5c605144c8e8dd5e9ea3d1352fc_0  \n",
       "2  ed19efdedcb24600aea67c968aba5520_0  \n",
       "3  f2ea031960cf4454b4596d94cbee021e_0  \n",
       "4  d948808cda4944cd838f88308a9ecd8b_0  "
      ]
     },
     "execution_count": 9,
     "metadata": {},
     "output_type": "execute_result"
    }
   ],
   "source": [
    "ytest_data = pd.read_csv('./data/ytest.csv',\n",
    "                          dtype={'dialog_id': str,\n",
    "                                 'participant_index': str,\n",
    "                                 'is_bot': str})\n",
    "print(ytest_data.shape)\n",
    "ytest_data.head()"
   ]
  },
  {
   "cell_type": "code",
   "execution_count": 10,
   "metadata": {},
   "outputs": [
    {
     "data": {
      "text/plain": [
       "(dialog_id            786\n",
       " participant_index      2\n",
       " is_bot                 2\n",
       " dtype: int64,\n",
       " dialog_id            338\n",
       " participant_index      2\n",
       " ID                   676\n",
       " dtype: int64)"
      ]
     },
     "execution_count": 10,
     "metadata": {},
     "output_type": "execute_result"
    }
   ],
   "source": [
    "ytrain_data.nunique(), ytest_data.nunique()"
   ]
  },
  {
   "cell_type": "code",
   "execution_count": 11,
   "metadata": {},
   "outputs": [
    {
     "name": "stdout",
     "output_type": "stream",
     "text": [
      "(6334, 4)\n"
     ]
    },
    {
     "data": {
      "text/html": [
       "<div>\n",
       "<style scoped>\n",
       "    .dataframe tbody tr th:only-of-type {\n",
       "        vertical-align: middle;\n",
       "    }\n",
       "\n",
       "    .dataframe tbody tr th {\n",
       "        vertical-align: top;\n",
       "    }\n",
       "\n",
       "    .dataframe thead th {\n",
       "        text-align: right;\n",
       "    }\n",
       "</style>\n",
       "<table border=\"1\" class=\"dataframe\">\n",
       "  <thead>\n",
       "    <tr style=\"text-align: right;\">\n",
       "      <th></th>\n",
       "      <th>conversation_id</th>\n",
       "      <th>message_index</th>\n",
       "      <th>text</th>\n",
       "      <th>participant_index</th>\n",
       "    </tr>\n",
       "  </thead>\n",
       "  <tbody>\n",
       "    <tr>\n",
       "      <th>0</th>\n",
       "      <td>dae9e2dae9f840549764f8d9bbbb80f0</td>\n",
       "      <td>0</td>\n",
       "      <td>Hello!</td>\n",
       "      <td>0</td>\n",
       "    </tr>\n",
       "    <tr>\n",
       "      <th>1</th>\n",
       "      <td>dae9e2dae9f840549764f8d9bbbb80f0</td>\n",
       "      <td>1</td>\n",
       "      <td>Как дела?</td>\n",
       "      <td>1</td>\n",
       "    </tr>\n",
       "    <tr>\n",
       "      <th>2</th>\n",
       "      <td>dae9e2dae9f840549764f8d9bbbb80f0</td>\n",
       "      <td>2</td>\n",
       "      <td>Отлично! А твои?</td>\n",
       "      <td>0</td>\n",
       "    </tr>\n",
       "    <tr>\n",
       "      <th>3</th>\n",
       "      <td>dae9e2dae9f840549764f8d9bbbb80f0</td>\n",
       "      <td>3</td>\n",
       "      <td>Это круто!</td>\n",
       "      <td>1</td>\n",
       "    </tr>\n",
       "    <tr>\n",
       "      <th>4</th>\n",
       "      <td>dae9e2dae9f840549764f8d9bbbb80f0</td>\n",
       "      <td>4</td>\n",
       "      <td>Расскажи теорему</td>\n",
       "      <td>0</td>\n",
       "    </tr>\n",
       "  </tbody>\n",
       "</table>\n",
       "</div>"
      ],
      "text/plain": [
       "                    conversation_id  message_index              text  \\\n",
       "0  dae9e2dae9f840549764f8d9bbbb80f0              0            Hello!   \n",
       "1  dae9e2dae9f840549764f8d9bbbb80f0              1         Как дела?   \n",
       "2  dae9e2dae9f840549764f8d9bbbb80f0              2  Отлично! А твои?   \n",
       "3  dae9e2dae9f840549764f8d9bbbb80f0              3        Это круто!   \n",
       "4  dae9e2dae9f840549764f8d9bbbb80f0              4  Расскажи теорему   \n",
       "\n",
       "  participant_index  \n",
       "0                 0  \n",
       "1                 1  \n",
       "2                 0  \n",
       "3                 1  \n",
       "4                 0  "
      ]
     },
     "execution_count": 11,
     "metadata": {},
     "output_type": "execute_result"
    }
   ],
   "source": [
    "with open(\"./data/train.json\") as data:\n",
    "    train = json.load(data)\n",
    "\n",
    "parsed_data = []\n",
    "\n",
    "for key, messages in train.items():\n",
    "    for message in messages:\n",
    "        # Добавляем каждое сообщение в список с дополнительным полем \"conversation_id\"\n",
    "        parsed_data.append({\n",
    "            'conversation_id': key,\n",
    "            'message_index': message['message'],\n",
    "            'text': message['text'],\n",
    "            'participant_index': message['participant_index']\n",
    "        })\n",
    "\n",
    "train = pd.DataFrame(parsed_data)\n",
    "print(train.shape)\n",
    "train.head()"
   ]
  },
  {
   "cell_type": "code",
   "execution_count": 12,
   "metadata": {},
   "outputs": [
    {
     "name": "stdout",
     "output_type": "stream",
     "text": [
      "(2955, 4)\n"
     ]
    },
    {
     "data": {
      "text/html": [
       "<div>\n",
       "<style scoped>\n",
       "    .dataframe tbody tr th:only-of-type {\n",
       "        vertical-align: middle;\n",
       "    }\n",
       "\n",
       "    .dataframe tbody tr th {\n",
       "        vertical-align: top;\n",
       "    }\n",
       "\n",
       "    .dataframe thead th {\n",
       "        text-align: right;\n",
       "    }\n",
       "</style>\n",
       "<table border=\"1\" class=\"dataframe\">\n",
       "  <thead>\n",
       "    <tr style=\"text-align: right;\">\n",
       "      <th></th>\n",
       "      <th>conversation_id</th>\n",
       "      <th>message_index</th>\n",
       "      <th>text</th>\n",
       "      <th>participant_index</th>\n",
       "    </tr>\n",
       "  </thead>\n",
       "  <tbody>\n",
       "    <tr>\n",
       "      <th>0</th>\n",
       "      <td>af36ac2aa9734738bbd533db8e5fb43a</td>\n",
       "      <td>0</td>\n",
       "      <td>Привет</td>\n",
       "      <td>0</td>\n",
       "    </tr>\n",
       "    <tr>\n",
       "      <th>1</th>\n",
       "      <td>af36ac2aa9734738bbd533db8e5fb43a</td>\n",
       "      <td>1</td>\n",
       "      <td>кто ты?</td>\n",
       "      <td>1</td>\n",
       "    </tr>\n",
       "    <tr>\n",
       "      <th>2</th>\n",
       "      <td>af36ac2aa9734738bbd533db8e5fb43a</td>\n",
       "      <td>2</td>\n",
       "      <td>привет</td>\n",
       "      <td>0</td>\n",
       "    </tr>\n",
       "    <tr>\n",
       "      <th>3</th>\n",
       "      <td>af36ac2aa9734738bbd533db8e5fb43a</td>\n",
       "      <td>3</td>\n",
       "      <td>Я - виртуальный помощник</td>\n",
       "      <td>1</td>\n",
       "    </tr>\n",
       "    <tr>\n",
       "      <th>4</th>\n",
       "      <td>af36ac2aa9734738bbd533db8e5fb43a</td>\n",
       "      <td>4</td>\n",
       "      <td>ты бот?</td>\n",
       "      <td>0</td>\n",
       "    </tr>\n",
       "  </tbody>\n",
       "</table>\n",
       "</div>"
      ],
      "text/plain": [
       "                    conversation_id  message_index                      text  \\\n",
       "0  af36ac2aa9734738bbd533db8e5fb43a              0                    Привет   \n",
       "1  af36ac2aa9734738bbd533db8e5fb43a              1                   кто ты?   \n",
       "2  af36ac2aa9734738bbd533db8e5fb43a              2                    привет   \n",
       "3  af36ac2aa9734738bbd533db8e5fb43a              3  Я - виртуальный помощник   \n",
       "4  af36ac2aa9734738bbd533db8e5fb43a              4                   ты бот?   \n",
       "\n",
       "  participant_index  \n",
       "0                 0  \n",
       "1                 1  \n",
       "2                 0  \n",
       "3                 1  \n",
       "4                 0  "
      ]
     },
     "execution_count": 12,
     "metadata": {},
     "output_type": "execute_result"
    }
   ],
   "source": [
    "with open(\"./data/test.json\") as data:\n",
    "    test = json.load(data)\n",
    "\n",
    "parsed_data = []\n",
    "\n",
    "for key, messages in test.items():\n",
    "    for message in messages:\n",
    "        # Добавляем каждое сообщение в список с дополнительным полем \"conversation_id\"\n",
    "        parsed_data.append({\n",
    "            'conversation_id': key,\n",
    "            'message_index': message['message'],\n",
    "            'text': message['text'],\n",
    "            'participant_index': message['participant_index']\n",
    "        })\n",
    "\n",
    "test = pd.DataFrame(parsed_data)\n",
    "print(test.shape)\n",
    "test.head()"
   ]
  },
  {
   "cell_type": "code",
   "execution_count": 13,
   "metadata": {},
   "outputs": [
    {
     "name": "stdout",
     "output_type": "stream",
     "text": [
      "(6334, 4)\n"
     ]
    },
    {
     "data": {
      "text/html": [
       "<div>\n",
       "<style scoped>\n",
       "    .dataframe tbody tr th:only-of-type {\n",
       "        vertical-align: middle;\n",
       "    }\n",
       "\n",
       "    .dataframe tbody tr th {\n",
       "        vertical-align: top;\n",
       "    }\n",
       "\n",
       "    .dataframe thead th {\n",
       "        text-align: right;\n",
       "    }\n",
       "</style>\n",
       "<table border=\"1\" class=\"dataframe\">\n",
       "  <thead>\n",
       "    <tr style=\"text-align: right;\">\n",
       "      <th></th>\n",
       "      <th>ID</th>\n",
       "      <th>message_index</th>\n",
       "      <th>text</th>\n",
       "      <th>is_bot</th>\n",
       "    </tr>\n",
       "  </thead>\n",
       "  <tbody>\n",
       "    <tr>\n",
       "      <th>0</th>\n",
       "      <td>dae9e2dae9f840549764f8d9bbbb80f0_0</td>\n",
       "      <td>0</td>\n",
       "      <td>Hello!</td>\n",
       "      <td>0</td>\n",
       "    </tr>\n",
       "    <tr>\n",
       "      <th>1</th>\n",
       "      <td>dae9e2dae9f840549764f8d9bbbb80f0_1</td>\n",
       "      <td>1</td>\n",
       "      <td>Как дела?</td>\n",
       "      <td>0</td>\n",
       "    </tr>\n",
       "    <tr>\n",
       "      <th>2</th>\n",
       "      <td>dae9e2dae9f840549764f8d9bbbb80f0_0</td>\n",
       "      <td>2</td>\n",
       "      <td>Отлично! А твои?</td>\n",
       "      <td>0</td>\n",
       "    </tr>\n",
       "    <tr>\n",
       "      <th>3</th>\n",
       "      <td>dae9e2dae9f840549764f8d9bbbb80f0_1</td>\n",
       "      <td>3</td>\n",
       "      <td>Это круто!</td>\n",
       "      <td>0</td>\n",
       "    </tr>\n",
       "    <tr>\n",
       "      <th>4</th>\n",
       "      <td>dae9e2dae9f840549764f8d9bbbb80f0_0</td>\n",
       "      <td>4</td>\n",
       "      <td>Расскажи теорему</td>\n",
       "      <td>0</td>\n",
       "    </tr>\n",
       "  </tbody>\n",
       "</table>\n",
       "</div>"
      ],
      "text/plain": [
       "                                   ID  message_index              text is_bot\n",
       "0  dae9e2dae9f840549764f8d9bbbb80f0_0              0            Hello!      0\n",
       "1  dae9e2dae9f840549764f8d9bbbb80f0_1              1         Как дела?      0\n",
       "2  dae9e2dae9f840549764f8d9bbbb80f0_0              2  Отлично! А твои?      0\n",
       "3  dae9e2dae9f840549764f8d9bbbb80f0_1              3        Это круто!      0\n",
       "4  dae9e2dae9f840549764f8d9bbbb80f0_0              4  Расскажи теорему      0"
      ]
     },
     "execution_count": 13,
     "metadata": {},
     "output_type": "execute_result"
    }
   ],
   "source": [
    "train_data = (train.merge(ytrain_data,\n",
    "                          how='left',\n",
    "                          left_on=['conversation_id', 'participant_index'],\n",
    "                          right_on=['dialog_id', 'participant_index']))\n",
    "\n",
    "train_data['ID'] = train_data['conversation_id'] + '_' + train_data['participant_index']\n",
    "train_data = train_data[['ID', 'message_index', 'text', 'is_bot']]\n",
    "print(train_data.shape)\n",
    "train_data.head()"
   ]
  },
  {
   "cell_type": "code",
   "execution_count": 14,
   "metadata": {},
   "outputs": [
    {
     "name": "stdout",
     "output_type": "stream",
     "text": [
      "(2955, 3)\n"
     ]
    },
    {
     "data": {
      "text/html": [
       "<div>\n",
       "<style scoped>\n",
       "    .dataframe tbody tr th:only-of-type {\n",
       "        vertical-align: middle;\n",
       "    }\n",
       "\n",
       "    .dataframe tbody tr th {\n",
       "        vertical-align: top;\n",
       "    }\n",
       "\n",
       "    .dataframe thead th {\n",
       "        text-align: right;\n",
       "    }\n",
       "</style>\n",
       "<table border=\"1\" class=\"dataframe\">\n",
       "  <thead>\n",
       "    <tr style=\"text-align: right;\">\n",
       "      <th></th>\n",
       "      <th>ID</th>\n",
       "      <th>message_index</th>\n",
       "      <th>text</th>\n",
       "    </tr>\n",
       "  </thead>\n",
       "  <tbody>\n",
       "    <tr>\n",
       "      <th>0</th>\n",
       "      <td>af36ac2aa9734738bbd533db8e5fb43a_0</td>\n",
       "      <td>0</td>\n",
       "      <td>Привет</td>\n",
       "    </tr>\n",
       "    <tr>\n",
       "      <th>1</th>\n",
       "      <td>af36ac2aa9734738bbd533db8e5fb43a_1</td>\n",
       "      <td>1</td>\n",
       "      <td>кто ты?</td>\n",
       "    </tr>\n",
       "    <tr>\n",
       "      <th>2</th>\n",
       "      <td>af36ac2aa9734738bbd533db8e5fb43a_0</td>\n",
       "      <td>2</td>\n",
       "      <td>привет</td>\n",
       "    </tr>\n",
       "    <tr>\n",
       "      <th>3</th>\n",
       "      <td>af36ac2aa9734738bbd533db8e5fb43a_1</td>\n",
       "      <td>3</td>\n",
       "      <td>Я - виртуальный помощник</td>\n",
       "    </tr>\n",
       "    <tr>\n",
       "      <th>4</th>\n",
       "      <td>af36ac2aa9734738bbd533db8e5fb43a_0</td>\n",
       "      <td>4</td>\n",
       "      <td>ты бот?</td>\n",
       "    </tr>\n",
       "  </tbody>\n",
       "</table>\n",
       "</div>"
      ],
      "text/plain": [
       "                                   ID  message_index                      text\n",
       "0  af36ac2aa9734738bbd533db8e5fb43a_0              0                    Привет\n",
       "1  af36ac2aa9734738bbd533db8e5fb43a_1              1                   кто ты?\n",
       "2  af36ac2aa9734738bbd533db8e5fb43a_0              2                    привет\n",
       "3  af36ac2aa9734738bbd533db8e5fb43a_1              3  Я - виртуальный помощник\n",
       "4  af36ac2aa9734738bbd533db8e5fb43a_0              4                   ты бот?"
      ]
     },
     "execution_count": 14,
     "metadata": {},
     "output_type": "execute_result"
    }
   ],
   "source": [
    "submission_data = (test.merge(ytest_data,\n",
    "                               how='left',\n",
    "                               left_on=['conversation_id', 'participant_index'],\n",
    "                               right_on=['dialog_id', 'participant_index']))\n",
    "\n",
    "submission_data = submission_data[['ID', 'message_index', 'text']]\n",
    "print(submission_data.shape)\n",
    "submission_data.head()"
   ]
  },
  {
   "cell_type": "markdown",
   "metadata": {},
   "source": [
    "---\n",
    "### 1.3. Подготовка данных для обучения\n",
    "- Для моделей трансформеров gpt2 и phi приведем к нижнему регистру\n",
    "- Для TfIdfVectorizer приведем к нижнему регистру, удалим спец символы, числа, стопслова и нормализуем оставшиеся токены"
   ]
  },
  {
   "cell_type": "code",
   "execution_count": 15,
   "metadata": {},
   "outputs": [],
   "source": [
    "ENG_STOP_WORDS = list(set(stopwords.words('english')))\n",
    "RUS_STOP_WORDS = list(set(stopwords.words('russian')))\n",
    "STOP_WORDS = ENG_STOP_WORDS + RUS_STOP_WORDS\n",
    "PUNCT_WORD_TOKENIZER = nltk.WordPunctTokenizer()\n",
    "MORPH_ANALYZER = pymorphy2.MorphAnalyzer()\n",
    "\n",
    "\n",
    "def preprocess_text(text, stopwords: set=()):\n",
    "    \"\"\"\n",
    "    Функция предобработки текста\n",
    "        text - текст\n",
    "        stopwords - стопслова\n",
    "    \"\"\"\n",
    "    \n",
    "    text = text.lower() # Приводим текст к нижнему регистру\n",
    "    cleaned_text = re.sub(r\"[^\\w\\s]\", \"\", text, flags=re.UNICODE)  # Удаляем специальные символы\n",
    "    cleaned_text = re.sub(r\"[0-9]+\", \"\", cleaned_text)            # Удаляем числа\n",
    "    cleaned_text = re.sub(r\"\\s+\", \" \", cleaned_text).strip()      # Убираем лишние пробелы\n",
    "\n",
    "    tokens = PUNCT_WORD_TOKENIZER.tokenize(cleaned_text)\n",
    "    norm_tokens = [MORPH_ANALYZER.parse(token)[0].normal_form for token in tokens]\n",
    "    tokens_for_tfidf = [token for token in norm_tokens if token not in stopwords]\n",
    "    text_for_tfidf = ' '.join(tokens_for_tfidf)\n",
    "\n",
    "    return re.sub(r\"\\s+\", \" \", text).strip(), text_for_tfidf"
   ]
  },
  {
   "cell_type": "code",
   "execution_count": 16,
   "metadata": {},
   "outputs": [],
   "source": [
    "train_data[['text_for_transformers', 'text_for_vectorizer']] = (train_data['text']\n",
    "    .apply(lambda x: pd.Series(preprocess_text(text=x,\n",
    "                                     stopwords=STOP_WORDS))\n",
    "           )\n",
    ")"
   ]
  },
  {
   "cell_type": "code",
   "execution_count": 17,
   "metadata": {},
   "outputs": [
    {
     "data": {
      "text/html": [
       "<div>\n",
       "<style scoped>\n",
       "    .dataframe tbody tr th:only-of-type {\n",
       "        vertical-align: middle;\n",
       "    }\n",
       "\n",
       "    .dataframe tbody tr th {\n",
       "        vertical-align: top;\n",
       "    }\n",
       "\n",
       "    .dataframe thead th {\n",
       "        text-align: right;\n",
       "    }\n",
       "</style>\n",
       "<table border=\"1\" class=\"dataframe\">\n",
       "  <thead>\n",
       "    <tr style=\"text-align: right;\">\n",
       "      <th></th>\n",
       "      <th>ID</th>\n",
       "      <th>message_index</th>\n",
       "      <th>text</th>\n",
       "      <th>is_bot</th>\n",
       "      <th>text_for_transformers</th>\n",
       "      <th>text_for_vectorizer</th>\n",
       "    </tr>\n",
       "  </thead>\n",
       "  <tbody>\n",
       "    <tr>\n",
       "      <th>0</th>\n",
       "      <td>dae9e2dae9f840549764f8d9bbbb80f0_0</td>\n",
       "      <td>0</td>\n",
       "      <td>Hello!</td>\n",
       "      <td>0</td>\n",
       "      <td>hello!</td>\n",
       "      <td>hello</td>\n",
       "    </tr>\n",
       "    <tr>\n",
       "      <th>1</th>\n",
       "      <td>dae9e2dae9f840549764f8d9bbbb80f0_1</td>\n",
       "      <td>1</td>\n",
       "      <td>Как дела?</td>\n",
       "      <td>0</td>\n",
       "      <td>как дела?</td>\n",
       "      <td>дело</td>\n",
       "    </tr>\n",
       "    <tr>\n",
       "      <th>2</th>\n",
       "      <td>dae9e2dae9f840549764f8d9bbbb80f0_0</td>\n",
       "      <td>2</td>\n",
       "      <td>Отлично! А твои?</td>\n",
       "      <td>0</td>\n",
       "      <td>отлично! а твои?</td>\n",
       "      <td>отлично твой</td>\n",
       "    </tr>\n",
       "    <tr>\n",
       "      <th>3</th>\n",
       "      <td>dae9e2dae9f840549764f8d9bbbb80f0_1</td>\n",
       "      <td>3</td>\n",
       "      <td>Это круто!</td>\n",
       "      <td>0</td>\n",
       "      <td>это круто!</td>\n",
       "      <td>это круто</td>\n",
       "    </tr>\n",
       "    <tr>\n",
       "      <th>4</th>\n",
       "      <td>dae9e2dae9f840549764f8d9bbbb80f0_0</td>\n",
       "      <td>4</td>\n",
       "      <td>Расскажи теорему</td>\n",
       "      <td>0</td>\n",
       "      <td>расскажи теорему</td>\n",
       "      <td>рассказать теорема</td>\n",
       "    </tr>\n",
       "  </tbody>\n",
       "</table>\n",
       "</div>"
      ],
      "text/plain": [
       "                                   ID  message_index              text is_bot  \\\n",
       "0  dae9e2dae9f840549764f8d9bbbb80f0_0              0            Hello!      0   \n",
       "1  dae9e2dae9f840549764f8d9bbbb80f0_1              1         Как дела?      0   \n",
       "2  dae9e2dae9f840549764f8d9bbbb80f0_0              2  Отлично! А твои?      0   \n",
       "3  dae9e2dae9f840549764f8d9bbbb80f0_1              3        Это круто!      0   \n",
       "4  dae9e2dae9f840549764f8d9bbbb80f0_0              4  Расскажи теорему      0   \n",
       "\n",
       "  text_for_transformers text_for_vectorizer  \n",
       "0                hello!               hello  \n",
       "1             как дела?                дело  \n",
       "2      отлично! а твои?        отлично твой  \n",
       "3            это круто!           это круто  \n",
       "4      расскажи теорему  рассказать теорема  "
      ]
     },
     "execution_count": 17,
     "metadata": {},
     "output_type": "execute_result"
    }
   ],
   "source": [
    "train_data.head()"
   ]
  },
  {
   "cell_type": "code",
   "execution_count": 18,
   "metadata": {},
   "outputs": [
    {
     "name": "stdout",
     "output_type": "stream",
     "text": [
      "(1572, 6)\n"
     ]
    },
    {
     "data": {
      "text/html": [
       "<div>\n",
       "<style scoped>\n",
       "    .dataframe tbody tr th:only-of-type {\n",
       "        vertical-align: middle;\n",
       "    }\n",
       "\n",
       "    .dataframe tbody tr th {\n",
       "        vertical-align: top;\n",
       "    }\n",
       "\n",
       "    .dataframe thead th {\n",
       "        text-align: right;\n",
       "    }\n",
       "</style>\n",
       "<table border=\"1\" class=\"dataframe\">\n",
       "  <thead>\n",
       "    <tr style=\"text-align: right;\">\n",
       "      <th></th>\n",
       "      <th>ID</th>\n",
       "      <th>text</th>\n",
       "      <th>text_for_transformers</th>\n",
       "      <th>text_for_vectorizer</th>\n",
       "      <th>text_for_embeddings</th>\n",
       "      <th>is_bot</th>\n",
       "    </tr>\n",
       "  </thead>\n",
       "  <tbody>\n",
       "    <tr>\n",
       "      <th>0</th>\n",
       "      <td>000c0bd4f6554034ae2a050b5d8f6dea_0</td>\n",
       "      <td>[че как?, жопа жопа/, жопич жопич]</td>\n",
       "      <td>[че как?, жопа жопа/, жопич жопич]</td>\n",
       "      <td>че жопа жопа жопич жопич</td>\n",
       "      <td>че как? жопа жопа/ жопич жопич</td>\n",
       "      <td>1</td>\n",
       "    </tr>\n",
       "    <tr>\n",
       "      <th>1</th>\n",
       "      <td>000c0bd4f6554034ae2a050b5d8f6dea_1</td>\n",
       "      <td>[Жопка, жопич]</td>\n",
       "      <td>[жопка, жопич]</td>\n",
       "      <td>жопка жопич</td>\n",
       "      <td>жопка жопич</td>\n",
       "      <td>0</td>\n",
       "    </tr>\n",
       "    <tr>\n",
       "      <th>2</th>\n",
       "      <td>009952d565384a69b5ddf1ec76608391_0</td>\n",
       "      <td>[чио рио?, да это отсылка, но почему именно на...</td>\n",
       "      <td>[чио рио?, да это отсылка, но почему именно на...</td>\n",
       "      <td>чио рио это отсылка почему именно это</td>\n",
       "      <td>чио рио? да это отсылка, но почему именно на это</td>\n",
       "      <td>0</td>\n",
       "    </tr>\n",
       "    <tr>\n",
       "      <th>3</th>\n",
       "      <td>009952d565384a69b5ddf1ec76608391_1</td>\n",
       "      <td>[\"Чио Рио\" – это, вероятно, отсылка к популярн...</td>\n",
       "      <td>[\"чио рио\" – это, вероятно, отсылка к популярн...</td>\n",
       "      <td>чио рио это вероятно отсылка популярный песня ...</td>\n",
       "      <td>\"чио рио\" – это, вероятно, отсылка к популярно...</td>\n",
       "      <td>1</td>\n",
       "    </tr>\n",
       "    <tr>\n",
       "      <th>4</th>\n",
       "      <td>00a66ccfbb7f42f39da2b641072d5ef6_0</td>\n",
       "      <td>[I am OpenAI Assistant!, опенэйаю, ну то и имею]</td>\n",
       "      <td>[i am openai assistant!, опенэйаю, ну то и имею]</td>\n",
       "      <td>openai assistant опенэйать иметь</td>\n",
       "      <td>i am openai assistant! опенэйаю ну то и имею</td>\n",
       "      <td>0</td>\n",
       "    </tr>\n",
       "  </tbody>\n",
       "</table>\n",
       "</div>"
      ],
      "text/plain": [
       "                                   ID  \\\n",
       "0  000c0bd4f6554034ae2a050b5d8f6dea_0   \n",
       "1  000c0bd4f6554034ae2a050b5d8f6dea_1   \n",
       "2  009952d565384a69b5ddf1ec76608391_0   \n",
       "3  009952d565384a69b5ddf1ec76608391_1   \n",
       "4  00a66ccfbb7f42f39da2b641072d5ef6_0   \n",
       "\n",
       "                                                text  \\\n",
       "0                 [че как?, жопа жопа/, жопич жопич]   \n",
       "1                                     [Жопка, жопич]   \n",
       "2  [чио рио?, да это отсылка, но почему именно на...   \n",
       "3  [\"Чио Рио\" – это, вероятно, отсылка к популярн...   \n",
       "4   [I am OpenAI Assistant!, опенэйаю, ну то и имею]   \n",
       "\n",
       "                               text_for_transformers  \\\n",
       "0                 [че как?, жопа жопа/, жопич жопич]   \n",
       "1                                     [жопка, жопич]   \n",
       "2  [чио рио?, да это отсылка, но почему именно на...   \n",
       "3  [\"чио рио\" – это, вероятно, отсылка к популярн...   \n",
       "4   [i am openai assistant!, опенэйаю, ну то и имею]   \n",
       "\n",
       "                                 text_for_vectorizer  \\\n",
       "0                           че жопа жопа жопич жопич   \n",
       "1                                        жопка жопич   \n",
       "2              чио рио это отсылка почему именно это   \n",
       "3  чио рио это вероятно отсылка популярный песня ...   \n",
       "4                   openai assistant опенэйать иметь   \n",
       "\n",
       "                                 text_for_embeddings is_bot  \n",
       "0                     че как? жопа жопа/ жопич жопич      1  \n",
       "1                                        жопка жопич      0  \n",
       "2   чио рио? да это отсылка, но почему именно на это      0  \n",
       "3  \"чио рио\" – это, вероятно, отсылка к популярно...      1  \n",
       "4       i am openai assistant! опенэйаю ну то и имею      0  "
      ]
     },
     "execution_count": 18,
     "metadata": {},
     "output_type": "execute_result"
    }
   ],
   "source": [
    "# Сортируем по ID и индексу сообщения\n",
    "## Приводим текст по учатнику в список для расчета перплексии и производных\n",
    "### Приводим предобработанный текст в строку для TfIdfVectorizer\n",
    "#### Приводим текст в нижнем регистре для дальнейшей обработки эмбеддинг моделей\n",
    "\n",
    "train_data = train_data.sort_values(by=['ID', 'message_index'])\n",
    "\n",
    "def aggregate_group(group):\n",
    "    text = group['text'].tolist()\n",
    "    text_for_transformers = group['text_for_transformers'].tolist()\n",
    "    text_for_vectorizer = ' '.join(group['text_for_vectorizer'].tolist())\n",
    "    text_for_embeddings = ' '.join(group['text_for_transformers'].tolist())\n",
    "    \n",
    "    unique_is_bot = group['is_bot'].unique()\n",
    "    if len(unique_is_bot) == 1:\n",
    "        is_bot_value = unique_is_bot[0]\n",
    "    else:\n",
    "        is_bot_value = '-1'\n",
    "    \n",
    "    return pd.Series({\n",
    "        'text': text,\n",
    "        'text_for_transformers': text_for_transformers,\n",
    "        'text_for_vectorizer': text_for_vectorizer,\n",
    "        'text_for_embeddings': text_for_embeddings,\n",
    "        'is_bot': is_bot_value\n",
    "    })\n",
    "\n",
    "result_train_df = train_data.groupby('ID').apply(aggregate_group).reset_index()\n",
    "print(result_train_df.shape)\n",
    "result_train_df.head()"
   ]
  },
  {
   "cell_type": "code",
   "execution_count": 19,
   "metadata": {},
   "outputs": [],
   "source": [
    "# Формируем датасет\n",
    "\n",
    "train_df = result_train_df.reset_index(drop=True).copy()\n",
    "train_dataset = Dataset.from_pandas(train_df)\n",
    "\n",
    "splits = {'train': train_dataset}"
   ]
  },
  {
   "cell_type": "code",
   "execution_count": 20,
   "metadata": {},
   "outputs": [],
   "source": [
    "def calculate_perplexity(text, model, tokenizer, device):\n",
    "        \n",
    "    # Токенизация\n",
    "    encodings = tokenizer(text, return_tensors=\"pt\", truncation=True, max_length=512)\n",
    "    encodings = {k: v.to(device) for k, v in encodings.items()}\n",
    "\n",
    "    input_ids = encodings[\"input_ids\"]\n",
    "    with torch.no_grad():\n",
    "        outputs = model(**encodings, labels=input_ids)\n",
    "        neg_log_likelihood = outputs.loss.item()\n",
    "\n",
    "    perplexity = math.exp(neg_log_likelihood)\n",
    "    return perplexity"
   ]
  },
  {
   "cell_type": "code",
   "execution_count": 21,
   "metadata": {
    "scrolled": true
   },
   "outputs": [
    {
     "name": "stderr",
     "output_type": "stream",
     "text": [
      "  0%|                                                                                          | 0/1572 [00:00<?, ?it/s]`loss_type=None` was set in the config but it is unrecognised.Using the default loss: `ForCausalLMLoss`.\n",
      " 38%|██████████████████████████████▏                                                 | 593/1572 [01:33<03:19,  4.91it/s]"
     ]
    },
    {
     "name": "stdout",
     "output_type": "stream",
     "text": [
      "Error processing sample ID 5d722e49c3f544658f78a9c3d8abab58_1: cannot reshape tensor of 0 elements into shape [-1, 0] because the unspecified dimension size -1 can be any value and is ambiguous\n",
      "Error processing sample ID 5d722e49c3f544658f78a9c3d8abab58_1: Expected tensor for argument #1 'indices' to have one of the following scalar types: Long, Int; but got torch.cuda.FloatTensor instead (while checking arguments for embedding)\n"
     ]
    },
    {
     "name": "stderr",
     "output_type": "stream",
     "text": [
      " 87%|████████████████████████████████████████████████████████████████████▍          | 1362/1572 [03:57<00:25,  8.19it/s]"
     ]
    },
    {
     "name": "stdout",
     "output_type": "stream",
     "text": [
      "Error processing sample ID dc815a924a094629af5ad9435eae071a_1: cannot reshape tensor of 0 elements into shape [-1, 0] because the unspecified dimension size -1 can be any value and is ambiguous\n",
      "Error processing sample ID dc815a924a094629af5ad9435eae071a_1: Expected tensor for argument #1 'indices' to have one of the following scalar types: Long, Int; but got torch.cuda.FloatTensor instead (while checking arguments for embedding)\n"
     ]
    },
    {
     "name": "stderr",
     "output_type": "stream",
     "text": [
      "100%|███████████████████████████████████████████████████████████████████████████████| 1572/1572 [04:30<00:00,  5.82it/s]\n"
     ]
    }
   ],
   "source": [
    "# Расчитываем перплексии двумя моделями gpt2 и phi\n",
    "\n",
    "APPLY = True\n",
    "\n",
    "if APPLY:\n",
    "    perplexity_per_sample = defaultdict(list)\n",
    "    \n",
    "    for split in splits:\n",
    "        for sample in tqdm(splits[split]):\n",
    "            sample_id = sample[\"ID\"]\n",
    "            text = sample[\"text\"]\n",
    "            text_for_transformers = sample[\"text_for_transformers\"]\n",
    "            text_for_vectorizer = sample[\"text_for_vectorizer\"]\n",
    "            text_for_embeddings = sample[\"text_for_embeddings\"]\n",
    "            label = sample[\"is_bot\"]\n",
    "\n",
    "            cumulative_text = \"\"\n",
    "            perplexities_gpt = []\n",
    "            perplexities_phi = []\n",
    "            for i in range(1, len(text_for_transformers) + 1):\n",
    "                cumulative_text = ' '.join(text_for_transformers[:i])\n",
    "                try:\n",
    "                    ppl_gpt = calculate_perplexity(cumulative_text, model_gpt, tokenizer_gpt, DEVICE)\n",
    "                    if np.isnan(ppl_gpt):\n",
    "                        ppl_gpt = 0                \n",
    "                    perplexities_gpt.append(ppl_gpt)\n",
    "                except Exception as e:\n",
    "                    print(f\"Error processing sample ID {sample_id}: {e}\")\n",
    "                    perplexities_gpt.append(0)  # None при ошибке расчета перплексии\n",
    "                    \n",
    "                try:\n",
    "                    ppl_phi = calculate_perplexity(cumulative_text, model_phi, tokenizer_phi, DEVICE)\n",
    "                    if np.isnan(ppl_phi):\n",
    "                        ppl_phi = 0                    \n",
    "                    perplexities_phi.append(ppl_phi)\n",
    "                except Exception as e:\n",
    "                    print(f\"Error processing sample ID {sample_id}: {e}\")\n",
    "                    perplexities_phi.append(0)  # None при ошибке расчета перплексии\n",
    "        \n",
    "            perplexity_per_sample[split].append({\n",
    "                \"ID\": sample_id,\n",
    "                \"text\": text,\n",
    "                \"text_for_transformers\": text_for_transformers,\n",
    "                \"text_for_vectorizer\": text_for_vectorizer,\n",
    "                \"text_for_embeddings\": text_for_embeddings,\n",
    "                \"perplexities_gpt\": perplexities_gpt,\n",
    "                \"perplexities_phi\": perplexities_phi,\n",
    "                \"label\": label\n",
    "            })\n",
    "\n",
    "    with open('./data/perplexity_per_sample.pkl', 'wb') as f:\n",
    "        pickle.dump(perplexity_per_sample, f)\n",
    "else:\n",
    "    with open('./data/perplexity_per_sample.pkl', 'rb') as f:\n",
    "        perplexity_per_sample = pickle.load(f)"
   ]
  },
  {
   "cell_type": "code",
   "execution_count": 22,
   "metadata": {},
   "outputs": [],
   "source": [
    "def calculate_statistics(perplexities, name_model: str):\n",
    "    \n",
    "    mean_ppl = np.mean(perplexities)\n",
    "    var_ppl = np.var(perplexities)\n",
    "    min_ppl = np.min(perplexities)\n",
    "    max_ppl = np.max(perplexities)\n",
    "    \n",
    "    return {f'mean_ppl_{name_model}': mean_ppl,\n",
    "            f'var_ppl_{name_model}': var_ppl,\n",
    "            f'min_ppl_{name_model}': min_ppl,\n",
    "            f'max_ppl_{name_model}': max_ppl}"
   ]
  },
  {
   "cell_type": "code",
   "execution_count": 23,
   "metadata": {},
   "outputs": [
    {
     "name": "stdout",
     "output_type": "stream",
     "text": [
      "(1572, 18)\n"
     ]
    },
    {
     "data": {
      "text/html": [
       "<div>\n",
       "<style scoped>\n",
       "    .dataframe tbody tr th:only-of-type {\n",
       "        vertical-align: middle;\n",
       "    }\n",
       "\n",
       "    .dataframe tbody tr th {\n",
       "        vertical-align: top;\n",
       "    }\n",
       "\n",
       "    .dataframe thead th {\n",
       "        text-align: right;\n",
       "    }\n",
       "</style>\n",
       "<table border=\"1\" class=\"dataframe\">\n",
       "  <thead>\n",
       "    <tr style=\"text-align: right;\">\n",
       "      <th></th>\n",
       "      <th>ID</th>\n",
       "      <th>text</th>\n",
       "      <th>text_for_transformers</th>\n",
       "      <th>text_for_vectorizer</th>\n",
       "      <th>text_for_embeddings</th>\n",
       "      <th>perplexities_gpt</th>\n",
       "      <th>perplexities_phi</th>\n",
       "      <th>label</th>\n",
       "      <th>cnt_ppl</th>\n",
       "      <th>mean_ppl_gpt</th>\n",
       "      <th>var_ppl_gpt</th>\n",
       "      <th>min_ppl_gpt</th>\n",
       "      <th>max_ppl_gpt</th>\n",
       "      <th>mean_ppl_phi</th>\n",
       "      <th>var_ppl_phi</th>\n",
       "      <th>min_ppl_phi</th>\n",
       "      <th>max_ppl_phi</th>\n",
       "      <th>avg_ppl</th>\n",
       "    </tr>\n",
       "  </thead>\n",
       "  <tbody>\n",
       "    <tr>\n",
       "      <th>0</th>\n",
       "      <td>000c0bd4f6554034ae2a050b5d8f6dea_0</td>\n",
       "      <td>[че как?, жопа жопа/, жопич жопич]</td>\n",
       "      <td>[че как?, жопа жопа/, жопич жопич]</td>\n",
       "      <td>че жопа жопа жопич жопич</td>\n",
       "      <td>че как? жопа жопа/ жопич жопич</td>\n",
       "      <td>[36.42694618834118, 28.71152507153782, 13.8200...</td>\n",
       "      <td>[17.519877373831033, 29.021882035975807, 12.91...</td>\n",
       "      <td>1</td>\n",
       "      <td>3</td>\n",
       "      <td>26.319518</td>\n",
       "      <td>8.803924e+01</td>\n",
       "      <td>13.820081</td>\n",
       "      <td>36.426946</td>\n",
       "      <td>19.819783</td>\n",
       "      <td>4.586949e+01</td>\n",
       "      <td>12.917590</td>\n",
       "      <td>29.021882</td>\n",
       "      <td>23.069650</td>\n",
       "    </tr>\n",
       "    <tr>\n",
       "      <th>1</th>\n",
       "      <td>000c0bd4f6554034ae2a050b5d8f6dea_1</td>\n",
       "      <td>[Жопка, жопич]</td>\n",
       "      <td>[жопка, жопич]</td>\n",
       "      <td>жопка жопич</td>\n",
       "      <td>жопка жопич</td>\n",
       "      <td>[46.47843969319909, 17.59653918886623]</td>\n",
       "      <td>[43.56504189319101, 23.452253603952332]</td>\n",
       "      <td>0</td>\n",
       "      <td>2</td>\n",
       "      <td>32.037489</td>\n",
       "      <td>2.085410e+02</td>\n",
       "      <td>17.596539</td>\n",
       "      <td>46.478440</td>\n",
       "      <td>33.508648</td>\n",
       "      <td>1.011311e+02</td>\n",
       "      <td>23.452254</td>\n",
       "      <td>43.565042</td>\n",
       "      <td>32.773069</td>\n",
       "    </tr>\n",
       "    <tr>\n",
       "      <th>2</th>\n",
       "      <td>009952d565384a69b5ddf1ec76608391_0</td>\n",
       "      <td>[чио рио?, да это отсылка, но почему именно на...</td>\n",
       "      <td>[чио рио?, да это отсылка, но почему именно на...</td>\n",
       "      <td>чио рио это отсылка почему именно это</td>\n",
       "      <td>чио рио? да это отсылка, но почему именно на это</td>\n",
       "      <td>[92.9852299114656, 10.196780458217356]</td>\n",
       "      <td>[196.09865195134788, 8.011710191756562]</td>\n",
       "      <td>0</td>\n",
       "      <td>2</td>\n",
       "      <td>51.591005</td>\n",
       "      <td>1.713482e+03</td>\n",
       "      <td>10.196780</td>\n",
       "      <td>92.985230</td>\n",
       "      <td>102.055181</td>\n",
       "      <td>8.844174e+03</td>\n",
       "      <td>8.011710</td>\n",
       "      <td>196.098652</td>\n",
       "      <td>76.823093</td>\n",
       "    </tr>\n",
       "    <tr>\n",
       "      <th>3</th>\n",
       "      <td>009952d565384a69b5ddf1ec76608391_1</td>\n",
       "      <td>[\"Чио Рио\" – это, вероятно, отсылка к популярн...</td>\n",
       "      <td>[\"чио рио\" – это, вероятно, отсылка к популярн...</td>\n",
       "      <td>чио рио это вероятно отсылка популярный песня ...</td>\n",
       "      <td>\"чио рио\" – это, вероятно, отсылка к популярно...</td>\n",
       "      <td>[12.205685466212863, 7.7227875960294]</td>\n",
       "      <td>[7.35805482381056, 4.861050089003277]</td>\n",
       "      <td>1</td>\n",
       "      <td>2</td>\n",
       "      <td>9.964237</td>\n",
       "      <td>5.024093e+00</td>\n",
       "      <td>7.722788</td>\n",
       "      <td>12.205685</td>\n",
       "      <td>6.109552</td>\n",
       "      <td>1.558758e+00</td>\n",
       "      <td>4.861050</td>\n",
       "      <td>7.358055</td>\n",
       "      <td>8.036894</td>\n",
       "    </tr>\n",
       "    <tr>\n",
       "      <th>4</th>\n",
       "      <td>00a66ccfbb7f42f39da2b641072d5ef6_0</td>\n",
       "      <td>[I am OpenAI Assistant!, опенэйаю, ну то и имею]</td>\n",
       "      <td>[i am openai assistant!, опенэйаю, ну то и имею]</td>\n",
       "      <td>openai assistant опенэйать иметь</td>\n",
       "      <td>i am openai assistant! опенэйаю ну то и имею</td>\n",
       "      <td>[13369.948882653849, 162.6433695473659, 47.519...</td>\n",
       "      <td>[7109.670630495354, 273.96291856336404, 64.321...</td>\n",
       "      <td>0</td>\n",
       "      <td>3</td>\n",
       "      <td>4526.703998</td>\n",
       "      <td>3.910370e+07</td>\n",
       "      <td>47.519743</td>\n",
       "      <td>13369.948883</td>\n",
       "      <td>2482.651698</td>\n",
       "      <td>1.071198e+07</td>\n",
       "      <td>64.321546</td>\n",
       "      <td>7109.670630</td>\n",
       "      <td>3504.677848</td>\n",
       "    </tr>\n",
       "  </tbody>\n",
       "</table>\n",
       "</div>"
      ],
      "text/plain": [
       "                                   ID  \\\n",
       "0  000c0bd4f6554034ae2a050b5d8f6dea_0   \n",
       "1  000c0bd4f6554034ae2a050b5d8f6dea_1   \n",
       "2  009952d565384a69b5ddf1ec76608391_0   \n",
       "3  009952d565384a69b5ddf1ec76608391_1   \n",
       "4  00a66ccfbb7f42f39da2b641072d5ef6_0   \n",
       "\n",
       "                                                text  \\\n",
       "0                 [че как?, жопа жопа/, жопич жопич]   \n",
       "1                                     [Жопка, жопич]   \n",
       "2  [чио рио?, да это отсылка, но почему именно на...   \n",
       "3  [\"Чио Рио\" – это, вероятно, отсылка к популярн...   \n",
       "4   [I am OpenAI Assistant!, опенэйаю, ну то и имею]   \n",
       "\n",
       "                               text_for_transformers  \\\n",
       "0                 [че как?, жопа жопа/, жопич жопич]   \n",
       "1                                     [жопка, жопич]   \n",
       "2  [чио рио?, да это отсылка, но почему именно на...   \n",
       "3  [\"чио рио\" – это, вероятно, отсылка к популярн...   \n",
       "4   [i am openai assistant!, опенэйаю, ну то и имею]   \n",
       "\n",
       "                                 text_for_vectorizer  \\\n",
       "0                           че жопа жопа жопич жопич   \n",
       "1                                        жопка жопич   \n",
       "2              чио рио это отсылка почему именно это   \n",
       "3  чио рио это вероятно отсылка популярный песня ...   \n",
       "4                   openai assistant опенэйать иметь   \n",
       "\n",
       "                                 text_for_embeddings  \\\n",
       "0                     че как? жопа жопа/ жопич жопич   \n",
       "1                                        жопка жопич   \n",
       "2   чио рио? да это отсылка, но почему именно на это   \n",
       "3  \"чио рио\" – это, вероятно, отсылка к популярно...   \n",
       "4       i am openai assistant! опенэйаю ну то и имею   \n",
       "\n",
       "                                    perplexities_gpt  \\\n",
       "0  [36.42694618834118, 28.71152507153782, 13.8200...   \n",
       "1             [46.47843969319909, 17.59653918886623]   \n",
       "2             [92.9852299114656, 10.196780458217356]   \n",
       "3              [12.205685466212863, 7.7227875960294]   \n",
       "4  [13369.948882653849, 162.6433695473659, 47.519...   \n",
       "\n",
       "                                    perplexities_phi label  cnt_ppl  \\\n",
       "0  [17.519877373831033, 29.021882035975807, 12.91...     1        3   \n",
       "1            [43.56504189319101, 23.452253603952332]     0        2   \n",
       "2            [196.09865195134788, 8.011710191756562]     0        2   \n",
       "3              [7.35805482381056, 4.861050089003277]     1        2   \n",
       "4  [7109.670630495354, 273.96291856336404, 64.321...     0        3   \n",
       "\n",
       "   mean_ppl_gpt   var_ppl_gpt  min_ppl_gpt   max_ppl_gpt  mean_ppl_phi  \\\n",
       "0     26.319518  8.803924e+01    13.820081     36.426946     19.819783   \n",
       "1     32.037489  2.085410e+02    17.596539     46.478440     33.508648   \n",
       "2     51.591005  1.713482e+03    10.196780     92.985230    102.055181   \n",
       "3      9.964237  5.024093e+00     7.722788     12.205685      6.109552   \n",
       "4   4526.703998  3.910370e+07    47.519743  13369.948883   2482.651698   \n",
       "\n",
       "    var_ppl_phi  min_ppl_phi  max_ppl_phi      avg_ppl  \n",
       "0  4.586949e+01    12.917590    29.021882    23.069650  \n",
       "1  1.011311e+02    23.452254    43.565042    32.773069  \n",
       "2  8.844174e+03     8.011710   196.098652    76.823093  \n",
       "3  1.558758e+00     4.861050     7.358055     8.036894  \n",
       "4  1.071198e+07    64.321546  7109.670630  3504.677848  "
      ]
     },
     "execution_count": 23,
     "metadata": {},
     "output_type": "execute_result"
    }
   ],
   "source": [
    "# Расчитываем производные от перплексии (mean, variance, min, max) по двум моделям gpt2 и phi\n",
    "# Расчитываем среднюю перплексию от средних двух моделей\n",
    "\n",
    "train_df = pd.DataFrame(perplexity_per_sample[\"train\"])\n",
    "\n",
    "train_df['cnt_ppl'] = train_df['text_for_transformers'].apply(len)\n",
    "\n",
    "train_df['stats'] = train_df['perplexities_gpt'].apply(lambda x: calculate_statistics(x, 'gpt'))\n",
    "train_df = train_df.join(pd.json_normalize(train_df['stats']))\n",
    "train_df = train_df.drop(columns=['stats'])\n",
    "\n",
    "train_df['stats'] = train_df['perplexities_phi'].apply(lambda x: calculate_statistics(x, 'phi'))\n",
    "train_df = train_df.join(pd.json_normalize(train_df['stats']))\n",
    "train_df = train_df.drop(columns=['stats'])\n",
    "\n",
    "train_df['avg_ppl'] = ((train_df[\"mean_ppl_gpt\"] + train_df[\"mean_ppl_phi\"]) / 2)\n",
    "\n",
    "print(train_df.shape)\n",
    "train_df.head()"
   ]
  },
  {
   "cell_type": "code",
   "execution_count": 24,
   "metadata": {},
   "outputs": [
    {
     "name": "stdout",
     "output_type": "stream",
     "text": [
      "Best threshold: 6.101101316674149, Train F1: 0.516\n"
     ]
    }
   ],
   "source": [
    "# Подбираем порог и создаем столбец pred (будем использовать как прокси результат подбора порога в обучении)\n",
    "\n",
    "perplexities = train_df['avg_ppl'].values\n",
    "labels = train_df[\"label\"].astype(int).values\n",
    "\n",
    "thresholds = np.sort(perplexities)\n",
    "\n",
    "best_threshold = None\n",
    "best_f1 = 0\n",
    "\n",
    "for threshold in thresholds:\n",
    "    preds = (perplexities > threshold).astype(int)\n",
    "    f1 = f1_score(labels, preds)\n",
    "    if f1 > best_f1:\n",
    "        best_f1 = f1\n",
    "        best_threshold = threshold\n",
    "\n",
    "train_df['pred'] = (train_df['avg_ppl'] > best_threshold).astype(int)\n",
    "print(f\"Best threshold: {best_threshold}, Train F1: {best_f1:.3f}\")"
   ]
  },
  {
   "cell_type": "code",
   "execution_count": 25,
   "metadata": {},
   "outputs": [
    {
     "data": {
      "text/plain": [
       "count                1572.0\n",
       "mean      6655.721666514063\n",
       "std      58818.172503316426\n",
       "min      1.0824072162655543\n",
       "25%      10.463308196071335\n",
       "50%      15.126838551727367\n",
       "75%       34.59423616805846\n",
       "max      1120591.4641129142\n",
       "Name: avg_ppl, dtype: object"
      ]
     },
     "execution_count": 25,
     "metadata": {},
     "output_type": "execute_result"
    }
   ],
   "source": [
    "train_df[\"avg_ppl\"].describe().astype(str)"
   ]
  },
  {
   "cell_type": "code",
   "execution_count": 26,
   "metadata": {},
   "outputs": [
    {
     "name": "stdout",
     "output_type": "stream",
     "text": [
      "Для квантиля 0.5, значение cредней перплексии = 15.13\n",
      "Для квантиля 0.6, значение cредней перплексии = 19.49\n",
      "Для квантиля 0.65, значение cредней перплексии = 22.15\n",
      "Для квантиля 0.7, значение cредней перплексии = 27.58\n",
      "Для квантиля 0.75, значение cредней перплексии = 34.59\n",
      "Для квантиля 0.8, значение cредней перплексии = 58.42\n",
      "Для квантиля 0.85, значение cредней перплексии = 109.81\n",
      "Для квантиля 0.9, значение cредней перплексии = 272.95\n",
      "Для квантиля 0.95, значение cредней перплексии = 1097.46\n",
      "Для квантиля 0.99, значение cредней перплексии = 300310.07\n"
     ]
    }
   ],
   "source": [
    "for i in [0.5, 0.6, 0.65, 0.7, 0.75, 0.8, 0.85, 0.9, 0.95, 0.99]:\n",
    "    print(f\"Для квантиля {i}, значение cредней перплексии = {np.round(train_df['avg_ppl'].quantile(i),2)}\")"
   ]
  },
  {
   "cell_type": "code",
   "execution_count": 27,
   "metadata": {},
   "outputs": [
    {
     "data": {
      "image/png": "[encoded data removed]",
      "text/plain": [
       "<Figure size 800x600 with 1 Axes>"
      ]
     },
     "metadata": {},
     "output_type": "display_data"
    }
   ],
   "source": [
    "upper_bound = np.round(train_df['avg_ppl'].quantile(0.85),2)\n",
    "\n",
    "df_label_0 = train_df[train_df['label'] == '0']['avg_ppl']\n",
    "df_label_1 = train_df[train_df['label'] == '1']['avg_ppl']\n",
    "\n",
    "# Фильтрация данных до 75% квантиля\n",
    "df_label_0 = df_label_0[df_label_0 <= upper_bound]\n",
    "df_label_1 = df_label_1[df_label_1 <= upper_bound]\n",
    "\n",
    "boxplot_data = pd.DataFrame({\n",
    "    'Label': ['0'] * len(df_label_0) + ['1'] * len(df_label_1),\n",
    "    'AVG Perplexity': list(df_label_0) + list(df_label_1)\n",
    "})\n",
    "\n",
    "plt.figure(figsize=(8, 6))\n",
    "sns.boxplot(x='Label', y='AVG Perplexity', data=boxplot_data, palette='Set2')\n",
    "plt.title('Boxplot of AVG Perplexity by Label')\n",
    "plt.xlabel('Label')\n",
    "plt.ylabel('AVG Perplexity')\n",
    "plt.grid(axis='y', linestyle='--', alpha=0.7)\n",
    "plt.show()"
   ]
  },
  {
   "cell_type": "markdown",
   "metadata": {},
   "source": [
    "* Видно что по порогу у человека среднее значение перплексии выше, чем у сгенерированного текста"
   ]
  },
  {
   "cell_type": "code",
   "execution_count": 28,
   "metadata": {},
   "outputs": [
    {
     "data": {
      "image/png": "[encoded data removed]",
      "text/plain": [
       "<Figure size 640x480 with 1 Axes>"
      ]
     },
     "metadata": {},
     "output_type": "display_data"
    }
   ],
   "source": [
    "# Гистаграмма по целевой переменной\n",
    "\n",
    "plt.hist(train_df['label'])\n",
    "plt.title(f'Гистаграмма для целевой переменной')\n",
    "plt.show()"
   ]
  },
  {
   "cell_type": "markdown",
   "metadata": {},
   "source": [
    "---\n",
    "### 1.4 Обработка числовых фичей\n",
    "- Сделаем биннинг для средней перплексии по средним от двух моделей gpt2 и phi\n",
    "- Для этой колонки обучим OHE\n",
    "- Для колонки text_for_vectorizer обучим TfIdfVectorizer\n",
    "- Для колонки text_for_embeddings применим эмбеддинг модель USER-bge-m3\n",
    "- Для получившихся эмбеддингов после OHE и USER-bge-m3 подберем параметры для UMAP\n",
    "- После подбора параметров снизим размерность эмбеддингов с помощью UMAP\n",
    "- Также снизим размерность эмбеддингов OHE и USER-bge-m3 с помощью PCA до 50"
   ]
  },
  {
   "cell_type": "code",
   "execution_count": 29,
   "metadata": {},
   "outputs": [
    {
     "data": {
      "text/plain": [
       "Index(['ID', 'text', 'text_for_transformers', 'text_for_vectorizer',\n",
       "       'text_for_embeddings', 'perplexities_gpt', 'perplexities_phi', 'label',\n",
       "       'cnt_ppl', 'mean_ppl_gpt', 'var_ppl_gpt', 'min_ppl_gpt', 'max_ppl_gpt',\n",
       "       'mean_ppl_phi', 'var_ppl_phi', 'min_ppl_phi', 'max_ppl_phi', 'avg_ppl',\n",
       "       'pred'],\n",
       "      dtype='object')"
      ]
     },
     "execution_count": 29,
     "metadata": {},
     "output_type": "execute_result"
    }
   ],
   "source": [
    "train_df.columns"
   ]
  },
  {
   "cell_type": "code",
   "execution_count": 30,
   "metadata": {},
   "outputs": [
    {
     "name": "stdout",
     "output_type": "stream",
     "text": [
      "(1572, 30)\n"
     ]
    },
    {
     "data": {
      "text/html": [
       "<div>\n",
       "<style scoped>\n",
       "    .dataframe tbody tr th:only-of-type {\n",
       "        vertical-align: middle;\n",
       "    }\n",
       "\n",
       "    .dataframe tbody tr th {\n",
       "        vertical-align: top;\n",
       "    }\n",
       "\n",
       "    .dataframe thead th {\n",
       "        text-align: right;\n",
       "    }\n",
       "</style>\n",
       "<table border=\"1\" class=\"dataframe\">\n",
       "  <thead>\n",
       "    <tr style=\"text-align: right;\">\n",
       "      <th></th>\n",
       "      <th>ID</th>\n",
       "      <th>text</th>\n",
       "      <th>text_for_transformers</th>\n",
       "      <th>text_for_vectorizer</th>\n",
       "      <th>text_for_embeddings</th>\n",
       "      <th>perplexities_gpt</th>\n",
       "      <th>perplexities_phi</th>\n",
       "      <th>label</th>\n",
       "      <th>cnt_ppl</th>\n",
       "      <th>mean_ppl_gpt</th>\n",
       "      <th>...</th>\n",
       "      <th>binned_(1.08, 8.34]</th>\n",
       "      <th>binned_(11.34, 12.77]</th>\n",
       "      <th>binned_(12.77, 15.13]</th>\n",
       "      <th>binned_(15.13, 19.49]</th>\n",
       "      <th>binned_(19.49, 27.58]</th>\n",
       "      <th>binned_(27.58, 58.42]</th>\n",
       "      <th>binned_(272.95, 1120591.46]</th>\n",
       "      <th>binned_(58.42, 272.95]</th>\n",
       "      <th>binned_(8.34, 9.78]</th>\n",
       "      <th>binned_(9.78, 11.34]</th>\n",
       "    </tr>\n",
       "  </thead>\n",
       "  <tbody>\n",
       "    <tr>\n",
       "      <th>0</th>\n",
       "      <td>000c0bd4f6554034ae2a050b5d8f6dea_0</td>\n",
       "      <td>[че как?, жопа жопа/, жопич жопич]</td>\n",
       "      <td>[че как?, жопа жопа/, жопич жопич]</td>\n",
       "      <td>че жопа жопа жопич жопич</td>\n",
       "      <td>че как? жопа жопа/ жопич жопич</td>\n",
       "      <td>[36.42694618834118, 28.71152507153782, 13.8200...</td>\n",
       "      <td>[17.519877373831033, 29.021882035975807, 12.91...</td>\n",
       "      <td>1</td>\n",
       "      <td>0.0</td>\n",
       "      <td>0.333180</td>\n",
       "      <td>...</td>\n",
       "      <td>0.0</td>\n",
       "      <td>0.0</td>\n",
       "      <td>0.0</td>\n",
       "      <td>0.0</td>\n",
       "      <td>1.0</td>\n",
       "      <td>0.0</td>\n",
       "      <td>0.0</td>\n",
       "      <td>0.0</td>\n",
       "      <td>0.0</td>\n",
       "      <td>0.0</td>\n",
       "    </tr>\n",
       "    <tr>\n",
       "      <th>1</th>\n",
       "      <td>000c0bd4f6554034ae2a050b5d8f6dea_1</td>\n",
       "      <td>[Жопка, жопич]</td>\n",
       "      <td>[жопка, жопич]</td>\n",
       "      <td>жопка жопич</td>\n",
       "      <td>жопка жопич</td>\n",
       "      <td>[46.47843969319909, 17.59653918886623]</td>\n",
       "      <td>[43.56504189319101, 23.452253603952332]</td>\n",
       "      <td>0</td>\n",
       "      <td>-0.5</td>\n",
       "      <td>0.555658</td>\n",
       "      <td>...</td>\n",
       "      <td>0.0</td>\n",
       "      <td>0.0</td>\n",
       "      <td>0.0</td>\n",
       "      <td>0.0</td>\n",
       "      <td>0.0</td>\n",
       "      <td>1.0</td>\n",
       "      <td>0.0</td>\n",
       "      <td>0.0</td>\n",
       "      <td>0.0</td>\n",
       "      <td>0.0</td>\n",
       "    </tr>\n",
       "    <tr>\n",
       "      <th>2</th>\n",
       "      <td>009952d565384a69b5ddf1ec76608391_0</td>\n",
       "      <td>[чио рио?, да это отсылка, но почему именно на...</td>\n",
       "      <td>[чио рио?, да это отсылка, но почему именно на...</td>\n",
       "      <td>чио рио это отсылка почему именно это</td>\n",
       "      <td>чио рио? да это отсылка, но почему именно на это</td>\n",
       "      <td>[92.9852299114656, 10.196780458217356]</td>\n",
       "      <td>[196.09865195134788, 8.011710191756562]</td>\n",
       "      <td>0</td>\n",
       "      <td>-0.5</td>\n",
       "      <td>1.316458</td>\n",
       "      <td>...</td>\n",
       "      <td>0.0</td>\n",
       "      <td>0.0</td>\n",
       "      <td>0.0</td>\n",
       "      <td>0.0</td>\n",
       "      <td>0.0</td>\n",
       "      <td>0.0</td>\n",
       "      <td>0.0</td>\n",
       "      <td>1.0</td>\n",
       "      <td>0.0</td>\n",
       "      <td>0.0</td>\n",
       "    </tr>\n",
       "    <tr>\n",
       "      <th>3</th>\n",
       "      <td>009952d565384a69b5ddf1ec76608391_1</td>\n",
       "      <td>[\"Чио Рио\" – это, вероятно, отсылка к популярн...</td>\n",
       "      <td>[\"чио рио\" – это, вероятно, отсылка к популярн...</td>\n",
       "      <td>чио рио это вероятно отсылка популярный песня ...</td>\n",
       "      <td>\"чио рио\" – это, вероятно, отсылка к популярно...</td>\n",
       "      <td>[12.205685466212863, 7.7227875960294]</td>\n",
       "      <td>[7.35805482381056, 4.861050089003277]</td>\n",
       "      <td>1</td>\n",
       "      <td>-0.5</td>\n",
       "      <td>-0.303182</td>\n",
       "      <td>...</td>\n",
       "      <td>1.0</td>\n",
       "      <td>0.0</td>\n",
       "      <td>0.0</td>\n",
       "      <td>0.0</td>\n",
       "      <td>0.0</td>\n",
       "      <td>0.0</td>\n",
       "      <td>0.0</td>\n",
       "      <td>0.0</td>\n",
       "      <td>0.0</td>\n",
       "      <td>0.0</td>\n",
       "    </tr>\n",
       "    <tr>\n",
       "      <th>4</th>\n",
       "      <td>00a66ccfbb7f42f39da2b641072d5ef6_0</td>\n",
       "      <td>[I am OpenAI Assistant!, опенэйаю, ну то и имею]</td>\n",
       "      <td>[i am openai assistant!, опенэйаю, ну то и имею]</td>\n",
       "      <td>openai assistant опенэйать иметь</td>\n",
       "      <td>i am openai assistant! опенэйаю ну то и имею</td>\n",
       "      <td>[13369.948882653849, 162.6433695473659, 47.519...</td>\n",
       "      <td>[7109.670630495354, 273.96291856336404, 64.321...</td>\n",
       "      <td>0</td>\n",
       "      <td>0.0</td>\n",
       "      <td>175.436911</td>\n",
       "      <td>...</td>\n",
       "      <td>0.0</td>\n",
       "      <td>0.0</td>\n",
       "      <td>0.0</td>\n",
       "      <td>0.0</td>\n",
       "      <td>0.0</td>\n",
       "      <td>0.0</td>\n",
       "      <td>1.0</td>\n",
       "      <td>0.0</td>\n",
       "      <td>0.0</td>\n",
       "      <td>0.0</td>\n",
       "    </tr>\n",
       "  </tbody>\n",
       "</table>\n",
       "<p>5 rows × 30 columns</p>\n",
       "</div>"
      ],
      "text/plain": [
       "                                   ID  \\\n",
       "0  000c0bd4f6554034ae2a050b5d8f6dea_0   \n",
       "1  000c0bd4f6554034ae2a050b5d8f6dea_1   \n",
       "2  009952d565384a69b5ddf1ec76608391_0   \n",
       "3  009952d565384a69b5ddf1ec76608391_1   \n",
       "4  00a66ccfbb7f42f39da2b641072d5ef6_0   \n",
       "\n",
       "                                                text  \\\n",
       "0                 [че как?, жопа жопа/, жопич жопич]   \n",
       "1                                     [Жопка, жопич]   \n",
       "2  [чио рио?, да это отсылка, но почему именно на...   \n",
       "3  [\"Чио Рио\" – это, вероятно, отсылка к популярн...   \n",
       "4   [I am OpenAI Assistant!, опенэйаю, ну то и имею]   \n",
       "\n",
       "                               text_for_transformers  \\\n",
       "0                 [че как?, жопа жопа/, жопич жопич]   \n",
       "1                                     [жопка, жопич]   \n",
       "2  [чио рио?, да это отсылка, но почему именно на...   \n",
       "3  [\"чио рио\" – это, вероятно, отсылка к популярн...   \n",
       "4   [i am openai assistant!, опенэйаю, ну то и имею]   \n",
       "\n",
       "                                 text_for_vectorizer  \\\n",
       "0                           че жопа жопа жопич жопич   \n",
       "1                                        жопка жопич   \n",
       "2              чио рио это отсылка почему именно это   \n",
       "3  чио рио это вероятно отсылка популярный песня ...   \n",
       "4                   openai assistant опенэйать иметь   \n",
       "\n",
       "                                 text_for_embeddings  \\\n",
       "0                     че как? жопа жопа/ жопич жопич   \n",
       "1                                        жопка жопич   \n",
       "2   чио рио? да это отсылка, но почему именно на это   \n",
       "3  \"чио рио\" – это, вероятно, отсылка к популярно...   \n",
       "4       i am openai assistant! опенэйаю ну то и имею   \n",
       "\n",
       "                                    perplexities_gpt  \\\n",
       "0  [36.42694618834118, 28.71152507153782, 13.8200...   \n",
       "1             [46.47843969319909, 17.59653918886623]   \n",
       "2             [92.9852299114656, 10.196780458217356]   \n",
       "3              [12.205685466212863, 7.7227875960294]   \n",
       "4  [13369.948882653849, 162.6433695473659, 47.519...   \n",
       "\n",
       "                                    perplexities_phi label  cnt_ppl  \\\n",
       "0  [17.519877373831033, 29.021882035975807, 12.91...     1      0.0   \n",
       "1            [43.56504189319101, 23.452253603952332]     0     -0.5   \n",
       "2            [196.09865195134788, 8.011710191756562]     0     -0.5   \n",
       "3              [7.35805482381056, 4.861050089003277]     1     -0.5   \n",
       "4  [7109.670630495354, 273.96291856336404, 64.321...     0      0.0   \n",
       "\n",
       "   mean_ppl_gpt  ...  binned_(1.08, 8.34]  binned_(11.34, 12.77]  \\\n",
       "0      0.333180  ...                  0.0                    0.0   \n",
       "1      0.555658  ...                  0.0                    0.0   \n",
       "2      1.316458  ...                  0.0                    0.0   \n",
       "3     -0.303182  ...                  1.0                    0.0   \n",
       "4    175.436911  ...                  0.0                    0.0   \n",
       "\n",
       "   binned_(12.77, 15.13]  binned_(15.13, 19.49]  binned_(19.49, 27.58]  \\\n",
       "0                    0.0                    0.0                    1.0   \n",
       "1                    0.0                    0.0                    0.0   \n",
       "2                    0.0                    0.0                    0.0   \n",
       "3                    0.0                    0.0                    0.0   \n",
       "4                    0.0                    0.0                    0.0   \n",
       "\n",
       "   binned_(27.58, 58.42]  binned_(272.95, 1120591.46]  binned_(58.42, 272.95]  \\\n",
       "0                    0.0                          0.0                     0.0   \n",
       "1                    1.0                          0.0                     0.0   \n",
       "2                    0.0                          0.0                     1.0   \n",
       "3                    0.0                          0.0                     0.0   \n",
       "4                    0.0                          1.0                     0.0   \n",
       "\n",
       "   binned_(8.34, 9.78] binned_(9.78, 11.34]  \n",
       "0                  0.0                  0.0  \n",
       "1                  0.0                  0.0  \n",
       "2                  0.0                  0.0  \n",
       "3                  0.0                  0.0  \n",
       "4                  0.0                  0.0  \n",
       "\n",
       "[5 rows x 30 columns]"
      ]
     },
     "execution_count": 30,
     "metadata": {},
     "output_type": "execute_result"
    }
   ],
   "source": [
    "num_bins = 10\n",
    "\n",
    "train_df['binned'], bins = pd.qcut(train_df['avg_ppl'], q=num_bins, retbins=True)\n",
    "bin_labels = [f\"({bins[i]:.2f}, {bins[i+1]:.2f}]\" for i in range(len(bins)-1)]\n",
    "\n",
    "train_df['binned'] = pd.cut(train_df['avg_ppl'], bins=bins, labels=bin_labels, include_lowest=True)\n",
    "\n",
    "num_cols = ['cnt_ppl', 'mean_ppl_gpt', 'var_ppl_gpt', 'min_ppl_gpt', 'max_ppl_gpt',\n",
    "            'mean_ppl_phi', 'var_ppl_phi', 'min_ppl_phi', 'max_ppl_phi', 'avg_ppl']\n",
    "\n",
    "scl = RobustScaler()\n",
    "scl.fit(train_df[num_cols])\n",
    "\n",
    "train_df[[f'{i}' for i in num_cols]] = scl.transform(train_df[num_cols])\n",
    "\n",
    "encoder = OneHotEncoder(sparse_output=False, handle_unknown='ignore')\n",
    "encoded_train = encoder.fit_transform(train_df[['binned']])\n",
    "\n",
    "encoded_train_df = pd.DataFrame(encoded_train, columns=encoder.get_feature_names_out(['binned']))\n",
    "train_df = pd.concat([train_df, encoded_train_df], axis=1)\n",
    "print(train_df.shape)\n",
    "train_df.head()"
   ]
  },
  {
   "cell_type": "code",
   "execution_count": 31,
   "metadata": {},
   "outputs": [
    {
     "data": {
      "text/plain": [
       "Index(['ID', 'text', 'text_for_transformers', 'text_for_vectorizer',\n",
       "       'text_for_embeddings', 'perplexities_gpt', 'perplexities_phi', 'label',\n",
       "       'cnt_ppl', 'mean_ppl_gpt', 'var_ppl_gpt', 'min_ppl_gpt', 'max_ppl_gpt',\n",
       "       'mean_ppl_phi', 'var_ppl_phi', 'min_ppl_phi', 'max_ppl_phi', 'avg_ppl',\n",
       "       'pred', 'binned', 'binned_(1.08, 8.34]', 'binned_(11.34, 12.77]',\n",
       "       'binned_(12.77, 15.13]', 'binned_(15.13, 19.49]',\n",
       "       'binned_(19.49, 27.58]', 'binned_(27.58, 58.42]',\n",
       "       'binned_(272.95, 1120591.46]', 'binned_(58.42, 272.95]',\n",
       "       'binned_(8.34, 9.78]', 'binned_(9.78, 11.34]'],\n",
       "      dtype='object')"
      ]
     },
     "execution_count": 31,
     "metadata": {},
     "output_type": "execute_result"
    }
   ],
   "source": [
    "train_df.columns"
   ]
  },
  {
   "cell_type": "code",
   "execution_count": 32,
   "metadata": {},
   "outputs": [],
   "source": [
    "ppl_factors = ['pred',\n",
    "               'mean_ppl_gpt', 'var_ppl_gpt', 'min_ppl_gpt', 'max_ppl_gpt',\n",
    "               'mean_ppl_phi', 'var_ppl_phi', 'min_ppl_phi', 'max_ppl_phi', 'avg_ppl',\n",
    "               'binned_(1.08, 8.34]', 'binned_(11.34, 12.77]',\n",
    "               'binned_(12.77, 15.13]', 'binned_(15.13, 19.49]',\n",
    "               'binned_(19.49, 27.58]', 'binned_(27.58, 58.42]',\n",
    "               'binned_(272.95, 1120591.46]', 'binned_(58.42, 272.95]',\n",
    "               'binned_(8.34, 9.78]', 'binned_(9.78, 11.34]']"
   ]
  },
  {
   "cell_type": "code",
   "execution_count": 33,
   "metadata": {},
   "outputs": [
    {
     "name": "stdout",
     "output_type": "stream",
     "text": [
      "(3180, 2)\n"
     ]
    },
    {
     "data": {
      "text/html": [
       "<div>\n",
       "<style scoped>\n",
       "    .dataframe tbody tr th:only-of-type {\n",
       "        vertical-align: middle;\n",
       "    }\n",
       "\n",
       "    .dataframe tbody tr th {\n",
       "        vertical-align: top;\n",
       "    }\n",
       "\n",
       "    .dataframe thead th {\n",
       "        text-align: right;\n",
       "    }\n",
       "</style>\n",
       "<table border=\"1\" class=\"dataframe\">\n",
       "  <thead>\n",
       "    <tr style=\"text-align: right;\">\n",
       "      <th></th>\n",
       "      <th>word</th>\n",
       "      <th>score</th>\n",
       "    </tr>\n",
       "  </thead>\n",
       "  <tbody>\n",
       "    <tr>\n",
       "      <th>737</th>\n",
       "      <td>бот ботм</td>\n",
       "      <td>0.025341</td>\n",
       "    </tr>\n",
       "    <tr>\n",
       "      <th>781</th>\n",
       "      <td>ботм ботт</td>\n",
       "      <td>0.025341</td>\n",
       "    </tr>\n",
       "    <tr>\n",
       "      <th>782</th>\n",
       "      <td>ботммт</td>\n",
       "      <td>0.025341</td>\n",
       "    </tr>\n",
       "    <tr>\n",
       "      <th>786</th>\n",
       "      <td>ботмт ботт</td>\n",
       "      <td>0.025341</td>\n",
       "    </tr>\n",
       "    <tr>\n",
       "      <th>780</th>\n",
       "      <td>ботм ботммт</td>\n",
       "      <td>0.025341</td>\n",
       "    </tr>\n",
       "  </tbody>\n",
       "</table>\n",
       "</div>"
      ],
      "text/plain": [
       "            word     score\n",
       "737     бот ботм  0.025341\n",
       "781    ботм ботт  0.025341\n",
       "782       ботммт  0.025341\n",
       "786   ботмт ботт  0.025341\n",
       "780  ботм ботммт  0.025341"
      ]
     },
     "execution_count": 33,
     "metadata": {},
     "output_type": "execute_result"
    }
   ],
   "source": [
    "vectorizer = TfidfVectorizer(ngram_range=(1,2),\n",
    "                             min_df=0.001\n",
    "                            )\n",
    "\n",
    "# Применение TF-IDF к текстовым данным\n",
    "matrix = vectorizer.fit_transform(train_df['text_for_vectorizer'])\n",
    "feature_names = vectorizer.get_feature_names_out()\n",
    "\n",
    "need_score_df = (pd.DataFrame({'word': feature_names,\n",
    "                               'score': matrix.toarray().sum(axis=0)})\n",
    "                 .sort_values('score'))\n",
    "print(need_score_df.shape)\n",
    "need_score_df.head()"
   ]
  },
  {
   "cell_type": "code",
   "execution_count": 34,
   "metadata": {},
   "outputs": [
    {
     "name": "stdout",
     "output_type": "stream",
     "text": [
      "TfIdf emb train: (1572, 3180) shape\n",
      "PPL vectors train: (1572, 20) shape\n",
      "USER-bge-m3 emb train: (1572, 1024) shape\n",
      "CPU times: user 3min 12s, sys: 421 ms, total: 3min 12s\n",
      "Wall time: 3min 12s\n"
     ]
    }
   ],
   "source": [
    "%%time\n",
    "\n",
    "train_tfidf = vectorizer.transform(train_df['text_for_vectorizer'])\n",
    "train_factors = train_df[ppl_factors].values\n",
    "train_embeddings = embedding_model.encode(train_df['text_for_embeddings'].tolist())\n",
    "\n",
    "print(f'TfIdf emb train: {train_tfidf.shape} shape')\n",
    "print(f'PPL vectors train: {train_factors.shape} shape')\n",
    "print(f'USER-bge-m3 emb train: {train_embeddings.shape} shape')"
   ]
  },
  {
   "cell_type": "code",
   "execution_count": 35,
   "metadata": {},
   "outputs": [
    {
     "name": "stdout",
     "output_type": "stream",
     "text": [
      "TfIdf + Robust scaler PPL + USER-bge-m3 emb train: (1572, 4204) shape\n"
     ]
    }
   ],
   "source": [
    "all_train_embeddings = np.hstack([train_tfidf.toarray(), train_embeddings])\n",
    "\n",
    "print(f'TfIdf + Robust scaler PPL + USER-bge-m3 emb train: {all_train_embeddings.shape} shape')"
   ]
  },
  {
   "cell_type": "code",
   "execution_count": 36,
   "metadata": {},
   "outputs": [],
   "source": [
    "def evaluate_umap_logreg(\n",
    "    train_embeddings: np.ndarray,\n",
    "    y_train: np.ndarray,\n",
    "    test_embeddings: np.ndarray,\n",
    "    y_test: np.ndarray,\n",
    "    n_neighbors: int,\n",
    "    min_dist: float,\n",
    "    n_components: int\n",
    ") -> float:\n",
    "\n",
    "    umap_model = umap.UMAP(\n",
    "        n_neighbors=n_neighbors,\n",
    "        min_dist=min_dist,\n",
    "        n_components=n_components,\n",
    "        metric='cosine',\n",
    "        random_state=42,\n",
    "        n_jobs=1\n",
    "    )\n",
    "    reduced_train_embeddings = umap_model.fit_transform(train_embeddings)\n",
    "    reduced_test_embeddings = umap_model.transform(test_embeddings)\n",
    "\n",
    "    logreg_model = LogisticRegression(penalty=\"l2\", random_state=42)\n",
    "    logreg_model.fit(reduced_train_embeddings, y_train)\n",
    "\n",
    "    test_proba = logreg_model.predict_proba(reduced_test_embeddings)[:, 1]\n",
    "    logloss = log_loss(y_test, test_proba)\n",
    "\n",
    "    return logloss\n",
    "\n",
    "def objective(trial: optuna.Trial,\n",
    "              train_embeddings: np.ndarray,\n",
    "              y_train: np.ndarray,\n",
    "              test_embeddings: np.ndarray,\n",
    "              y_test: np.ndarray) -> float:\n",
    "\n",
    "    n_neighbors = trial.suggest_int('n_neighbors', 5, 50)\n",
    "    min_dist = trial.suggest_float('min_dist', 0.01, 0.5, log=True)\n",
    "    n_components = trial.suggest_int('n_components', 5, 100)\n",
    "    \n",
    "    logloss = evaluate_umap_logreg(\n",
    "        train_embeddings=train_embeddings,\n",
    "        y_train=y_train,\n",
    "        test_embeddings=test_embeddings,\n",
    "        y_test=y_test,\n",
    "        n_neighbors=n_neighbors,\n",
    "        min_dist=min_dist,\n",
    "        n_components=n_components\n",
    "    )\n",
    "    return logloss\n",
    "\n",
    "def run_cross_validation(embeddings: np.ndarray, y: np.ndarray, n_splits: int = 5, n_trials: int = 100):\n",
    "\n",
    "    kf = StratifiedKFold(n_splits=n_splits, shuffle=True, random_state=42)\n",
    "    fold_results = {}\n",
    "    \n",
    "    for fold_idx, (train_idx, test_idx) in enumerate(kf.split(embeddings, y)):\n",
    "        print(f\"Обработка фолда {fold_idx + 1}/{n_splits}\")\n",
    "        \n",
    "        train_embeddings = embeddings[train_idx]\n",
    "        test_embeddings = embeddings[test_idx]\n",
    "        y_train = y[train_idx]\n",
    "        y_test = y[test_idx]\n",
    "        \n",
    "        sampler = TPESampler(seed=42)\n",
    "        study = optuna.create_study(direction='minimize', sampler=sampler)\n",
    "        study.optimize(lambda trial: objective(trial,\n",
    "                                               train_embeddings,\n",
    "                                               y_train,\n",
    "                                               test_embeddings,\n",
    "                                               y_test),\n",
    "                       n_trials=n_trials,\n",
    "                       show_progress_bar=True)\n",
    "\n",
    "        best_params = study.best_params\n",
    "\n",
    "        test_logreg = evaluate_umap_logreg(\n",
    "            train_embeddings=train_embeddings,\n",
    "            y_train=y_train,\n",
    "            test_embeddings=test_embeddings,\n",
    "            y_test=y_test,\n",
    "            **best_params\n",
    "        )\n",
    "\n",
    "        fold_results[f'fold_{fold_idx + 1}'] = {'best_params': best_params,\n",
    "                                                'test_logreg': test_logreg}\n",
    "\n",
    "    mean_best_params = {}\n",
    "    for param_name in fold_results['fold_1']['best_params'].keys():\n",
    "        if param_name == 'min_dist':\n",
    "            mean_best_params[param_name] = float(np.mean([fold['best_params'][param_name] for fold in fold_results.values()]))\n",
    "        else:\n",
    "            mean_best_params[param_name] = int(np.mean([fold['best_params'][param_name] for fold in fold_results.values()]))\n",
    "    \n",
    "    umap_parameters = ({'n_neighbors': mean_best_params['n_neighbors'],\n",
    "                                           'min_dist': mean_best_params['min_dist'],\n",
    "                                           'n_components': mean_best_params['n_components']})\n",
    "        \n",
    "    return fold_results, umap_parameters"
   ]
  },
  {
   "cell_type": "code",
   "execution_count": 37,
   "metadata": {
    "scrolled": true
   },
   "outputs": [
    {
     "name": "stderr",
     "output_type": "stream",
     "text": [
      "[I 2025-05-10 21:55:43,401] A new study created in memory with name: no-name-2d3f7360-a6eb-44e2-bed0-f7f71fc4c389\n"
     ]
    },
    {
     "name": "stdout",
     "output_type": "stream",
     "text": [
      "Обработка фолда 1/3\n"
     ]
    },
    {
     "data": {
      "application/vnd.jupyter.widget-view+json": {
       "model_id": "2432019633e54aabbdbc858ac6905e15",
       "version_major": 2,
       "version_minor": 0
      },
      "text/plain": [
       "  0%|          | 0/30 [00:00<?, ?it/s]"
      ]
     },
     "metadata": {},
     "output_type": "display_data"
    },
    {
     "name": "stdout",
     "output_type": "stream",
     "text": [
      "[I 2025-05-10 21:55:59,508] Trial 0 finished with value: 0.5735539721804284 and parameters: {'n_neighbors': 22, 'min_dist': 0.4123206532618726, 'n_components': 75}. Best is trial 0 with value: 0.5735539721804284.\n",
      "[I 2025-05-10 21:56:07,359] Trial 1 finished with value: 0.564806740435984 and parameters: {'n_neighbors': 32, 'min_dist': 0.018410729205738687, 'n_components': 19}. Best is trial 1 with value: 0.564806740435984.\n",
      "[I 2025-05-10 21:56:15,061] Trial 2 finished with value: 0.596088287353042 and parameters: {'n_neighbors': 7, 'min_dist': 0.29621516588303487, 'n_components': 62}. Best is trial 1 with value: 0.564806740435984.\n",
      "[I 2025-05-10 21:56:24,477] Trial 3 finished with value: 0.5660398424340143 and parameters: {'n_neighbors': 37, 'min_dist': 0.01083858126934475, 'n_components': 98}. Best is trial 1 with value: 0.564806740435984.\n",
      "[I 2025-05-10 21:56:32,736] Trial 4 finished with value: 0.5750336672300367 and parameters: {'n_neighbors': 43, 'min_dist': 0.022948683681130556, 'n_components': 22}. Best is trial 1 with value: 0.564806740435984.\n",
      "[I 2025-05-10 21:56:40,615] Trial 5 finished with value: 0.601127291041993 and parameters: {'n_neighbors': 13, 'min_dist': 0.0328774741399112, 'n_components': 55}. Best is trial 1 with value: 0.564806740435984.\n",
      "[I 2025-05-10 21:56:49,376] Trial 6 finished with value: 0.5723362851103121 and parameters: {'n_neighbors': 24, 'min_dist': 0.03124565071260872, 'n_components': 63}. Best is trial 1 with value: 0.564806740435984.\n",
      "[I 2025-05-10 21:56:56,431] Trial 7 finished with value: 0.594329141425057 and parameters: {'n_neighbors': 11, 'min_dist': 0.03135775732257745, 'n_components': 40}. Best is trial 1 with value: 0.564806740435984.\n",
      "[I 2025-05-10 21:57:04,110] Trial 8 finished with value: 0.5750323684395939 and parameters: {'n_neighbors': 25, 'min_dist': 0.21576967455896826, 'n_components': 24}. Best is trial 1 with value: 0.564806740435984.\n",
      "[I 2025-05-10 21:57:11,320] Trial 9 finished with value: 0.5754632107145069 and parameters: {'n_neighbors': 28, 'min_dist': 0.10150667045928574, 'n_components': 9}. Best is trial 1 with value: 0.564806740435984.\n",
      "[I 2025-05-10 21:57:18,677] Trial 10 finished with value: 0.5781968320580092 and parameters: {'n_neighbors': 48, 'min_dist': 0.010237384946561906, 'n_components': 5}. Best is trial 1 with value: 0.564806740435984.\n",
      "[I 2025-05-10 21:57:28,151] Trial 11 finished with value: 0.567751426889467 and parameters: {'n_neighbors': 37, 'min_dist': 0.010619628509861787, 'n_components': 92}. Best is trial 1 with value: 0.564806740435984.\n",
      "[I 2025-05-10 21:57:37,792] Trial 12 finished with value: 0.5767667353674671 and parameters: {'n_neighbors': 37, 'min_dist': 0.01679652651123139, 'n_components': 95}. Best is trial 1 with value: 0.564806740435984.\n",
      "[I 2025-05-10 21:57:45,888] Trial 13 finished with value: 0.5775146818734229 and parameters: {'n_neighbors': 34, 'min_dist': 0.071584678963, 'n_components': 39}. Best is trial 1 with value: 0.564806740435984.\n",
      "[I 2025-05-10 21:57:54,635] Trial 14 finished with value: 0.5709843908351246 and parameters: {'n_neighbors': 31, 'min_dist': 0.01625137564122079, 'n_components': 81}. Best is trial 1 with value: 0.564806740435984.\n",
      "[I 2025-05-10 21:58:02,937] Trial 15 finished with value: 0.5801610680792861 and parameters: {'n_neighbors': 42, 'min_dist': 0.05316808224675184, 'n_components': 44}. Best is trial 1 with value: 0.564806740435984.\n",
      "[I 2025-05-10 21:58:10,798] Trial 16 finished with value: 0.5862912566674486 and parameters: {'n_neighbors': 17, 'min_dist': 0.14239180646185462, 'n_components': 30}. Best is trial 1 with value: 0.564806740435984.\n",
      "[I 2025-05-10 21:58:19,838] Trial 17 finished with value: 0.5753852146073597 and parameters: {'n_neighbors': 50, 'min_dist': 0.015955597197316842, 'n_components': 76}. Best is trial 1 with value: 0.564806740435984.\n",
      "[I 2025-05-10 21:58:27,829] Trial 18 finished with value: 0.5708568306184841 and parameters: {'n_neighbors': 42, 'min_dist': 0.05028560318835723, 'n_components': 18}. Best is trial 1 with value: 0.564806740435984.\n",
      "[I 2025-05-10 21:58:35,994] Trial 19 finished with value: 0.5697577309305496 and parameters: {'n_neighbors': 30, 'min_dist': 0.02123639165007907, 'n_components': 48}. Best is trial 1 with value: 0.564806740435984.\n",
      "[I 2025-05-10 21:58:45,111] Trial 20 finished with value: 0.5758469904544504 and parameters: {'n_neighbors': 38, 'min_dist': 0.010099564974906107, 'n_components': 83}. Best is trial 1 with value: 0.564806740435984.\n",
      "[I 2025-05-10 21:58:53,815] Trial 21 finished with value: 0.5801787630707645 and parameters: {'n_neighbors': 35, 'min_dist': 0.012437293973903658, 'n_components': 100}. Best is trial 1 with value: 0.564806740435984.\n",
      "[I 2025-05-10 21:59:03,477] Trial 22 finished with value: 0.5792304002879632 and parameters: {'n_neighbors': 33, 'min_dist': 0.013658670087377244, 'n_components': 91}. Best is trial 1 with value: 0.564806740435984.\n",
      "[I 2025-05-10 21:59:12,935] Trial 23 finished with value: 0.5720392191616283 and parameters: {'n_neighbors': 39, 'min_dist': 0.02122333668645876, 'n_components': 90}. Best is trial 1 with value: 0.564806740435984.\n",
      "[I 2025-05-10 21:59:21,437] Trial 24 finished with value: 0.5635397850605937 and parameters: {'n_neighbors': 44, 'min_dist': 0.01235186974283217, 'n_components': 68}. Best is trial 24 with value: 0.5635397850605937.\n",
      "[I 2025-05-10 21:59:29,954] Trial 25 finished with value: 0.5808240000177577 and parameters: {'n_neighbors': 45, 'min_dist': 0.041170851610683325, 'n_components': 68}. Best is trial 24 with value: 0.5635397850605937.\n",
      "[I 2025-05-10 21:59:38,884] Trial 26 finished with value: 0.5721663546000538 and parameters: {'n_neighbors': 48, 'min_dist': 0.0237640130558524, 'n_components': 52}. Best is trial 24 with value: 0.5635397850605937.\n",
      "[I 2025-05-10 21:59:46,617] Trial 27 finished with value: 0.5797260441831151 and parameters: {'n_neighbors': 41, 'min_dist': 0.014747739410191588, 'n_components': 33}. Best is trial 24 with value: 0.5635397850605937.\n",
      "[I 2025-05-10 21:59:55,452] Trial 28 finished with value: 0.5731768486632971 and parameters: {'n_neighbors': 46, 'min_dist': 0.0198490657230451, 'n_components': 71}. Best is trial 24 with value: 0.5635397850605937.\n",
      "[I 2025-05-10 22:00:04,009] Trial 29 finished with value: 0.5679731122354403 and parameters: {'n_neighbors': 21, 'min_dist': 0.027122786787817797, 'n_components': 83}. Best is trial 24 with value: 0.5635397850605937.\n"
     ]
    },
    {
     "name": "stderr",
     "output_type": "stream",
     "text": [
      "[I 2025-05-10 22:00:12,467] A new study created in memory with name: no-name-a2bb2b3e-e1be-4f5d-a1fa-7cf4fce3f417\n"
     ]
    },
    {
     "name": "stdout",
     "output_type": "stream",
     "text": [
      "Обработка фолда 2/3\n"
     ]
    },
    {
     "data": {
      "application/vnd.jupyter.widget-view+json": {
       "model_id": "7c5796dd11684f629d0b7fb7015c4c5b",
       "version_major": 2,
       "version_minor": 0
      },
      "text/plain": [
       "  0%|          | 0/30 [00:00<?, ?it/s]"
      ]
     },
     "metadata": {},
     "output_type": "display_data"
    },
    {
     "name": "stdout",
     "output_type": "stream",
     "text": [
      "[I 2025-05-10 22:00:20,725] Trial 0 finished with value: 0.5462774751153524 and parameters: {'n_neighbors': 22, 'min_dist': 0.4123206532618726, 'n_components': 75}. Best is trial 0 with value: 0.5462774751153524.\n",
      "[I 2025-05-10 22:00:28,502] Trial 1 finished with value: 0.5696511824093378 and parameters: {'n_neighbors': 32, 'min_dist': 0.018410729205738687, 'n_components': 19}. Best is trial 0 with value: 0.5462774751153524.\n",
      "[I 2025-05-10 22:00:36,151] Trial 2 finished with value: 0.5984418363242487 and parameters: {'n_neighbors': 7, 'min_dist': 0.29621516588303487, 'n_components': 62}. Best is trial 0 with value: 0.5462774751153524.\n",
      "[I 2025-05-10 22:00:45,288] Trial 3 finished with value: 0.572538072716254 and parameters: {'n_neighbors': 37, 'min_dist': 0.01083858126934475, 'n_components': 98}. Best is trial 0 with value: 0.5462774751153524.\n",
      "[I 2025-05-10 22:00:53,841] Trial 4 finished with value: 0.575628183879641 and parameters: {'n_neighbors': 43, 'min_dist': 0.022948683681130556, 'n_components': 22}. Best is trial 0 with value: 0.5462774751153524.\n",
      "[I 2025-05-10 22:01:02,049] Trial 5 finished with value: 0.5952076109282308 and parameters: {'n_neighbors': 13, 'min_dist': 0.0328774741399112, 'n_components': 55}. Best is trial 0 with value: 0.5462774751153524.\n",
      "[I 2025-05-10 22:01:11,251] Trial 6 finished with value: 0.5732956408796904 and parameters: {'n_neighbors': 24, 'min_dist': 0.03124565071260872, 'n_components': 63}. Best is trial 0 with value: 0.5462774751153524.\n",
      "[I 2025-05-10 22:01:18,676] Trial 7 finished with value: 0.6051778769974359 and parameters: {'n_neighbors': 11, 'min_dist': 0.03135775732257745, 'n_components': 40}. Best is trial 0 with value: 0.5462774751153524.\n",
      "[I 2025-05-10 22:01:26,712] Trial 8 finished with value: 0.5623588030082518 and parameters: {'n_neighbors': 25, 'min_dist': 0.21576967455896826, 'n_components': 24}. Best is trial 0 with value: 0.5462774751153524.\n",
      "[I 2025-05-10 22:01:34,210] Trial 9 finished with value: 0.5775910007680816 and parameters: {'n_neighbors': 28, 'min_dist': 0.10150667045928574, 'n_components': 9}. Best is trial 0 with value: 0.5462774751153524.\n",
      "[I 2025-05-10 22:01:43,082] Trial 10 finished with value: 0.5766956910984066 and parameters: {'n_neighbors': 18, 'min_dist': 0.14541710138964564, 'n_components': 87}. Best is trial 0 with value: 0.5462774751153524.\n",
      "[I 2025-05-10 22:01:51,760] Trial 11 finished with value: 0.5475762950365143 and parameters: {'n_neighbors': 22, 'min_dist': 0.4809446004074497, 'n_components': 78}. Best is trial 0 with value: 0.5462774751153524.\n",
      "[I 2025-05-10 22:02:00,352] Trial 12 finished with value: 0.5556055433406277 and parameters: {'n_neighbors': 19, 'min_dist': 0.46431927134437306, 'n_components': 80}. Best is trial 0 with value: 0.5462774751153524.\n",
      "[I 2025-05-10 22:02:09,652] Trial 13 finished with value: 0.5581307563009006 and parameters: {'n_neighbors': 49, 'min_dist': 0.49201567058133333, 'n_components': 76}. Best is trial 0 with value: 0.5462774751153524.\n",
      "[I 2025-05-10 22:02:18,115] Trial 14 finished with value: 0.591422244751446 and parameters: {'n_neighbors': 19, 'min_dist': 0.06473956489923641, 'n_components': 100}. Best is trial 0 with value: 0.5462774751153524.\n",
      "[I 2025-05-10 22:02:26,836] Trial 15 finished with value: 0.5519696976577619 and parameters: {'n_neighbors': 33, 'min_dist': 0.2622966791980094, 'n_components': 73}. Best is trial 0 with value: 0.5462774751153524.\n",
      "[I 2025-05-10 22:02:34,827] Trial 16 finished with value: 0.600887882998331 and parameters: {'n_neighbors': 14, 'min_dist': 0.06985388450646318, 'n_components': 47}. Best is trial 0 with value: 0.5462774751153524.\n",
      "[I 2025-05-10 22:02:42,479] Trial 17 finished with value: 0.5992885726689254 and parameters: {'n_neighbors': 6, 'min_dist': 0.15315848355577336, 'n_components': 88}. Best is trial 0 with value: 0.5462774751153524.\n",
      "[I 2025-05-10 22:02:50,962] Trial 18 finished with value: 0.5451873304628118 and parameters: {'n_neighbors': 29, 'min_dist': 0.34830209280647606, 'n_components': 67}. Best is trial 18 with value: 0.5451873304628118.\n",
      "[I 2025-05-10 22:02:59,489] Trial 19 finished with value: 0.5531602441488462 and parameters: {'n_neighbors': 37, 'min_dist': 0.29563083655911165, 'n_components': 38}. Best is trial 18 with value: 0.5451873304628118.\n",
      "[I 2025-05-10 22:03:07,955] Trial 20 finished with value: 0.5618120992627991 and parameters: {'n_neighbors': 30, 'min_dist': 0.16813557469511406, 'n_components': 66}. Best is trial 18 with value: 0.5451873304628118.\n",
      "[I 2025-05-10 22:03:16,398] Trial 21 finished with value: 0.5593358427091464 and parameters: {'n_neighbors': 23, 'min_dist': 0.3901985435771347, 'n_components': 70}. Best is trial 18 with value: 0.5451873304628118.\n",
      "[I 2025-05-10 22:03:25,487] Trial 22 finished with value: 0.5561242439852465 and parameters: {'n_neighbors': 22, 'min_dist': 0.3511104213676508, 'n_components': 85}. Best is trial 18 with value: 0.5451873304628118.\n",
      "[I 2025-05-10 22:03:34,686] Trial 23 finished with value: 0.5516844470354686 and parameters: {'n_neighbors': 36, 'min_dist': 0.213886187831774, 'n_components': 55}. Best is trial 18 with value: 0.5451873304628118.\n",
      "[I 2025-05-10 22:03:43,655] Trial 24 finished with value: 0.5512180567304064 and parameters: {'n_neighbors': 27, 'min_dist': 0.49166432160028734, 'n_components': 82}. Best is trial 18 with value: 0.5451873304628118.\n",
      "[I 2025-05-10 22:03:52,309] Trial 25 finished with value: 0.5817988969027644 and parameters: {'n_neighbors': 17, 'min_dist': 0.1028900408282759, 'n_components': 61}. Best is trial 18 with value: 0.5451873304628118.\n",
      "[I 2025-05-10 22:04:01,484] Trial 26 finished with value: 0.5623045238216924 and parameters: {'n_neighbors': 21, 'min_dist': 0.3459127974935949, 'n_components': 92}. Best is trial 18 with value: 0.5451873304628118.\n",
      "[I 2025-05-10 22:04:10,056] Trial 27 finished with value: 0.5537099529482133 and parameters: {'n_neighbors': 27, 'min_dist': 0.22554481443399996, 'n_components': 73}. Best is trial 18 with value: 0.5451873304628118.\n",
      "[I 2025-05-10 22:04:18,650] Trial 28 finished with value: 0.5633038241748846 and parameters: {'n_neighbors': 33, 'min_dist': 0.10814000561964393, 'n_components': 49}. Best is trial 18 with value: 0.5451873304628118.\n",
      "[I 2025-05-10 22:04:28,151] Trial 29 finished with value: 0.5614476130435808 and parameters: {'n_neighbors': 41, 'min_dist': 0.35851371608005494, 'n_components': 79}. Best is trial 18 with value: 0.5451873304628118.\n"
     ]
    },
    {
     "name": "stderr",
     "output_type": "stream",
     "text": [
      "[I 2025-05-10 22:04:36,620] A new study created in memory with name: no-name-e055df02-5863-4cd8-8f9a-e1124f0a9cb2\n"
     ]
    },
    {
     "name": "stdout",
     "output_type": "stream",
     "text": [
      "Обработка фолда 3/3\n"
     ]
    },
    {
     "data": {
      "application/vnd.jupyter.widget-view+json": {
       "model_id": "2f951b6d27da4b9b833120db7e986ee3",
       "version_major": 2,
       "version_minor": 0
      },
      "text/plain": [
       "  0%|          | 0/30 [00:00<?, ?it/s]"
      ]
     },
     "metadata": {},
     "output_type": "display_data"
    },
    {
     "name": "stdout",
     "output_type": "stream",
     "text": [
      "[I 2025-05-10 22:04:45,125] Trial 0 finished with value: 0.5610772357314459 and parameters: {'n_neighbors': 22, 'min_dist': 0.4123206532618726, 'n_components': 75}. Best is trial 0 with value: 0.5610772357314459.\n",
      "[I 2025-05-10 22:04:53,239] Trial 1 finished with value: 0.5556084552383337 and parameters: {'n_neighbors': 32, 'min_dist': 0.018410729205738687, 'n_components': 19}. Best is trial 1 with value: 0.5556084552383337.\n",
      "[I 2025-05-10 22:05:01,002] Trial 2 finished with value: 0.6109269478624068 and parameters: {'n_neighbors': 7, 'min_dist': 0.29621516588303487, 'n_components': 62}. Best is trial 1 with value: 0.5556084552383337.\n",
      "[I 2025-05-10 22:05:09,920] Trial 3 finished with value: 0.5555286640820025 and parameters: {'n_neighbors': 37, 'min_dist': 0.01083858126934475, 'n_components': 98}. Best is trial 3 with value: 0.5555286640820025.\n",
      "[I 2025-05-10 22:05:18,418] Trial 4 finished with value: 0.5518138264785257 and parameters: {'n_neighbors': 43, 'min_dist': 0.022948683681130556, 'n_components': 22}. Best is trial 4 with value: 0.5518138264785257.\n",
      "[I 2025-05-10 22:05:26,571] Trial 5 finished with value: 0.6004120667643805 and parameters: {'n_neighbors': 13, 'min_dist': 0.0328774741399112, 'n_components': 55}. Best is trial 4 with value: 0.5518138264785257.\n",
      "[I 2025-05-10 22:05:35,688] Trial 6 finished with value: 0.5608187795559206 and parameters: {'n_neighbors': 24, 'min_dist': 0.03124565071260872, 'n_components': 63}. Best is trial 4 with value: 0.5518138264785257.\n",
      "[I 2025-05-10 22:05:43,013] Trial 7 finished with value: 0.616787576567341 and parameters: {'n_neighbors': 11, 'min_dist': 0.03135775732257745, 'n_components': 40}. Best is trial 4 with value: 0.5518138264785257.\n",
      "[I 2025-05-10 22:05:50,982] Trial 8 finished with value: 0.5595578820135972 and parameters: {'n_neighbors': 25, 'min_dist': 0.21576967455896826, 'n_components': 24}. Best is trial 4 with value: 0.5518138264785257.\n",
      "[I 2025-05-10 22:05:58,422] Trial 9 finished with value: 0.5716646007970355 and parameters: {'n_neighbors': 28, 'min_dist': 0.10150667045928574, 'n_components': 9}. Best is trial 4 with value: 0.5518138264785257.\n",
      "[I 2025-05-10 22:06:06,575] Trial 10 finished with value: 0.5528085410262827 and parameters: {'n_neighbors': 49, 'min_dist': 0.08901658169707402, 'n_components': 34}. Best is trial 4 with value: 0.5518138264785257.\n",
      "[I 2025-05-10 22:06:14,970] Trial 11 finished with value: 0.550241240751863 and parameters: {'n_neighbors': 48, 'min_dist': 0.08674167448981392, 'n_components': 37}. Best is trial 11 with value: 0.550241240751863.\n",
      "[I 2025-05-10 22:06:23,411] Trial 12 finished with value: 0.5492681096346558 and parameters: {'n_neighbors': 50, 'min_dist': 0.06438867686032909, 'n_components': 37}. Best is trial 12 with value: 0.5492681096346558.\n",
      "[I 2025-05-10 22:06:31,966] Trial 13 finished with value: 0.5474707754793755 and parameters: {'n_neighbors': 50, 'min_dist': 0.060609533444242136, 'n_components': 42}. Best is trial 13 with value: 0.5474707754793755.\n",
      "[I 2025-05-10 22:06:40,687] Trial 14 finished with value: 0.553775369042505 and parameters: {'n_neighbors': 41, 'min_dist': 0.054696341306600824, 'n_components': 45}. Best is trial 13 with value: 0.5474707754793755.\n",
      "[I 2025-05-10 22:06:50,072] Trial 15 finished with value: 0.5581671402236105 and parameters: {'n_neighbors': 43, 'min_dist': 0.15481188016760222, 'n_components': 78}. Best is trial 13 with value: 0.5474707754793755.\n",
      "[I 2025-05-10 22:06:59,115] Trial 16 finished with value: 0.5493084740670213 and parameters: {'n_neighbors': 49, 'min_dist': 0.053883027667706064, 'n_components': 50}. Best is trial 13 with value: 0.5474707754793755.\n",
      "[I 2025-05-10 22:07:08,007] Trial 17 finished with value: 0.5423331865674791 and parameters: {'n_neighbors': 36, 'min_dist': 0.05102798314560107, 'n_components': 31}. Best is trial 17 with value: 0.5423331865674791.\n",
      "[I 2025-05-10 22:07:15,438] Trial 18 finished with value: 0.5920655212403297 and parameters: {'n_neighbors': 36, 'min_dist': 0.15825281741722602, 'n_components': 5}. Best is trial 17 with value: 0.5423331865674791.\n",
      "[I 2025-05-10 22:07:23,381] Trial 19 finished with value: 0.5945339203499518 and parameters: {'n_neighbors': 20, 'min_dist': 0.04150457474206196, 'n_components': 25}. Best is trial 17 with value: 0.5423331865674791.\n",
      "[I 2025-05-10 22:07:31,986] Trial 20 finished with value: 0.5553725001866401 and parameters: {'n_neighbors': 31, 'min_dist': 0.015232664097864883, 'n_components': 29}. Best is trial 17 with value: 0.5423331865674791.\n",
      "[I 2025-05-10 22:07:40,639] Trial 21 finished with value: 0.5484746820450517 and parameters: {'n_neighbors': 45, 'min_dist': 0.05836121909965574, 'n_components': 44}. Best is trial 17 with value: 0.5423331865674791.\n",
      "[I 2025-05-10 22:07:49,625] Trial 22 finished with value: 0.5431093929943013 and parameters: {'n_neighbors': 38, 'min_dist': 0.10925937157543228, 'n_components': 52}. Best is trial 17 with value: 0.5423331865674791.\n",
      "[I 2025-05-10 22:07:58,763] Trial 23 finished with value: 0.5545053672762635 and parameters: {'n_neighbors': 38, 'min_dist': 0.12876552773295485, 'n_components': 57}. Best is trial 17 with value: 0.5423331865674791.\n",
      "[I 2025-05-10 22:08:07,445] Trial 24 finished with value: 0.5483263417116191 and parameters: {'n_neighbors': 34, 'min_dist': 0.1147458257671089, 'n_components': 72}. Best is trial 17 with value: 0.5423331865674791.\n",
      "[I 2025-05-10 22:08:15,578] Trial 25 finished with value: 0.5645221012327513 and parameters: {'n_neighbors': 40, 'min_dist': 0.07406935102023511, 'n_components': 15}. Best is trial 17 with value: 0.5423331865674791.\n",
      "[I 2025-05-10 22:08:24,601] Trial 26 finished with value: 0.5561108990797861 and parameters: {'n_neighbors': 44, 'min_dist': 0.04249656554427802, 'n_components': 51}. Best is trial 17 with value: 0.5423331865674791.\n",
      "[I 2025-05-10 22:08:33,277] Trial 27 finished with value: 0.5484423619258899 and parameters: {'n_neighbors': 30, 'min_dist': 0.22554481443399996, 'n_components': 30}. Best is trial 17 with value: 0.5423331865674791.\n",
      "[I 2025-05-10 22:08:42,751] Trial 28 finished with value: 0.555686657249814 and parameters: {'n_neighbors': 34, 'min_dist': 0.04037166705155385, 'n_components': 85}. Best is trial 17 with value: 0.5423331865674791.\n",
      "[I 2025-05-10 22:08:50,893] Trial 29 finished with value: 0.5726332926016874 and parameters: {'n_neighbors': 20, 'min_dist': 0.0805631306801316, 'n_components': 67}. Best is trial 17 with value: 0.5423331865674791.\n"
     ]
    }
   ],
   "source": [
    "UMAP_PARAMETERS = True\n",
    "\n",
    "if UMAP_PARAMETERS: \n",
    "    fold_results, umap_parameters = run_cross_validation(all_train_embeddings,\n",
    "                                                         train_df['label'],\n",
    "                                                         n_splits=3,\n",
    "                                                         n_trials=30)\n",
    "else:\n",
    "    fold_results, umap_parameters = ({'fold_1': {'best_params': {'n_neighbors': 44,\n",
    "                                                                 'min_dist': 0.01235186974283217,\n",
    "                                                                 'n_components': 68},\n",
    "                                                 'test_logreg': 0.5635397850605937},\n",
    "                                      'fold_2': {'best_params': {'n_neighbors': 29,\n",
    "                                                                 'min_dist': 0.34830209280647606,\n",
    "                                                                 'n_components': 67},\n",
    "                                                 'test_logreg': 0.5451873304628118},\n",
    "                                      'fold_3': {'best_params': {'n_neighbors': 36,\n",
    "                                                                 'min_dist': 0.05102798314560107,\n",
    "                                                                 'n_components': 31},\n",
    "                                                 'test_logreg': 0.5423331865674791}},\n",
    "                                     {'n_neighbors': 36, 'min_dist': 0.13722731523163642, 'n_components': 55})"
   ]
  },
  {
   "cell_type": "code",
   "execution_count": 38,
   "metadata": {},
   "outputs": [
    {
     "data": {
      "text/plain": [
       "({'fold_1': {'best_params': {'n_neighbors': 44,\n",
       "    'min_dist': 0.01235186974283217,\n",
       "    'n_components': 68},\n",
       "   'test_logreg': 0.5635397850605937},\n",
       "  'fold_2': {'best_params': {'n_neighbors': 29,\n",
       "    'min_dist': 0.34830209280647606,\n",
       "    'n_components': 67},\n",
       "   'test_logreg': 0.5451873304628118},\n",
       "  'fold_3': {'best_params': {'n_neighbors': 36,\n",
       "    'min_dist': 0.05102798314560107,\n",
       "    'n_components': 31},\n",
       "   'test_logreg': 0.5423331865674791}},\n",
       " {'n_neighbors': 36, 'min_dist': 0.13722731523163642, 'n_components': 55})"
      ]
     },
     "execution_count": 38,
     "metadata": {},
     "output_type": "execute_result"
    }
   ],
   "source": [
    "fold_results, umap_parameters"
   ]
  },
  {
   "cell_type": "code",
   "execution_count": 39,
   "metadata": {},
   "outputs": [
    {
     "name": "stdout",
     "output_type": "stream",
     "text": [
      "Размер UMAP эмбеддингов трейна: (1572, 55)\n"
     ]
    }
   ],
   "source": [
    "# Уменьшение размерности с помощью UMAP\n",
    "umap_model = umap.UMAP(**umap_parameters,\n",
    "                       metric='cosine',\n",
    "                       random_state=42)\n",
    "train_reduced_embeddings = umap_model.fit_transform(all_train_embeddings)\n",
    "print(f'Размер UMAP эмбеддингов трейна: {train_reduced_embeddings.shape}')"
   ]
  },
  {
   "cell_type": "code",
   "execution_count": 40,
   "metadata": {},
   "outputs": [
    {
     "name": "stdout",
     "output_type": "stream",
     "text": [
      "Размер PCA эмбеддингов трейна: (1572, 50)\n"
     ]
    }
   ],
   "source": [
    "pca_model = PCA(n_components=50)\n",
    "\n",
    "train_decomposed_embeddings = pca_model.fit_transform(all_train_embeddings)\n",
    "print(f'Размер PCA эмбеддингов трейна: {train_decomposed_embeddings.shape}')"
   ]
  },
  {
   "cell_type": "code",
   "execution_count": 41,
   "metadata": {},
   "outputs": [
    {
     "name": "stdout",
     "output_type": "stream",
     "text": [
      "Размер PPL factors + UMAP + PCA эмбеддингов трейна: (1572, 125)\n"
     ]
    }
   ],
   "source": [
    "X_train = np.hstack([train_factors, train_reduced_embeddings, train_decomposed_embeddings])\n",
    "\n",
    "print(f'Размер PPL factors + UMAP + PCA эмбеддингов трейна: {X_train.shape}')"
   ]
  },
  {
   "cell_type": "markdown",
   "metadata": {},
   "source": [
    "## 2. Обучение"
   ]
  },
  {
   "cell_type": "markdown",
   "metadata": {},
   "source": [
    "### 2.1. Кастомный класс для кросс-валидации с использованием CatBoost\n",
    "- Можно отследить среднее количество итераций для финального использования"
   ]
  },
  {
   "cell_type": "code",
   "execution_count": 43,
   "metadata": {},
   "outputs": [],
   "source": [
    "class CustomCatboostCV():\n",
    "    def __init__(self, \n",
    "                 train: pd.DataFrame, \n",
    "                 target: np.ndarray, \n",
    "                 main_estimator: object, \n",
    "                 main_fit_params: dict):\n",
    "\n",
    "        self.X_train = pd.DataFrame(train).copy()\n",
    "        self.y_train = target.copy()\n",
    "        \n",
    "        self.main_estimator = main_estimator\n",
    "        self.main_fit_params = main_fit_params\n",
    "        \n",
    "    def _get_metric(self, y_true, y_pred):\n",
    "        \n",
    "        result = log_loss(y_true, y_pred)\n",
    "        \n",
    "        return result\n",
    "\n",
    "    def _calc_main_metric(self, X_train, X_test, y_train, y_test)-> dict:\n",
    "\n",
    "        y_pred_train = self.main_estimator.predict(X_train)\n",
    "        y_pred_test = self.main_estimator.predict(X_test)\n",
    "\n",
    "        main_train = self._get_metric(y_true=y_train, y_pred=y_pred_train)\n",
    "        main_valid = self._get_metric(y_true=y_test, y_pred=y_pred_test)\n",
    "\n",
    "        dict_temp = {'main_train': main_train, 'main_valid': main_valid}\n",
    "        \n",
    "        return dict_temp\n",
    "\n",
    "    def _model_fit(self, \n",
    "                   X_train: pd.DataFrame, \n",
    "                   y_train: pd.DataFrame, \n",
    "                   X_val=None, \n",
    "                   y_val=None):\n",
    "        \n",
    "        self.main_fit_params.update({'X':X_train, \n",
    "                                     'y':y_train, \n",
    "                                     'eval_set':(X_val, y_val)\n",
    "                                    })\n",
    "\n",
    "        # Обучаем модель на трейне\n",
    "        self.main_estimator.fit(**self.main_fit_params)\n",
    "\n",
    "        print('BEST ITERATION: ', self.main_estimator.get_best_iteration())\n",
    "        best_iteration = self.main_estimator.get_best_iteration()\n",
    "        evals = self.main_estimator.get_evals_result()\n",
    "        \n",
    "\n",
    "        # формируем предсказания для тестовой выборки\n",
    "        x_test_predict = self.main_estimator.predict_proba(X_val)[:,1]\n",
    "        main_metric = self._calc_main_metric(X_train = X_train, X_test=X_val, y_train=y_train, y_test=y_val)\n",
    "\n",
    "        return best_iteration, evals, main_metric\n",
    "\n",
    "    def model_fit_cv(self, strat):\n",
    "        i=0\n",
    "        \n",
    "        self._test_group = []\n",
    "\n",
    "        self._best_iters = []\n",
    "        self._main_scores = {}\n",
    "\n",
    "        # убрать X_train_global\n",
    "\n",
    "        X_train_global = self.X_train.copy()\n",
    "        y_train_global = self.y_train.copy()\n",
    "\n",
    "        for (train_index, test_index) in tqdm(strat.split(X_train_global, y_train_global)):\n",
    "            i+=1\n",
    "\n",
    "            print(f'==================== Обучение {i} фолда! ====================')\n",
    "\n",
    "            X_train, X_test = X_train_global.iloc[train_index],X_train_global.iloc[test_index]\n",
    "            y_train, y_test = y_train_global.iloc[train_index],y_train_global.iloc[test_index]\n",
    "\n",
    "            # модель с контролем переобучения на последнем фолде\n",
    "            best_iter, evals, main_metric  = self._model_fit(X_train=X_train, \n",
    "                                                             y_train=y_train,\n",
    "                                                             X_val=X_test, \n",
    "                                                             y_val=y_test)\n",
    "\n",
    "            self._best_iters.append(best_iter)\n",
    "            self._main_scores[f'scores_{i}'] = main_metric\n",
    "            print()\n",
    "            print(f\"LogLoss на обучающей выборке: {main_metric['main_train']}\")\n",
    "            print(f\"LogLoss на проверочной выборке: {main_metric['main_valid']}\")\n",
    "            print()\n",
    "            \n",
    "        val_metrics = []\n",
    "        for i in range(1, len(self._main_scores)+1):\n",
    "            val_metrics.append(self._main_scores[f'scores_{i}']['main_valid']) \n",
    "        self.mean_cv_scores = np.mean(val_metrics)\n",
    "        print()\n",
    "        print(f\"Среднее значение LogLoss: {self.mean_cv_scores}\")"
   ]
  },
  {
   "cell_type": "code",
   "execution_count": 44,
   "metadata": {},
   "outputs": [],
   "source": [
    "# Стартовые параметры модели, обучения в кросс-валидации и стратегия стратификации\n",
    "\n",
    "params = {'iterations':1500,\n",
    "          'loss_function':'Logloss',\n",
    "          'random_state':42,\n",
    "          'eval_metric':'Logloss',\n",
    "          'thread_count':-1\n",
    "         }\n",
    "\n",
    "fit_params = {'use_best_model':True,\n",
    "              'early_stopping_rounds':150, \n",
    "              'verbose':0,\n",
    "              'plot':False}\n",
    "\n",
    "strat = StratifiedKFold(\n",
    "    n_splits=3,\n",
    "    shuffle=True,\n",
    "    random_state=42)"
   ]
  },
  {
   "cell_type": "markdown",
   "metadata": {},
   "source": [
    "### 2.2. Подбор гиперпараметров с контролем переобучения на кросс-валидации с помощью Optuna"
   ]
  },
  {
   "cell_type": "code",
   "execution_count": 46,
   "metadata": {
    "scrolled": true
   },
   "outputs": [
    {
     "name": "stderr",
     "output_type": "stream",
     "text": [
      "[I 2025-05-10 22:10:20,697] A new study created in memory with name: no-name-b090aa13-1ab7-42da-bb79-6ffa64b152f2\n",
      "0it [00:00, ?it/s]"
     ]
    },
    {
     "name": "stdout",
     "output_type": "stream",
     "text": [
      "==================== Обучение 1 фолда! ====================\n"
     ]
    },
    {
     "name": "stderr",
     "output_type": "stream",
     "text": [
      "1it [00:11, 11.23s/it]"
     ]
    },
    {
     "name": "stdout",
     "output_type": "stream",
     "text": [
      "BEST ITERATION:  43\n",
      "\n",
      "LogLoss на обучающей выборке: 1.1349623681687657\n",
      "LogLoss на проверочной выборке: 9.010913347279288\n",
      "\n",
      "==================== Обучение 2 фолда! ====================\n"
     ]
    },
    {
     "name": "stderr",
     "output_type": "stream",
     "text": [
      "2it [00:24, 12.14s/it]"
     ]
    },
    {
     "name": "stdout",
     "output_type": "stream",
     "text": [
      "BEST ITERATION:  68\n",
      "\n",
      "LogLoss на обучающей выборке: 0.8942127749208456\n",
      "LogLoss на проверочной выборке: 8.460628562712614\n",
      "\n",
      "==================== Обучение 3 фолда! ====================\n"
     ]
    },
    {
     "name": "stderr",
     "output_type": "stream",
     "text": [
      "3it [00:36, 12.21s/it]\n",
      "[I 2025-05-10 22:10:57,338] Trial 0 finished with value: 8.804556553066785 and parameters: {'learning_rate': 0.010253509690168494, 'depth': 9, 'subsample': 0.8720536237417198, 'colsample_bylevel': 0.8146346649119967, 'l2_leaf_reg': 1.77071686435378e-07}. Best is trial 0 with value: 8.804556553066785.\n"
     ]
    },
    {
     "name": "stdout",
     "output_type": "stream",
     "text": [
      "BEST ITERATION:  66\n",
      "\n",
      "LogLoss на обучающей выборке: 0.8942127749208456\n",
      "LogLoss на проверочной выборке: 8.942127749208453\n",
      "\n",
      "\n",
      "Среднее значение LogLoss: 8.804556553066785\n"
     ]
    },
    {
     "name": "stderr",
     "output_type": "stream",
     "text": [
      "0it [00:00, ?it/s]"
     ]
    },
    {
     "name": "stdout",
     "output_type": "stream",
     "text": [
      "==================== Обучение 1 фолда! ====================\n"
     ]
    },
    {
     "name": "stderr",
     "output_type": "stream",
     "text": [
      "1it [00:02,  2.96s/it]"
     ]
    },
    {
     "name": "stdout",
     "output_type": "stream",
     "text": [
      "BEST ITERATION:  1499\n",
      "\n",
      "LogLoss на обучающей выборке: 6.878559807083426\n",
      "LogLoss на проверочной выборке: 8.116700572358443\n",
      "\n",
      "==================== Обучение 2 фолда! ====================\n"
     ]
    },
    {
     "name": "stderr",
     "output_type": "stream",
     "text": [
      "2it [00:05,  2.97s/it]"
     ]
    },
    {
     "name": "stdout",
     "output_type": "stream",
     "text": [
      "BEST ITERATION:  1499\n",
      "\n",
      "LogLoss на обучающей выборке: 6.809774209012592\n",
      "LogLoss на проверочной выборке: 7.979129376216774\n",
      "\n",
      "==================== Обучение 3 фолда! ====================\n"
     ]
    },
    {
     "name": "stderr",
     "output_type": "stream",
     "text": [
      "3it [00:08,  2.96s/it]\n",
      "[I 2025-05-10 22:11:06,210] Trial 1 finished with value: 8.13962910504872 and parameters: {'learning_rate': 0.0026364803038431655, 'depth': 3, 'subsample': 0.9339235897314236, 'colsample_bylevel': 0.815657556757104, 'l2_leaf_reg': 0.004619347374377372}. Best is trial 1 with value: 8.13962910504872.\n"
     ]
    },
    {
     "name": "stdout",
     "output_type": "stream",
     "text": [
      "BEST ITERATION:  1499\n",
      "\n",
      "LogLoss на обучающей выборке: 6.844167008048009\n",
      "LogLoss на проверочной выборке: 8.323057366570945\n",
      "\n",
      "\n",
      "Среднее значение LogLoss: 8.13962910504872\n"
     ]
    },
    {
     "name": "stderr",
     "output_type": "stream",
     "text": [
      "0it [00:00, ?it/s]"
     ]
    },
    {
     "name": "stdout",
     "output_type": "stream",
     "text": [
      "==================== Обучение 1 фолда! ====================\n"
     ]
    },
    {
     "name": "stderr",
     "output_type": "stream",
     "text": [
      "1it [00:38, 38.81s/it]"
     ]
    },
    {
     "name": "stdout",
     "output_type": "stream",
     "text": [
      "BEST ITERATION:  557\n",
      "\n",
      "LogLoss на обучающей выборке: 0.7910343778145942\n",
      "LogLoss на проверочной выборке: 8.460628562712614\n",
      "\n",
      "==================== Обучение 2 фолда! ====================\n"
     ]
    },
    {
     "name": "stderr",
     "output_type": "stream",
     "text": [
      "2it [01:21, 41.19s/it]"
     ]
    },
    {
     "name": "stdout",
     "output_type": "stream",
     "text": [
      "BEST ITERATION:  646\n",
      "\n",
      "LogLoss на обучающей выборке: 0.8598199758854285\n",
      "LogLoss на проверочной выборке: 8.391842964641782\n",
      "\n",
      "==================== Обучение 3 фолда! ====================\n"
     ]
    },
    {
     "name": "stderr",
     "output_type": "stream",
     "text": [
      "3it [02:02, 40.94s/it]\n",
      "[I 2025-05-10 22:13:09,041] Trial 2 finished with value: 8.368914431951502 and parameters: {'learning_rate': 0.001136467270001117, 'depth': 9, 'subsample': 0.9179681421265244, 'colsample_bylevel': 0.6687417180293094, 'l2_leaf_reg': 2.8483918709107956e-07}. Best is trial 1 with value: 8.13962910504872.\n"
     ]
    },
    {
     "name": "stdout",
     "output_type": "stream",
     "text": [
      "BEST ITERATION:  611\n",
      "\n",
      "LogLoss на обучающей выборке: 0.8942127749208456\n",
      "LogLoss на проверочной выборке: 8.25427176850011\n",
      "\n",
      "\n",
      "Среднее значение LogLoss: 8.368914431951502\n"
     ]
    },
    {
     "name": "stderr",
     "output_type": "stream",
     "text": [
      "0it [00:00, ?it/s]"
     ]
    },
    {
     "name": "stdout",
     "output_type": "stream",
     "text": [
      "==================== Обучение 1 фолда! ====================\n"
     ]
    },
    {
     "name": "stderr",
     "output_type": "stream",
     "text": [
      "1it [00:03,  3.81s/it]"
     ]
    },
    {
     "name": "stdout",
     "output_type": "stream",
     "text": [
      "BEST ITERATION:  1005\n",
      "\n",
      "LogLoss на обучающей выборке: 3.680029496789633\n",
      "LogLoss на проверочной выборке: 7.91034377814594\n",
      "\n",
      "==================== Обучение 2 фолда! ====================\n"
     ]
    },
    {
     "name": "stderr",
     "output_type": "stream",
     "text": [
      "2it [00:08,  4.45s/it]"
     ]
    },
    {
     "name": "stdout",
     "output_type": "stream",
     "text": [
      "BEST ITERATION:  1475\n",
      "\n",
      "LogLoss на обучающей выборке: 2.9577807170458734\n",
      "LogLoss на проверочной выборке: 8.047914974287607\n",
      "\n",
      "==================== Обучение 3 фолда! ====================\n"
     ]
    },
    {
     "name": "stderr",
     "output_type": "stream",
     "text": [
      "3it [00:14,  4.67s/it]\n",
      "[I 2025-05-10 22:13:23,050] Trial 3 finished with value: 7.956200843526496 and parameters: {'learning_rate': 0.0031261029103110596, 'depth': 5, 'subsample': 0.7844545901841157, 'colsample_bylevel': 0.7481311065835492, 'l2_leaf_reg': 2.1371407316372935e-06}. Best is trial 3 with value: 7.956200843526496.\n"
     ]
    },
    {
     "name": "stdout",
     "output_type": "stream",
     "text": [
      "BEST ITERATION:  1119\n",
      "\n",
      "LogLoss на обучающей выборке: 3.680029496789633\n",
      "LogLoss на проверочной выборке: 7.91034377814594\n",
      "\n",
      "\n",
      "Среднее значение LogLoss: 7.956200843526496\n"
     ]
    },
    {
     "name": "stderr",
     "output_type": "stream",
     "text": [
      "0it [00:00, ?it/s]"
     ]
    },
    {
     "name": "stdout",
     "output_type": "stream",
     "text": [
      "==================== Обучение 1 фолда! ====================\n"
     ]
    },
    {
     "name": "stderr",
     "output_type": "stream",
     "text": [
      "1it [00:00,  1.39it/s]"
     ]
    },
    {
     "name": "stdout",
     "output_type": "stream",
     "text": [
      "BEST ITERATION:  133\n",
      "\n",
      "LogLoss на обучающей выборке: 6.0875254292688314\n",
      "LogLoss на проверочной выборке: 8.39184296464178\n",
      "\n",
      "==================== Обучение 2 фолда! ====================\n"
     ]
    },
    {
     "name": "stderr",
     "output_type": "stream",
     "text": [
      "2it [00:01,  1.20it/s]"
     ]
    },
    {
     "name": "stdout",
     "output_type": "stream",
     "text": [
      "BEST ITERATION:  208\n",
      "\n",
      "LogLoss на обучающей выборке: 4.780599065922981\n",
      "LogLoss на проверочной выборке: 7.979129376216774\n",
      "\n",
      "==================== Обучение 3 фолда! ====================\n"
     ]
    },
    {
     "name": "stderr",
     "output_type": "stream",
     "text": [
      "3it [00:02,  1.20it/s]\n",
      "[I 2025-05-10 22:13:25,554] Trial 4 finished with value: 8.208414703119555 and parameters: {'learning_rate': 0.044809759182149515, 'depth': 3, 'subsample': 0.6965674483654352, 'colsample_bylevel': 0.7234827275619211, 'l2_leaf_reg': 4.452048365748842e-05}. Best is trial 3 with value: 7.956200843526496.\n"
     ]
    },
    {
     "name": "stdout",
     "output_type": "stream",
     "text": [
      "BEST ITERATION:  272\n",
      "\n",
      "LogLoss на обучающей выборке: 3.920779090037553\n",
      "LogLoss на проверочной выборке: 8.25427176850011\n",
      "\n",
      "\n",
      "Среднее значение LogLoss: 8.208414703119555\n"
     ]
    },
    {
     "name": "stderr",
     "output_type": "stream",
     "text": [
      "0it [00:00, ?it/s]"
     ]
    },
    {
     "name": "stdout",
     "output_type": "stream",
     "text": [
      "==================== Обучение 1 фолда! ====================\n"
     ]
    },
    {
     "name": "stderr",
     "output_type": "stream",
     "text": [
      "1it [00:00,  1.87it/s]"
     ]
    },
    {
     "name": "stdout",
     "output_type": "stream",
     "text": [
      "BEST ITERATION:  25\n",
      "\n",
      "LogLoss на обучающей выборке: 6.0875254292688314\n",
      "LogLoss на проверочной выборке: 8.116700572358441\n",
      "\n",
      "==================== Обучение 2 фолда! ====================\n"
     ]
    },
    {
     "name": "stderr",
     "output_type": "stream",
     "text": [
      "2it [00:01,  1.85it/s]"
     ]
    },
    {
     "name": "stdout",
     "output_type": "stream",
     "text": [
      "BEST ITERATION:  45\n",
      "\n",
      "LogLoss на обучающей выборке: 4.574242271710478\n",
      "LogLoss на проверочной выборке: 8.460628562712614\n",
      "\n",
      "==================== Обучение 3 фолда! ====================\n"
     ]
    },
    {
     "name": "stderr",
     "output_type": "stream",
     "text": [
      "3it [00:01,  1.79it/s]\n",
      "[I 2025-05-10 22:13:27,232] Trial 5 finished with value: 8.162557637738997 and parameters: {'learning_rate': 0.13157287601765633, 'depth': 4, 'subsample': 0.7802495332778758, 'colsample_bylevel': 0.8120404846670511, 'l2_leaf_reg': 2.3528990899815284e-08}. Best is trial 3 with value: 7.956200843526496.\n"
     ]
    },
    {
     "name": "stdout",
     "output_type": "stream",
     "text": [
      "BEST ITERATION:  51\n",
      "\n",
      "LogLoss на обучающей выборке: 4.367885477497976\n",
      "LogLoss на проверочной выборке: 7.91034377814594\n",
      "\n",
      "\n",
      "Среднее значение LogLoss: 8.162557637738997\n"
     ]
    },
    {
     "name": "stderr",
     "output_type": "stream",
     "text": [
      "0it [00:00, ?it/s]"
     ]
    },
    {
     "name": "stdout",
     "output_type": "stream",
     "text": [
      "==================== Обучение 1 фолда! ====================\n"
     ]
    },
    {
     "name": "stderr",
     "output_type": "stream",
     "text": [
      "1it [00:00,  1.35it/s]"
     ]
    },
    {
     "name": "stdout",
     "output_type": "stream",
     "text": [
      "BEST ITERATION:  121\n",
      "\n",
      "LogLoss на обучающей выборке: 5.330883850489656\n",
      "LogLoss на проверочной выборке: 8.047914974287607\n",
      "\n",
      "==================== Обучение 2 фолда! ====================\n"
     ]
    },
    {
     "name": "stderr",
     "output_type": "stream",
     "text": [
      "2it [00:02,  1.10s/it]"
     ]
    },
    {
     "name": "stdout",
     "output_type": "stream",
     "text": [
      "BEST ITERATION:  311\n",
      "\n",
      "LogLoss на обучающей выборке: 2.2011391382666963\n",
      "LogLoss на проверочной выборке: 7.4288445916501\n",
      "\n",
      "==================== Обучение 3 фолда! ====================\n"
     ]
    },
    {
     "name": "stderr",
     "output_type": "stream",
     "text": [
      "3it [00:03,  1.06s/it]\n",
      "[I 2025-05-10 22:13:30,423] Trial 6 finished with value: 7.841558180075105 and parameters: {'learning_rate': 0.04362599362560559, 'depth': 4, 'subsample': 0.6202729826779961, 'colsample_bylevel': 0.974227356206172, 'l2_leaf_reg': 0.530953226900921}. Best is trial 6 with value: 7.841558180075105.\n"
     ]
    },
    {
     "name": "stdout",
     "output_type": "stream",
     "text": [
      "BEST ITERATION:  267\n",
      "\n",
      "LogLoss на обучающей выборке: 2.7858167218687875\n",
      "LogLoss на проверочной выборке: 8.047914974287607\n",
      "\n",
      "\n",
      "Среднее значение LogLoss: 7.841558180075105\n"
     ]
    },
    {
     "name": "stderr",
     "output_type": "stream",
     "text": [
      "0it [00:00, ?it/s]"
     ]
    },
    {
     "name": "stdout",
     "output_type": "stream",
     "text": [
      "==================== Обучение 1 фолда! ====================\n"
     ]
    },
    {
     "name": "stderr",
     "output_type": "stream",
     "text": [
      "1it [00:00,  1.70it/s]"
     ]
    },
    {
     "name": "stdout",
     "output_type": "stream",
     "text": [
      "BEST ITERATION:  12\n",
      "\n",
      "LogLoss на обучающей выборке: 6.534631816729254\n",
      "LogLoss на проверочной выборке: 9.21727014149179\n",
      "\n",
      "==================== Обучение 2 фолда! ====================\n"
     ]
    },
    {
     "name": "stderr",
     "output_type": "stream",
     "text": [
      "2it [00:01,  1.56it/s]"
     ]
    },
    {
     "name": "stdout",
     "output_type": "stream",
     "text": [
      "BEST ITERATION:  10\n",
      "\n",
      "LogLoss на обучающей выборке: 6.500239017693838\n",
      "LogLoss на проверочной выборке: 8.116700572358441\n",
      "\n",
      "==================== Обучение 3 фолда! ====================\n"
     ]
    },
    {
     "name": "stderr",
     "output_type": "stream",
     "text": [
      "3it [00:01,  1.59it/s]\n",
      "[I 2025-05-10 22:13:32,311] Trial 7 finished with value: 8.62112829154456 and parameters: {'learning_rate': 0.15199881220083966, 'depth': 5, 'subsample': 0.630695433816894, 'colsample_bylevel': 0.8510351378449301, 'l2_leaf_reg': 3.320625892007924e-05}. Best is trial 6 with value: 7.841558180075105.\n"
     ]
    },
    {
     "name": "stdout",
     "output_type": "stream",
     "text": [
      "BEST ITERATION:  13\n",
      "\n",
      "LogLoss на обучающей выборке: 5.846775836020912\n",
      "LogLoss на проверочной выборке: 8.529414160783448\n",
      "\n",
      "\n",
      "Среднее значение LogLoss: 8.62112829154456\n"
     ]
    },
    {
     "name": "stderr",
     "output_type": "stream",
     "text": [
      "0it [00:00, ?it/s]"
     ]
    },
    {
     "name": "stdout",
     "output_type": "stream",
     "text": [
      "==================== Обучение 1 фолда! ====================\n"
     ]
    },
    {
     "name": "stderr",
     "output_type": "stream",
     "text": [
      "1it [00:06,  6.34s/it]"
     ]
    },
    {
     "name": "stdout",
     "output_type": "stream",
     "text": [
      "BEST ITERATION:  968\n",
      "\n",
      "LogLoss на обучающей выборке: 2.7858167218687875\n",
      "LogLoss на проверочной выборке: 8.047914974287607\n",
      "\n",
      "==================== Обучение 2 фолда! ====================\n"
     ]
    },
    {
     "name": "stderr",
     "output_type": "stream",
     "text": [
      "2it [00:14,  7.39s/it]"
     ]
    },
    {
     "name": "stdout",
     "output_type": "stream",
     "text": [
      "BEST ITERATION:  1325\n",
      "\n",
      "LogLoss на обучающей выборке: 2.5794599276562846\n",
      "LogLoss на проверочной выборке: 8.047914974287607\n",
      "\n",
      "==================== Обучение 3 фолда! ====================\n"
     ]
    },
    {
     "name": "stderr",
     "output_type": "stream",
     "text": [
      "3it [00:21,  7.03s/it]\n",
      "[I 2025-05-10 22:13:53,396] Trial 8 finished with value: 8.208414703119553 and parameters: {'learning_rate': 0.0021348999901951954, 'depth': 6, 'subsample': 0.6106330420868968, 'colsample_bylevel': 0.9547350016689365, 'l2_leaf_reg': 1.1755466083160747e-06}. Best is trial 6 with value: 7.841558180075105.\n"
     ]
    },
    {
     "name": "stdout",
     "output_type": "stream",
     "text": [
      "BEST ITERATION:  1026\n",
      "\n",
      "LogLoss на обучающей выборке: 3.1641375112583763\n",
      "LogLoss на проверочной выборке: 8.529414160783448\n",
      "\n",
      "\n",
      "Среднее значение LogLoss: 8.208414703119553\n"
     ]
    },
    {
     "name": "stderr",
     "output_type": "stream",
     "text": [
      "0it [00:00, ?it/s]"
     ]
    },
    {
     "name": "stdout",
     "output_type": "stream",
     "text": [
      "==================== Обучение 1 фолда! ====================\n"
     ]
    },
    {
     "name": "stderr",
     "output_type": "stream",
     "text": [
      "1it [00:00,  1.42it/s]"
     ]
    },
    {
     "name": "stdout",
     "output_type": "stream",
     "text": [
      "BEST ITERATION:  47\n",
      "\n",
      "LogLoss на обучающей выборке: 4.367885477497976\n",
      "LogLoss на проверочной выборке: 7.841558180075106\n",
      "\n",
      "==================== Обучение 2 фолда! ====================\n"
     ]
    },
    {
     "name": "stderr",
     "output_type": "stream",
     "text": [
      "2it [00:01,  1.39it/s]"
     ]
    },
    {
     "name": "stdout",
     "output_type": "stream",
     "text": [
      "BEST ITERATION:  41\n",
      "\n",
      "LogLoss на обучающей выборке: 4.91817026206465\n",
      "LogLoss на проверочной выборке: 7.841558180075106\n",
      "\n",
      "==================== Обучение 3 фолда! ====================\n"
     ]
    },
    {
     "name": "stderr",
     "output_type": "stream",
     "text": [
      "3it [00:02,  1.40it/s]\n",
      "[I 2025-05-10 22:13:55,545] Trial 9 finished with value: 7.9791293762167745 and parameters: {'learning_rate': 0.06139426050898151, 'depth': 5, 'subsample': 0.7825781006217943, 'colsample_bylevel': 0.7933014393434058, 'l2_leaf_reg': 3.0118659882617117e-07}. Best is trial 6 with value: 7.841558180075105.\n"
     ]
    },
    {
     "name": "stdout",
     "output_type": "stream",
     "text": [
      "BEST ITERATION:  42\n",
      "\n",
      "LogLoss на обучающей выборке: 4.952563061100067\n",
      "LogLoss на проверочной выборке: 8.25427176850011\n",
      "\n",
      "\n",
      "Среднее значение LogLoss: 7.9791293762167745\n"
     ]
    },
    {
     "name": "stderr",
     "output_type": "stream",
     "text": [
      "0it [00:00, ?it/s]"
     ]
    },
    {
     "name": "stdout",
     "output_type": "stream",
     "text": [
      "==================== Обучение 1 фолда! ====================\n"
     ]
    },
    {
     "name": "stderr",
     "output_type": "stream",
     "text": [
      "1it [00:01,  1.54s/it]"
     ]
    },
    {
     "name": "stdout",
     "output_type": "stream",
     "text": [
      "BEST ITERATION:  4\n",
      "\n",
      "LogLoss на обучающей выборке: 5.64041904180841\n",
      "LogLoss на проверочной выборке: 9.35484133763346\n",
      "\n",
      "==================== Обучение 2 фолда! ====================\n"
     ]
    },
    {
     "name": "stderr",
     "output_type": "stream",
     "text": [
      "2it [00:03,  1.53s/it]"
     ]
    },
    {
     "name": "stdout",
     "output_type": "stream",
     "text": [
      "BEST ITERATION:  6\n",
      "\n",
      "LogLoss на обучающей выборке: 4.505456673639644\n",
      "LogLoss на проверочной выборке: 8.873342151137619\n",
      "\n",
      "==================== Обучение 3 фолда! ====================\n"
     ]
    },
    {
     "name": "stderr",
     "output_type": "stream",
     "text": [
      "3it [00:04,  1.52s/it]\n",
      "[I 2025-05-10 22:14:00,131] Trial 10 finished with value: 9.125556010730678 and parameters: {'learning_rate': 0.3780579970966646, 'depth': 7, 'subsample': 0.6829061946208347, 'colsample_bylevel': 0.9773473424904051, 'l2_leaf_reg': 0.7433098422141456}. Best is trial 6 with value: 7.841558180075105.\n"
     ]
    },
    {
     "name": "stdout",
     "output_type": "stream",
     "text": [
      "BEST ITERATION:  2\n",
      "\n",
      "LogLoss на обучающей выборке: 6.190703826375084\n",
      "LogLoss на проверочной выборке: 9.148484543420956\n",
      "\n",
      "\n",
      "Среднее значение LogLoss: 9.125556010730678\n"
     ]
    },
    {
     "name": "stderr",
     "output_type": "stream",
     "text": [
      "0it [00:00, ?it/s]"
     ]
    },
    {
     "name": "stdout",
     "output_type": "stream",
     "text": [
      "==================== Обучение 1 фолда! ====================\n"
     ]
    },
    {
     "name": "stderr",
     "output_type": "stream",
     "text": [
      "1it [00:02,  2.08s/it]"
     ]
    },
    {
     "name": "stdout",
     "output_type": "stream",
     "text": [
      "BEST ITERATION:  498\n",
      "\n",
      "LogLoss на обучающей выборке: 3.2673159083646275\n",
      "LogLoss на проверочной выборке: 8.116700572358441\n",
      "\n",
      "==================== Обучение 2 фолда! ====================\n"
     ]
    },
    {
     "name": "stderr",
     "output_type": "stream",
     "text": [
      "2it [00:04,  2.47s/it]"
     ]
    },
    {
     "name": "stdout",
     "output_type": "stream",
     "text": [
      "BEST ITERATION:  664\n",
      "\n",
      "LogLoss на обучающей выборке: 3.129744712222959\n",
      "LogLoss на проверочной выборке: 7.6352013858626036\n",
      "\n",
      "==================== Обучение 3 фолда! ====================\n"
     ]
    },
    {
     "name": "stderr",
     "output_type": "stream",
     "text": [
      "3it [00:07,  2.55s/it]\n",
      "[I 2025-05-10 22:14:07,798] Trial 11 finished with value: 7.933272310836217 and parameters: {'learning_rate': 0.011440145789699797, 'depth': 5, 'subsample': 0.8311597170609171, 'colsample_bylevel': 0.6304688775302639, 'l2_leaf_reg': 0.9255354142640327}. Best is trial 6 with value: 7.841558180075105.\n"
     ]
    },
    {
     "name": "stdout",
     "output_type": "stream",
     "text": [
      "BEST ITERATION:  716\n",
      "\n",
      "LogLoss на обучающей выборке: 2.338710334408365\n",
      "LogLoss на проверочной выборке: 8.047914974287607\n",
      "\n",
      "\n",
      "Среднее значение LogLoss: 7.933272310836217\n"
     ]
    },
    {
     "name": "stderr",
     "output_type": "stream",
     "text": [
      "0it [00:00, ?it/s]"
     ]
    },
    {
     "name": "stdout",
     "output_type": "stream",
     "text": [
      "==================== Обучение 1 фолда! ====================\n"
     ]
    },
    {
     "name": "stderr",
     "output_type": "stream",
     "text": [
      "1it [00:03,  3.52s/it]"
     ]
    },
    {
     "name": "stdout",
     "output_type": "stream",
     "text": [
      "BEST ITERATION:  295\n",
      "\n",
      "LogLoss на обучающей выборке: 2.063567942125028\n",
      "LogLoss на проверочной выборке: 8.598199758854284\n",
      "\n",
      "==================== Обучение 2 фолда! ====================\n"
     ]
    },
    {
     "name": "stderr",
     "output_type": "stream",
     "text": [
      "2it [00:08,  4.22s/it]"
     ]
    },
    {
     "name": "stdout",
     "output_type": "stream",
     "text": [
      "BEST ITERATION:  376\n",
      "\n",
      "LogLoss на обучающей выборке: 1.754032750806274\n",
      "LogLoss на проверочной выборке: 7.841558180075106\n",
      "\n",
      "==================== Обучение 3 фолда! ====================\n"
     ]
    },
    {
     "name": "stderr",
     "output_type": "stream",
     "text": [
      "3it [00:12,  4.06s/it]\n",
      "[I 2025-05-10 22:14:19,981] Trial 12 finished with value: 8.300128833880668 and parameters: {'learning_rate': 0.011271119030499393, 'depth': 7, 'subsample': 0.8419502746254528, 'colsample_bylevel': 0.6161475063850188, 'l2_leaf_reg': 0.8954605814027881}. Best is trial 6 with value: 7.841558180075105.\n"
     ]
    },
    {
     "name": "stdout",
     "output_type": "stream",
     "text": [
      "BEST ITERATION:  371\n",
      "\n",
      "LogLoss на обучающей выборке: 1.822818348877108\n",
      "LogLoss на проверочной выборке: 8.460628562712614\n",
      "\n",
      "\n",
      "Среднее значение LogLoss: 8.300128833880668\n"
     ]
    },
    {
     "name": "stderr",
     "output_type": "stream",
     "text": [
      "0it [00:00, ?it/s]"
     ]
    },
    {
     "name": "stdout",
     "output_type": "stream",
     "text": [
      "==================== Обучение 1 фолда! ====================\n"
     ]
    },
    {
     "name": "stderr",
     "output_type": "stream",
     "text": [
      "1it [00:01,  1.31s/it]"
     ]
    },
    {
     "name": "stdout",
     "output_type": "stream",
     "text": [
      "BEST ITERATION:  380\n",
      "\n",
      "LogLoss на обучающей выборке: 4.677420668816731\n",
      "LogLoss на проверочной выборке: 8.185486170429275\n",
      "\n",
      "==================== Обучение 2 фолда! ====================\n"
     ]
    },
    {
     "name": "stderr",
     "output_type": "stream",
     "text": [
      "2it [00:03,  1.56s/it]"
     ]
    },
    {
     "name": "stdout",
     "output_type": "stream",
     "text": [
      "BEST ITERATION:  561\n",
      "\n",
      "LogLoss на обучающей выборке: 3.439279903541713\n",
      "LogLoss на проверочной выборке: 7.841558180075106\n",
      "\n",
      "==================== Обучение 3 фолда! ====================\n"
     ]
    },
    {
     "name": "stderr",
     "output_type": "stream",
     "text": [
      "3it [00:04,  1.56s/it]\n",
      "[I 2025-05-10 22:14:24,667] Trial 13 finished with value: 7.956200843526496 and parameters: {'learning_rate': 0.014276386935417643, 'depth': 4, 'subsample': 0.9974124871895576, 'colsample_bylevel': 0.6049242151654568, 'l2_leaf_reg': 0.01097228946494572}. Best is trial 6 with value: 7.841558180075105.\n"
     ]
    },
    {
     "name": "stdout",
     "output_type": "stream",
     "text": [
      "BEST ITERATION:  525\n",
      "\n",
      "LogLoss на обучающей выборке: 3.5080655016125473\n",
      "LogLoss на проверочной выборке: 7.841558180075106\n",
      "\n",
      "\n",
      "Среднее значение LogLoss: 7.956200843526496\n"
     ]
    },
    {
     "name": "stderr",
     "output_type": "stream",
     "text": [
      "0it [00:00, ?it/s]"
     ]
    },
    {
     "name": "stdout",
     "output_type": "stream",
     "text": [
      "==================== Обучение 1 фолда! ====================\n"
     ]
    },
    {
     "name": "stderr",
     "output_type": "stream",
     "text": [
      "1it [00:00,  1.30it/s]"
     ]
    },
    {
     "name": "stdout",
     "output_type": "stream",
     "text": [
      "BEST ITERATION:  126\n",
      "\n",
      "LogLoss на обучающей выборке: 5.812383036985495\n",
      "LogLoss на проверочной выборке: 7.772772582004272\n",
      "\n",
      "==================== Обучение 2 фолда! ====================\n"
     ]
    },
    {
     "name": "stderr",
     "output_type": "stream",
     "text": [
      "2it [00:01,  1.01it/s]"
     ]
    },
    {
     "name": "stdout",
     "output_type": "stream",
     "text": [
      "BEST ITERATION:  267\n",
      "\n",
      "LogLoss на обучающей выборке: 3.783207893895884\n",
      "LogLoss на проверочной выборке: 7.841558180075106\n",
      "\n",
      "==================== Обучение 3 фолда! ====================\n"
     ]
    },
    {
     "name": "stderr",
     "output_type": "stream",
     "text": [
      "3it [00:02,  1.05it/s]\n",
      "[I 2025-05-10 22:14:27,542] Trial 14 finished with value: 8.002057908907053 and parameters: {'learning_rate': 0.031435220571104504, 'depth': 4, 'subsample': 0.7056934572862557, 'colsample_bylevel': 0.8980401430826741, 'l2_leaf_reg': 0.014975871295888897}. Best is trial 6 with value: 7.841558180075105.\n"
     ]
    },
    {
     "name": "stdout",
     "output_type": "stream",
     "text": [
      "BEST ITERATION:  199\n",
      "\n",
      "LogLoss на обучающей выборке: 4.67742066881673\n",
      "LogLoss на проверочной выборке: 8.39184296464178\n",
      "\n",
      "\n",
      "Среднее значение LogLoss: 8.002057908907053\n"
     ]
    },
    {
     "name": "stderr",
     "output_type": "stream",
     "text": [
      "0it [00:00, ?it/s]"
     ]
    },
    {
     "name": "stdout",
     "output_type": "stream",
     "text": [
      "==================== Обучение 1 фолда! ====================\n"
     ]
    },
    {
     "name": "stderr",
     "output_type": "stream",
     "text": [
      "1it [00:02,  2.90s/it]"
     ]
    },
    {
     "name": "stdout",
     "output_type": "stream",
     "text": [
      "BEST ITERATION:  443\n",
      "\n",
      "LogLoss на обучающей выборке: 2.923387918010456\n",
      "LogLoss на проверочной выборке: 7.91034377814594\n",
      "\n",
      "==================== Обучение 2 фолда! ====================\n"
     ]
    },
    {
     "name": "stderr",
     "output_type": "stream",
     "text": [
      "2it [00:06,  3.43s/it]"
     ]
    },
    {
     "name": "stdout",
     "output_type": "stream",
     "text": [
      "BEST ITERATION:  668\n",
      "\n",
      "LogLoss на обучающей выборке: 2.2011391382666963\n",
      "LogLoss на проверочной выборке: 7.566415787791769\n",
      "\n",
      "==================== Обучение 3 фолда! ====================\n"
     ]
    },
    {
     "name": "stderr",
     "output_type": "stream",
     "text": [
      "3it [00:10,  3.43s/it]\n",
      "[I 2025-05-10 22:14:37,840] Trial 15 finished with value: 7.841558180075105 and parameters: {'learning_rate': 0.007799077746163579, 'depth': 6, 'subsample': 0.657896916009767, 'colsample_bylevel': 0.6880260157863983, 'l2_leaf_reg': 0.11285206610431871}. Best is trial 6 with value: 7.841558180075105.\n"
     ]
    },
    {
     "name": "stdout",
     "output_type": "stream",
     "text": [
      "BEST ITERATION:  605\n",
      "\n",
      "LogLoss на обучающей выборке: 2.1323535401958624\n",
      "LogLoss на проверочной выборке: 8.047914974287607\n",
      "\n",
      "\n",
      "Среднее значение LogLoss: 7.841558180075105\n"
     ]
    },
    {
     "name": "stderr",
     "output_type": "stream",
     "text": [
      "0it [00:00, ?it/s]"
     ]
    },
    {
     "name": "stdout",
     "output_type": "stream",
     "text": [
      "==================== Обучение 1 фолда! ====================\n"
     ]
    },
    {
     "name": "stderr",
     "output_type": "stream",
     "text": [
      "1it [00:03,  3.97s/it]"
     ]
    },
    {
     "name": "stdout",
     "output_type": "stream",
     "text": [
      "BEST ITERATION:  332\n",
      "\n",
      "LogLoss на обучающей выборке: 2.6138527266917024\n",
      "LogLoss на проверочной выборке: 7.979129376216774\n",
      "\n",
      "==================== Обучение 2 фолда! ====================\n"
     ]
    },
    {
     "name": "stderr",
     "output_type": "stream",
     "text": [
      "2it [00:09,  5.10s/it]"
     ]
    },
    {
     "name": "stdout",
     "output_type": "stream",
     "text": [
      "BEST ITERATION:  518\n",
      "\n",
      "LogLoss на обучающей выборке: 1.7196399517708567\n",
      "LogLoss на проверочной выборке: 8.185486170429275\n",
      "\n",
      "==================== Обучение 3 фолда! ====================\n"
     ]
    },
    {
     "name": "stderr",
     "output_type": "stream",
     "text": [
      "3it [00:14,  4.86s/it]\n",
      "[I 2025-05-10 22:14:52,428] Trial 16 finished with value: 8.277200301190389 and parameters: {'learning_rate': 0.005792121337455279, 'depth': 7, 'subsample': 0.6521615076708458, 'colsample_bylevel': 0.6941315779405606, 'l2_leaf_reg': 0.056472994074464}. Best is trial 6 with value: 7.841558180075105.\n"
     ]
    },
    {
     "name": "stdout",
     "output_type": "stream",
     "text": [
      "BEST ITERATION:  414\n",
      "\n",
      "LogLoss на обучающей выборке: 2.3387103344083653\n",
      "LogLoss на проверочной выборке: 8.666985356925116\n",
      "\n",
      "\n",
      "Среднее значение LogLoss: 8.277200301190389\n"
     ]
    },
    {
     "name": "stderr",
     "output_type": "stream",
     "text": [
      "0it [00:00, ?it/s]"
     ]
    },
    {
     "name": "stdout",
     "output_type": "stream",
     "text": [
      "==================== Обучение 1 фолда! ====================\n"
     ]
    },
    {
     "name": "stderr",
     "output_type": "stream",
     "text": [
      "1it [00:02,  2.56s/it]"
     ]
    },
    {
     "name": "stdout",
     "output_type": "stream",
     "text": [
      "BEST ITERATION:  7\n",
      "\n",
      "LogLoss на обучающей выборке: 3.95517188907297\n",
      "LogLoss на проверочной выборке: 9.492412533775127\n",
      "\n",
      "==================== Обучение 2 фолда! ====================\n"
     ]
    },
    {
     "name": "stderr",
     "output_type": "stream",
     "text": [
      "2it [00:05,  2.57s/it]"
     ]
    },
    {
     "name": "stdout",
     "output_type": "stream",
     "text": [
      "BEST ITERATION:  17\n",
      "\n",
      "LogLoss на обучающей выборке: 1.9603895450187765\n",
      "LogLoss на проверочной выборке: 9.079698945350122\n",
      "\n",
      "==================== Обучение 3 фолда! ====================\n"
     ]
    },
    {
     "name": "stderr",
     "output_type": "stream",
     "text": [
      "3it [00:07,  2.55s/it]\n",
      "[I 2025-05-10 22:15:00,082] Trial 17 finished with value: 9.240198674182068 and parameters: {'learning_rate': 0.08171274833468442, 'depth': 8, 'subsample': 0.6042374709049062, 'colsample_bylevel': 0.6595548100172959, 'l2_leaf_reg': 0.0009816503918936815}. Best is trial 6 with value: 7.841558180075105.\n"
     ]
    },
    {
     "name": "stdout",
     "output_type": "stream",
     "text": [
      "BEST ITERATION:  11\n",
      "\n",
      "LogLoss на обучающей выборке: 3.3017087074000444\n",
      "LogLoss на проверочной выборке: 9.148484543420956\n",
      "\n",
      "\n",
      "Среднее значение LogLoss: 9.240198674182068\n"
     ]
    },
    {
     "name": "stderr",
     "output_type": "stream",
     "text": [
      "0it [00:00, ?it/s]"
     ]
    },
    {
     "name": "stdout",
     "output_type": "stream",
     "text": [
      "==================== Обучение 1 фолда! ====================\n"
     ]
    },
    {
     "name": "stderr",
     "output_type": "stream",
     "text": [
      "1it [00:01,  1.62s/it]"
     ]
    },
    {
     "name": "stdout",
     "output_type": "stream",
     "text": [
      "BEST ITERATION:  125\n",
      "\n",
      "LogLoss на обучающей выборке: 2.785816721868788\n",
      "LogLoss на проверочной выборке: 8.116700572358443\n",
      "\n",
      "==================== Обучение 2 фолда! ====================\n"
     ]
    },
    {
     "name": "stderr",
     "output_type": "stream",
     "text": [
      "2it [00:03,  1.81s/it]"
     ]
    },
    {
     "name": "stdout",
     "output_type": "stream",
     "text": [
      "BEST ITERATION:  194\n",
      "\n",
      "LogLoss на обучающей выборке: 2.2699247363375306\n",
      "LogLoss на проверочной выборке: 8.116700572358441\n",
      "\n",
      "==================== Обучение 3 фолда! ====================\n"
     ]
    },
    {
     "name": "stderr",
     "output_type": "stream",
     "text": [
      "3it [00:05,  1.91s/it]\n",
      "[I 2025-05-10 22:15:05,844] Trial 18 finished with value: 8.04791497428761 and parameters: {'learning_rate': 0.025639298078533754, 'depth': 6, 'subsample': 0.7335752759512079, 'colsample_bylevel': 0.9052982323888796, 'l2_leaf_reg': 0.1375680957244866}. Best is trial 6 with value: 7.841558180075105.\n"
     ]
    },
    {
     "name": "stdout",
     "output_type": "stream",
     "text": [
      "BEST ITERATION:  226\n",
      "\n",
      "LogLoss на обучающей выборке: 1.4101047604521026\n",
      "LogLoss на проверочной выборке: 7.91034377814594\n",
      "\n",
      "\n",
      "Среднее значение LogLoss: 8.04791497428761\n"
     ]
    },
    {
     "name": "stderr",
     "output_type": "stream",
     "text": [
      "0it [00:00, ?it/s]"
     ]
    },
    {
     "name": "stdout",
     "output_type": "stream",
     "text": [
      "==================== Обучение 1 фолда! ====================\n"
     ]
    },
    {
     "name": "stderr",
     "output_type": "stream",
     "text": [
      "1it [00:00,  1.26it/s]"
     ]
    },
    {
     "name": "stdout",
     "output_type": "stream",
     "text": [
      "BEST ITERATION:  0\n",
      "\n",
      "LogLoss на обучающей выборке: 9.492412533775127\n",
      "LogLoss на проверочной выборке: 10.66176770097931\n",
      "\n",
      "==================== Обучение 2 фолда! ====================\n"
     ]
    },
    {
     "name": "stderr",
     "output_type": "stream",
     "text": [
      "2it [00:01,  1.22it/s]"
     ]
    },
    {
     "name": "stdout",
     "output_type": "stream",
     "text": [
      "BEST ITERATION:  0\n",
      "\n",
      "LogLoss на обучающей выборке: 8.873342151137619\n",
      "LogLoss на проверочной выборке: 9.905126122200134\n",
      "\n",
      "==================== Обучение 3 фолда! ====================\n"
     ]
    },
    {
     "name": "stderr",
     "output_type": "stream",
     "text": [
      "3it [00:02,  1.24it/s]\n",
      "[I 2025-05-10 22:15:08,288] Trial 19 finished with value: 10.088554383722359 and parameters: {'learning_rate': 0.38748160411954774, 'depth': 6, 'subsample': 0.6531877421176774, 'colsample_bylevel': 0.744000027269943, 'l2_leaf_reg': 0.00028744726373050524}. Best is trial 6 with value: 7.841558180075105.\n"
     ]
    },
    {
     "name": "stdout",
     "output_type": "stream",
     "text": [
      "BEST ITERATION:  2\n",
      "\n",
      "LogLoss на обучающей выборке: 7.703986983933437\n",
      "LogLoss на проверочной выборке: 9.698769327987632\n",
      "\n",
      "\n",
      "Среднее значение LogLoss: 10.088554383722359\n"
     ]
    },
    {
     "name": "stderr",
     "output_type": "stream",
     "text": [
      "0it [00:00, ?it/s]"
     ]
    },
    {
     "name": "stdout",
     "output_type": "stream",
     "text": [
      "==================== Обучение 1 фолда! ====================\n"
     ]
    },
    {
     "name": "stderr",
     "output_type": "stream",
     "text": [
      "1it [00:06,  6.86s/it]"
     ]
    },
    {
     "name": "stdout",
     "output_type": "stream",
     "text": [
      "BEST ITERATION:  281\n",
      "\n",
      "LogLoss на обучающей выборке: 1.7196399517708567\n",
      "LogLoss на проверочной выборке: 7.979129376216774\n",
      "\n",
      "==================== Обучение 2 фолда! ====================\n"
     ]
    },
    {
     "name": "stderr",
     "output_type": "stream",
     "text": [
      "2it [00:15,  7.87s/it]"
     ]
    },
    {
     "name": "stdout",
     "output_type": "stream",
     "text": [
      "BEST ITERATION:  408\n",
      "\n",
      "LogLoss на обучающей выборке: 1.2037479662395998\n",
      "LogLoss на проверочной выборке: 7.703986983933437\n",
      "\n",
      "==================== Обучение 3 фолда! ====================\n"
     ]
    },
    {
     "name": "stderr",
     "output_type": "stream",
     "text": [
      "3it [00:23,  7.84s/it]\n",
      "[I 2025-05-10 22:15:31,834] Trial 20 finished with value: 8.002057908907053 and parameters: {'learning_rate': 0.005252489838581002, 'depth': 8, 'subsample': 0.7450780383638049, 'colsample_bylevel': 0.6939368228799834, 'l2_leaf_reg': 0.09112495155970052}. Best is trial 6 with value: 7.841558180075105.\n"
     ]
    },
    {
     "name": "stdout",
     "output_type": "stream",
     "text": [
      "BEST ITERATION:  359\n",
      "\n",
      "LogLoss на обучающей выборке: 1.3069263633458512\n",
      "LogLoss на проверочной выборке: 8.323057366570945\n",
      "\n",
      "\n",
      "Среднее значение LogLoss: 8.002057908907053\n"
     ]
    },
    {
     "name": "stderr",
     "output_type": "stream",
     "text": [
      "0it [00:00, ?it/s]"
     ]
    },
    {
     "name": "stdout",
     "output_type": "stream",
     "text": [
      "==================== Обучение 1 фолда! ====================\n"
     ]
    },
    {
     "name": "stderr",
     "output_type": "stream",
     "text": [
      "1it [00:01,  1.39s/it]"
     ]
    },
    {
     "name": "stdout",
     "output_type": "stream",
     "text": [
      "BEST ITERATION:  268\n",
      "\n",
      "LogLoss на обучающей выборке: 3.989564688108387\n",
      "LogLoss на проверочной выборке: 8.047914974287607\n",
      "\n",
      "==================== Обучение 2 фолда! ====================\n"
     ]
    },
    {
     "name": "stderr",
     "output_type": "stream",
     "text": [
      "2it [00:03,  1.63s/it]"
     ]
    },
    {
     "name": "stdout",
     "output_type": "stream",
     "text": [
      "BEST ITERATION:  393\n",
      "\n",
      "LogLoss на обучающей выборке: 3.3704943054708787\n",
      "LogLoss на проверочной выборке: 7.566415787791769\n",
      "\n",
      "==================== Обучение 3 фолда! ====================\n"
     ]
    },
    {
     "name": "stderr",
     "output_type": "stream",
     "text": [
      "3it [00:05,  1.70s/it]\n",
      "[I 2025-05-10 22:15:36,946] Trial 21 finished with value: 7.841558180075105 and parameters: {'learning_rate': 0.01655095756089952, 'depth': 5, 'subsample': 0.8260914119696621, 'colsample_bylevel': 0.6318751142670568, 'l2_leaf_reg': 0.3046321751986714}. Best is trial 6 with value: 7.841558180075105.\n"
     ]
    },
    {
     "name": "stdout",
     "output_type": "stream",
     "text": [
      "BEST ITERATION:  449\n",
      "\n",
      "LogLoss на обучающей выборке: 2.648245525727119\n",
      "LogLoss на проверочной выборке: 7.91034377814594\n",
      "\n",
      "\n",
      "Среднее значение LogLoss: 7.841558180075105\n"
     ]
    },
    {
     "name": "stderr",
     "output_type": "stream",
     "text": [
      "0it [00:00, ?it/s]"
     ]
    },
    {
     "name": "stdout",
     "output_type": "stream",
     "text": [
      "==================== Обучение 1 фолда! ====================\n"
     ]
    },
    {
     "name": "stderr",
     "output_type": "stream",
     "text": [
      "1it [00:01,  1.01s/it]"
     ]
    },
    {
     "name": "stdout",
     "output_type": "stream",
     "text": [
      "BEST ITERATION:  250\n",
      "\n",
      "LogLoss на обучающей выборке: 5.0901342572417345\n",
      "LogLoss на проверочной выборке: 8.047914974287607\n",
      "\n",
      "==================== Обучение 2 фолда! ====================\n"
     ]
    },
    {
     "name": "stderr",
     "output_type": "stream",
     "text": [
      "2it [00:02,  1.27s/it]"
     ]
    },
    {
     "name": "stdout",
     "output_type": "stream",
     "text": [
      "BEST ITERATION:  434\n",
      "\n",
      "LogLoss на обучающей выборке: 3.5424583006479646\n",
      "LogLoss на проверочной выборке: 7.703986983933437\n",
      "\n",
      "==================== Обучение 3 фолда! ====================\n"
     ]
    },
    {
     "name": "stderr",
     "output_type": "stream",
     "text": [
      "3it [00:04,  1.35s/it]\n",
      "[I 2025-05-10 22:15:41,013] Trial 22 finished with value: 7.818629647384827 and parameters: {'learning_rate': 0.02252850830050382, 'depth': 4, 'subsample': 0.6577131255420214, 'colsample_bylevel': 0.6556830301283886, 'l2_leaf_reg': 0.10298740863909549}. Best is trial 22 with value: 7.818629647384827.\n"
     ]
    },
    {
     "name": "stdout",
     "output_type": "stream",
     "text": [
      "BEST ITERATION:  507\n",
      "\n",
      "LogLoss на обучающей выборке: 2.5450671286208677\n",
      "LogLoss на проверочной выборке: 7.703986983933437\n",
      "\n",
      "\n",
      "Среднее значение LogLoss: 7.818629647384827\n"
     ]
    },
    {
     "name": "stderr",
     "output_type": "stream",
     "text": [
      "0it [00:00, ?it/s]"
     ]
    },
    {
     "name": "stdout",
     "output_type": "stream",
     "text": [
      "==================== Обучение 1 фолда! ====================\n"
     ]
    },
    {
     "name": "stderr",
     "output_type": "stream",
     "text": [
      "1it [00:00,  1.12it/s]"
     ]
    },
    {
     "name": "stdout",
     "output_type": "stream",
     "text": [
      "BEST ITERATION:  326\n",
      "\n",
      "LogLoss на обучающей выборке: 4.127135884250056\n",
      "LogLoss на проверочной выборке: 8.391842964641778\n",
      "\n",
      "==================== Обучение 2 фолда! ====================\n"
     ]
    },
    {
     "name": "stderr",
     "output_type": "stream",
     "text": [
      "2it [00:02,  1.25s/it]"
     ]
    },
    {
     "name": "stdout",
     "output_type": "stream",
     "text": [
      "BEST ITERATION:  619\n",
      "\n",
      "LogLoss на обучающей выборке: 1.9603895450187765\n",
      "LogLoss на проверочной выборке: 7.703986983933437\n",
      "\n",
      "==================== Обучение 3 фолда! ====================\n"
     ]
    },
    {
     "name": "stderr",
     "output_type": "stream",
     "text": [
      "3it [00:03,  1.15s/it]\n",
      "[I 2025-05-10 22:15:44,481] Trial 23 finished with value: 7.933272310836217 and parameters: {'learning_rate': 0.03386538641564466, 'depth': 3, 'subsample': 0.6621640992386486, 'colsample_bylevel': 0.6568504270817218, 'l2_leaf_reg': 0.029927324368409662}. Best is trial 22 with value: 7.818629647384827.\n"
     ]
    },
    {
     "name": "stdout",
     "output_type": "stream",
     "text": [
      "BEST ITERATION:  398\n",
      "\n",
      "LogLoss на обучающей выборке: 3.989564688108387\n",
      "LogLoss на проверочной выборке: 7.703986983933437\n",
      "\n",
      "\n",
      "Среднее значение LogLoss: 7.933272310836217\n"
     ]
    },
    {
     "name": "stderr",
     "output_type": "stream",
     "text": [
      "0it [00:00, ?it/s]"
     ]
    },
    {
     "name": "stdout",
     "output_type": "stream",
     "text": [
      "==================== Обучение 1 фолда! ====================\n"
     ]
    },
    {
     "name": "stderr",
     "output_type": "stream",
     "text": [
      "1it [00:03,  3.06s/it]"
     ]
    },
    {
     "name": "stdout",
     "output_type": "stream",
     "text": [
      "BEST ITERATION:  1129\n",
      "\n",
      "LogLoss на обучающей выборке: 4.849384663993816\n",
      "LogLoss на проверочной выборке: 7.979129376216774\n",
      "\n",
      "==================== Обучение 2 фолда! ====================\n"
     ]
    },
    {
     "name": "stderr",
     "output_type": "stream",
     "text": [
      "2it [00:06,  3.37s/it]"
     ]
    },
    {
     "name": "stdout",
     "output_type": "stream",
     "text": [
      "BEST ITERATION:  1413\n",
      "\n",
      "LogLoss на обучающей выборке: 4.505456673639645\n",
      "LogLoss на проверочной выборке: 7.703986983933437\n",
      "\n",
      "==================== Обучение 3 фолда! ====================\n"
     ]
    },
    {
     "name": "stderr",
     "output_type": "stream",
     "text": [
      "3it [00:10,  3.45s/it]\n",
      "[I 2025-05-10 22:15:54,839] Trial 24 finished with value: 7.956200843526496 and parameters: {'learning_rate': 0.004932533878969715, 'depth': 4, 'subsample': 0.6251699968654835, 'colsample_bylevel': 0.7110574063992704, 'l2_leaf_reg': 0.0034780569061478354}. Best is trial 22 with value: 7.818629647384827.\n"
     ]
    },
    {
     "name": "stdout",
     "output_type": "stream",
     "text": [
      "BEST ITERATION:  1496\n",
      "\n",
      "LogLoss на обучающей выборке: 4.0927430852146385\n",
      "LogLoss на проверочной выборке: 8.185486170429275\n",
      "\n",
      "\n",
      "Среднее значение LogLoss: 7.956200843526496\n"
     ]
    },
    {
     "name": "stderr",
     "output_type": "stream",
     "text": [
      "0it [00:00, ?it/s]"
     ]
    },
    {
     "name": "stdout",
     "output_type": "stream",
     "text": [
      "==================== Обучение 1 фолда! ====================\n"
     ]
    },
    {
     "name": "stderr",
     "output_type": "stream",
     "text": [
      "1it [00:00,  1.62it/s]"
     ]
    },
    {
     "name": "stdout",
     "output_type": "stream",
     "text": [
      "BEST ITERATION:  80\n",
      "\n",
      "LogLoss на обучающей выборке: 3.886386291002136\n",
      "LogLoss на проверочной выборке: 8.25427176850011\n",
      "\n",
      "==================== Обучение 2 фолда! ====================\n"
     ]
    },
    {
     "name": "stderr",
     "output_type": "stream",
     "text": [
      "2it [00:01,  1.58it/s]"
     ]
    },
    {
     "name": "stdout",
     "output_type": "stream",
     "text": [
      "BEST ITERATION:  84\n",
      "\n",
      "LogLoss на обучающей выборке: 3.8176006929313013\n",
      "LogLoss на проверочной выборке: 8.254271768500113\n",
      "\n",
      "==================== Обучение 3 фолда! ====================\n"
     ]
    },
    {
     "name": "stderr",
     "output_type": "stream",
     "text": [
      "3it [00:01,  1.63it/s]\n",
      "[I 2025-05-10 22:15:56,702] Trial 25 finished with value: 8.483557095402892 and parameters: {'learning_rate': 0.10096942966913973, 'depth': 4, 'subsample': 0.6694068455982557, 'colsample_bylevel': 0.775045820515085, 'l2_leaf_reg': 0.14406698660304512}. Best is trial 22 with value: 7.818629647384827.\n"
     ]
    },
    {
     "name": "stdout",
     "output_type": "stream",
     "text": [
      "BEST ITERATION:  56\n",
      "\n",
      "LogLoss на обучающей выборке: 5.296491051454239\n",
      "LogLoss на проверочной выборке: 8.942127749208453\n",
      "\n",
      "\n",
      "Среднее значение LogLoss: 8.483557095402892\n"
     ]
    },
    {
     "name": "stderr",
     "output_type": "stream",
     "text": [
      "0it [00:00, ?it/s]"
     ]
    },
    {
     "name": "stdout",
     "output_type": "stream",
     "text": [
      "==================== Обучение 1 фолда! ====================\n"
     ]
    },
    {
     "name": "stderr",
     "output_type": "stream",
     "text": [
      "1it [00:02,  2.88s/it]"
     ]
    },
    {
     "name": "stdout",
     "output_type": "stream",
     "text": [
      "BEST ITERATION:  1437\n",
      "\n",
      "LogLoss на обучающей выборке: 3.95517188907297\n",
      "LogLoss на проверочной выборке: 8.323057366570946\n",
      "\n",
      "==================== Обучение 2 фолда! ====================\n"
     ]
    },
    {
     "name": "stderr",
     "output_type": "stream",
     "text": [
      "2it [00:05,  2.70s/it]"
     ]
    },
    {
     "name": "stdout",
     "output_type": "stream",
     "text": [
      "BEST ITERATION:  1215\n",
      "\n",
      "LogLoss на обучающей выборке: 5.021348659170901\n",
      "LogLoss на проверочной выборке: 7.635201385862602\n",
      "\n",
      "==================== Обучение 3 фолда! ====================\n"
     ]
    },
    {
     "name": "stderr",
     "output_type": "stream",
     "text": [
      "3it [00:08,  2.77s/it]\n",
      "[I 2025-05-10 22:16:05,036] Trial 26 finished with value: 8.002057908907052 and parameters: {'learning_rate': 0.007414572314582688, 'depth': 3, 'subsample': 0.7165697324542454, 'colsample_bylevel': 0.6757242349287185, 'l2_leaf_reg': 0.0008278774378568474}. Best is trial 22 with value: 7.818629647384827.\n"
     ]
    },
    {
     "name": "stdout",
     "output_type": "stream",
     "text": [
      "BEST ITERATION:  1499\n",
      "\n",
      "LogLoss на обучающей выборке: 4.0583502861792216\n",
      "LogLoss на проверочной выборке: 8.047914974287607\n",
      "\n",
      "\n",
      "Среднее значение LogLoss: 8.002057908907052\n"
     ]
    },
    {
     "name": "stderr",
     "output_type": "stream",
     "text": [
      "0it [00:00, ?it/s]"
     ]
    },
    {
     "name": "stdout",
     "output_type": "stream",
     "text": [
      "==================== Обучение 1 фолда! ====================\n"
     ]
    },
    {
     "name": "stderr",
     "output_type": "stream",
     "text": [
      "1it [00:01,  1.59s/it]"
     ]
    },
    {
     "name": "stdout",
     "output_type": "stream",
     "text": [
      "BEST ITERATION:  459\n",
      "\n",
      "LogLoss на обучающей выборке: 2.373103133443782\n",
      "LogLoss на проверочной выборке: 8.598199758854282\n",
      "\n",
      "==================== Обучение 2 фолда! ====================\n"
     ]
    },
    {
     "name": "stderr",
     "output_type": "stream",
     "text": [
      "2it [00:03,  1.52s/it]"
     ]
    },
    {
     "name": "stdout",
     "output_type": "stream",
     "text": [
      "BEST ITERATION:  396\n",
      "\n",
      "LogLoss на обучающей выборке: 4.058350286179221\n",
      "LogLoss на проверочной выборке: 7.635201385862603\n",
      "\n",
      "==================== Обучение 3 фолда! ====================\n"
     ]
    },
    {
     "name": "stderr",
     "output_type": "stream",
     "text": [
      "3it [00:04,  1.66s/it]\n",
      "[I 2025-05-10 22:16:10,041] Trial 27 finished with value: 7.9791293762167745 and parameters: {'learning_rate': 0.021683672836764898, 'depth': 4, 'subsample': 0.6366454624942537, 'colsample_bylevel': 0.8549159270372829, 'l2_leaf_reg': 0.03433204831619537}. Best is trial 22 with value: 7.818629647384827.\n"
     ]
    },
    {
     "name": "stdout",
     "output_type": "stream",
     "text": [
      "BEST ITERATION:  510\n",
      "\n",
      "LogLoss на обучающей выборке: 2.6826383247625363\n",
      "LogLoss на проверочной выборке: 7.703986983933437\n",
      "\n",
      "\n",
      "Среднее значение LogLoss: 7.9791293762167745\n"
     ]
    },
    {
     "name": "stderr",
     "output_type": "stream",
     "text": [
      "0it [00:00, ?it/s]"
     ]
    },
    {
     "name": "stdout",
     "output_type": "stream",
     "text": [
      "==================== Обучение 1 фолда! ====================\n"
     ]
    },
    {
     "name": "stderr",
     "output_type": "stream",
     "text": [
      "1it [00:01,  1.24s/it]"
     ]
    },
    {
     "name": "stdout",
     "output_type": "stream",
     "text": [
      "BEST ITERATION:  75\n",
      "\n",
      "LogLoss на обучающей выборке: 2.717031123797953\n",
      "LogLoss на проверочной выборке: 8.39184296464178\n",
      "\n",
      "==================== Обучение 2 фолда! ====================\n"
     ]
    },
    {
     "name": "stderr",
     "output_type": "stream",
     "text": [
      "2it [00:02,  1.25s/it]"
     ]
    },
    {
     "name": "stdout",
     "output_type": "stream",
     "text": [
      "BEST ITERATION:  86\n",
      "\n",
      "LogLoss на обучающей выборке: 2.888995118975039\n",
      "LogLoss на проверочной выборке: 7.841558180075106\n",
      "\n",
      "==================== Обучение 3 фолда! ====================\n"
     ]
    },
    {
     "name": "stderr",
     "output_type": "stream",
     "text": [
      "3it [00:03,  1.20s/it]\n",
      "[I 2025-05-10 22:16:13,668] Trial 28 finished with value: 8.070843506977887 and parameters: {'learning_rate': 0.04908535279932289, 'depth': 6, 'subsample': 0.7459350743533559, 'colsample_bylevel': 0.6395259119580174, 'l2_leaf_reg': 0.23198799371541917}. Best is trial 22 with value: 7.818629647384827.\n"
     ]
    },
    {
     "name": "stdout",
     "output_type": "stream",
     "text": [
      "BEST ITERATION:  76\n",
      "\n",
      "LogLoss на обучающей выборке: 3.3704943054708787\n",
      "LogLoss на проверочной выборке: 7.979129376216774\n",
      "\n",
      "\n",
      "Среднее значение LogLoss: 8.070843506977887\n"
     ]
    },
    {
     "name": "stderr",
     "output_type": "stream",
     "text": [
      "0it [00:00, ?it/s]"
     ]
    },
    {
     "name": "stdout",
     "output_type": "stream",
     "text": [
      "==================== Обучение 1 фолда! ====================\n"
     ]
    },
    {
     "name": "stderr",
     "output_type": "stream",
     "text": [
      "1it [00:02,  2.96s/it]"
     ]
    },
    {
     "name": "stdout",
     "output_type": "stream",
     "text": [
      "BEST ITERATION:  5\n",
      "\n",
      "LogLoss на обучающей выборке: 3.886386291002136\n",
      "LogLoss на проверочной выборке: 8.873342151137619\n",
      "\n",
      "==================== Обучение 2 фолда! ====================\n"
     ]
    },
    {
     "name": "stderr",
     "output_type": "stream",
     "text": [
      "2it [00:05,  2.98s/it]"
     ]
    },
    {
     "name": "stdout",
     "output_type": "stream",
     "text": [
      "BEST ITERATION:  7\n",
      "\n",
      "LogLoss на обучающей выборке: 2.9577807170458734\n",
      "LogLoss на проверочной выборке: 9.35484133763346\n",
      "\n",
      "==================== Обучение 3 фолда! ====================\n"
     ]
    },
    {
     "name": "stderr",
     "output_type": "stream",
     "text": [
      "3it [00:08,  2.92s/it]\n",
      "[I 2025-05-10 22:16:22,462] Trial 29 finished with value: 9.286055739562626 and parameters: {'learning_rate': 0.1833670672809849, 'depth': 8, 'subsample': 0.6035723637773159, 'colsample_bylevel': 0.9968596779907809, 'l2_leaf_reg': 0.003631323989437765}. Best is trial 22 with value: 7.818629647384827.\n"
     ]
    },
    {
     "name": "stdout",
     "output_type": "stream",
     "text": [
      "BEST ITERATION:  3\n",
      "\n",
      "LogLoss на обучающей выборке: 5.3652766495250725\n",
      "LogLoss на проверочной выборке: 9.629983729916795\n",
      "\n",
      "\n",
      "Среднее значение LogLoss: 9.286055739562626\n",
      "CPU times: user 40min 36s, sys: 25min 25s, total: 1h 6min 2s\n",
      "Wall time: 6min 1s\n"
     ]
    }
   ],
   "source": [
    "%%time\n",
    "\n",
    "CATB_PARAMETERS = True\n",
    "\n",
    "def create_model(trial):\n",
    "    \n",
    "    param = {'learning_rate':trial.suggest_loguniform('learning_rate', 0.001, 0.5),\n",
    "             'iterations':1500,\n",
    "             'loss_function':'Logloss',\n",
    "             'random_state':42,\n",
    "             'eval_metric':'Logloss',\n",
    "             'thread_count':-1,\n",
    "             'depth': trial.suggest_int('depth', 3, 9),\n",
    "             'subsample':trial.suggest_loguniform('subsample', 0.6, 1.0),\n",
    "             'colsample_bylevel':trial.suggest_loguniform('colsample_bylevel', 0.6, 1.0),\n",
    "             'l2_leaf_reg': trial.suggest_loguniform('l2_leaf_reg', 1e-8, 1.0)\n",
    "            }\n",
    "        \n",
    "    fit_params = {'early_stopping_rounds':150, \n",
    "                  'verbose':0}\n",
    "\n",
    "    # создаем экземпляр класса XGBClassifier\n",
    "    catb_model = ctb.CatBoostClassifier(**param)\n",
    "\n",
    "    model = CustomCatboostCV(\n",
    "        main_estimator=catb_model, \n",
    "        main_fit_params=fit_params,\n",
    "        \n",
    "        train=X_train,\n",
    "        target=train_df[\"label\"])\n",
    "    \n",
    "    return model\n",
    "    \n",
    "def objective(trial):\n",
    "    my_model = create_model(trial)\n",
    "    my_model.model_fit_cv(strat=strat)\n",
    "    return my_model.mean_cv_scores\n",
    "\n",
    "\n",
    "if CATB_PARAMETERS:\n",
    "    sampler = TPESampler(seed=42)\n",
    "    \n",
    "    study = optuna.create_study(direction='minimize', sampler=sampler)\n",
    "    study.optimize(objective, n_trials=30)\n",
    "    best_params = study.best_params\n",
    "else:\n",
    "    best_params = {'learning_rate': 0.02252850830050382,\n",
    "                   'depth': 4,\n",
    "                   'subsample': 0.6577131255420214,\n",
    "                   'colsample_bylevel': 0.6556830301283886,\n",
    "                   'l2_leaf_reg': 0.10298740863909549}"
   ]
  },
  {
   "cell_type": "code",
   "execution_count": 47,
   "metadata": {},
   "outputs": [
    {
     "data": {
      "text/plain": [
       "{'learning_rate': 0.02252850830050382,\n",
       " 'depth': 4,\n",
       " 'subsample': 0.6577131255420214,\n",
       " 'colsample_bylevel': 0.6556830301283886,\n",
       " 'l2_leaf_reg': 0.10298740863909549}"
      ]
     },
     "execution_count": 47,
     "metadata": {},
     "output_type": "execute_result"
    }
   ],
   "source": [
    "best_params"
   ]
  },
  {
   "cell_type": "code",
   "execution_count": 48,
   "metadata": {},
   "outputs": [
    {
     "data": {
      "text/plain": [
       "{'iterations': 1500,\n",
       " 'loss_function': 'Logloss',\n",
       " 'random_state': 42,\n",
       " 'eval_metric': 'Logloss',\n",
       " 'thread_count': -1,\n",
       " 'learning_rate': 0.02252850830050382,\n",
       " 'depth': 4,\n",
       " 'subsample': 0.6577131255420214,\n",
       " 'colsample_bylevel': 0.6556830301283886,\n",
       " 'l2_leaf_reg': 0.10298740863909549}"
      ]
     },
     "execution_count": 48,
     "metadata": {},
     "output_type": "execute_result"
    }
   ],
   "source": [
    "params.update(best_params)\n",
    "params"
   ]
  },
  {
   "cell_type": "code",
   "execution_count": 49,
   "metadata": {},
   "outputs": [],
   "source": [
    "catb_model = ctb.CatBoostClassifier(**params)\n",
    "\n",
    "model = CustomCatboostCV(\n",
    "    main_estimator=catb_model, \n",
    "    main_fit_params=fit_params,\n",
    "    \n",
    "    train=X_train,\n",
    "    target=train_df[\"label\"])"
   ]
  },
  {
   "cell_type": "code",
   "execution_count": 50,
   "metadata": {},
   "outputs": [
    {
     "name": "stderr",
     "output_type": "stream",
     "text": [
      "0it [00:00, ?it/s]"
     ]
    },
    {
     "name": "stdout",
     "output_type": "stream",
     "text": [
      "==================== Обучение 1 фолда! ====================\n"
     ]
    },
    {
     "name": "stderr",
     "output_type": "stream",
     "text": [
      "1it [00:01,  1.02s/it]"
     ]
    },
    {
     "name": "stdout",
     "output_type": "stream",
     "text": [
      "BEST ITERATION:  250\n",
      "\n",
      "LogLoss на обучающей выборке: 5.0901342572417345\n",
      "LogLoss на проверочной выборке: 8.047914974287607\n",
      "\n",
      "==================== Обучение 2 фолда! ====================\n"
     ]
    },
    {
     "name": "stderr",
     "output_type": "stream",
     "text": [
      "2it [00:02,  1.30s/it]"
     ]
    },
    {
     "name": "stdout",
     "output_type": "stream",
     "text": [
      "BEST ITERATION:  434\n",
      "\n",
      "LogLoss на обучающей выборке: 3.5424583006479646\n",
      "LogLoss на проверочной выборке: 7.703986983933437\n",
      "\n",
      "==================== Обучение 3 фолда! ====================\n"
     ]
    },
    {
     "name": "stderr",
     "output_type": "stream",
     "text": [
      "3it [00:04,  1.34s/it]"
     ]
    },
    {
     "name": "stdout",
     "output_type": "stream",
     "text": [
      "BEST ITERATION:  507\n",
      "\n",
      "LogLoss на обучающей выборке: 2.5450671286208677\n",
      "LogLoss на проверочной выборке: 7.703986983933437\n",
      "\n",
      "\n",
      "Среднее значение LogLoss: 7.818629647384827\n"
     ]
    },
    {
     "name": "stderr",
     "output_type": "stream",
     "text": [
      "\n"
     ]
    }
   ],
   "source": [
    "model.model_fit_cv(strat=strat)"
   ]
  },
  {
   "cell_type": "code",
   "execution_count": 51,
   "metadata": {},
   "outputs": [
    {
     "data": {
      "text/plain": [
       "{'iterations': 467,\n",
       " 'loss_function': 'Logloss',\n",
       " 'random_state': 42,\n",
       " 'eval_metric': 'Logloss',\n",
       " 'thread_count': -1,\n",
       " 'learning_rate': 0.02252850830050382,\n",
       " 'depth': 4,\n",
       " 'subsample': 0.6577131255420214,\n",
       " 'colsample_bylevel': 0.6556830301283886,\n",
       " 'l2_leaf_reg': 0.10298740863909549,\n",
       " 'verbose': 50}"
      ]
     },
     "execution_count": 51,
     "metadata": {},
     "output_type": "execute_result"
    }
   ],
   "source": [
    "# Обновляем количестро итераций, немного завышаем для чуть большего переобучения\n",
    "\n",
    "params[\"iterations\"] = int(np.mean(model._best_iters)/0.85)\n",
    "params[\"verbose\"] = 50\n",
    "params"
   ]
  },
  {
   "cell_type": "code",
   "execution_count": 52,
   "metadata": {},
   "outputs": [
    {
     "data": {
      "text/plain": [
       "{'iterations': 467,\n",
       " 'learning_rate': 0.02252850830050382,\n",
       " 'depth': 4,\n",
       " 'l2_leaf_reg': 0.10298740863909549,\n",
       " 'loss_function': 'Logloss',\n",
       " 'verbose': 50,\n",
       " 'eval_metric': 'Logloss',\n",
       " 'subsample': 0.6577131255420214,\n",
       " 'colsample_bylevel': 0.6556830301283886,\n",
       " 'random_state': 42}"
      ]
     },
     "execution_count": 52,
     "metadata": {},
     "output_type": "execute_result"
    }
   ],
   "source": [
    "# Обновляем модель CatBoostClassifier\n",
    "\n",
    "catb_model = ctb.CatBoostClassifier(**params)\n",
    "catb_model.get_params()"
   ]
  },
  {
   "cell_type": "code",
   "execution_count": 53,
   "metadata": {},
   "outputs": [
    {
     "name": "stdout",
     "output_type": "stream",
     "text": [
      "0:\tlearn: 0.6857138\ttotal: 1.43ms\tremaining: 669ms\n",
      "50:\tlearn: 0.5312082\ttotal: 84.4ms\tremaining: 689ms\n",
      "100:\tlearn: 0.4790037\ttotal: 162ms\tremaining: 588ms\n",
      "150:\tlearn: 0.4477099\ttotal: 233ms\tremaining: 487ms\n",
      "200:\tlearn: 0.4221475\ttotal: 302ms\tremaining: 400ms\n",
      "250:\tlearn: 0.3999407\ttotal: 381ms\tremaining: 328ms\n",
      "300:\tlearn: 0.3809456\ttotal: 466ms\tremaining: 257ms\n",
      "350:\tlearn: 0.3610847\ttotal: 540ms\tremaining: 178ms\n",
      "400:\tlearn: 0.3402160\ttotal: 613ms\tremaining: 101ms\n",
      "450:\tlearn: 0.3225440\ttotal: 696ms\tremaining: 24.7ms\n",
      "466:\tlearn: 0.3159959\ttotal: 724ms\tremaining: 0us\n"
     ]
    },
    {
     "data": {
      "text/plain": [
       "<catboost.core.CatBoostClassifier at 0x7f0d0838e8c0>"
      ]
     },
     "execution_count": 53,
     "metadata": {},
     "output_type": "execute_result"
    }
   ],
   "source": [
    "# Обучаем финальную модель\n",
    "\n",
    "catb_model.fit(X_train, train_df[\"label\"])"
   ]
  },
  {
   "cell_type": "markdown",
   "metadata": {},
   "source": [
    "## 3. Применение моделей на тестовом множестве\n",
    "* Воспроизводим всю генерацию факторов\n",
    "* Воспроизводим всю предобработку факторов и снижение размерности эмбеддингов\n",
    "* Применяем финальную модель"
   ]
  },
  {
   "cell_type": "code",
   "execution_count": 54,
   "metadata": {
    "scrolled": true
   },
   "outputs": [
    {
     "name": "stderr",
     "output_type": "stream",
     "text": [
      "100%|█████████████████████████████████████████████████████████████████████████████████| 676/676 [02:12<00:00,  5.11it/s]"
     ]
    },
    {
     "name": "stdout",
     "output_type": "stream",
     "text": [
      "(676, 29)\n"
     ]
    },
    {
     "name": "stderr",
     "output_type": "stream",
     "text": [
      "\n"
     ]
    },
    {
     "data": {
      "text/html": [
       "<div>\n",
       "<style scoped>\n",
       "    .dataframe tbody tr th:only-of-type {\n",
       "        vertical-align: middle;\n",
       "    }\n",
       "\n",
       "    .dataframe tbody tr th {\n",
       "        vertical-align: top;\n",
       "    }\n",
       "\n",
       "    .dataframe thead th {\n",
       "        text-align: right;\n",
       "    }\n",
       "</style>\n",
       "<table border=\"1\" class=\"dataframe\">\n",
       "  <thead>\n",
       "    <tr style=\"text-align: right;\">\n",
       "      <th></th>\n",
       "      <th>ID</th>\n",
       "      <th>text</th>\n",
       "      <th>text_for_transformers</th>\n",
       "      <th>text_for_vectorizer</th>\n",
       "      <th>text_for_embeddings</th>\n",
       "      <th>perplexities_gpt</th>\n",
       "      <th>perplexities_phi</th>\n",
       "      <th>cnt_ppl</th>\n",
       "      <th>mean_ppl_gpt</th>\n",
       "      <th>var_ppl_gpt</th>\n",
       "      <th>...</th>\n",
       "      <th>binned_(1.08, 8.34]</th>\n",
       "      <th>binned_(11.34, 12.77]</th>\n",
       "      <th>binned_(12.77, 15.13]</th>\n",
       "      <th>binned_(15.13, 19.49]</th>\n",
       "      <th>binned_(19.49, 27.58]</th>\n",
       "      <th>binned_(27.58, 58.42]</th>\n",
       "      <th>binned_(272.95, 1120591.46]</th>\n",
       "      <th>binned_(58.42, 272.95]</th>\n",
       "      <th>binned_(8.34, 9.78]</th>\n",
       "      <th>binned_(9.78, 11.34]</th>\n",
       "    </tr>\n",
       "  </thead>\n",
       "  <tbody>\n",
       "    <tr>\n",
       "      <th>0</th>\n",
       "      <td>00559a1338f444c18eb301f1c822b483_0</td>\n",
       "      <td>[квадрокоптth, экто квадратный вертолёт, харош]</td>\n",
       "      <td>[квадрокоптth, экто квадратный вертолёт, харош]</td>\n",
       "      <td>квадрокоптth экто квадратный вертолёт харош</td>\n",
       "      <td>квадрокоптth экто квадратный вертолёт харош</td>\n",
       "      <td>[111.36381008495029, 16.72231955741822, 14.601...</td>\n",
       "      <td>[86.22541481327156, 19.563231997176253, 17.365...</td>\n",
       "      <td>0.0</td>\n",
       "      <td>1.159714</td>\n",
       "      <td>4.708624</td>\n",
       "      <td>...</td>\n",
       "      <td>0.0</td>\n",
       "      <td>0.0</td>\n",
       "      <td>0.0</td>\n",
       "      <td>0.0</td>\n",
       "      <td>0.0</td>\n",
       "      <td>1.0</td>\n",
       "      <td>0.0</td>\n",
       "      <td>0.0</td>\n",
       "      <td>0.0</td>\n",
       "      <td>0.0</td>\n",
       "    </tr>\n",
       "    <tr>\n",
       "      <th>1</th>\n",
       "      <td>00559a1338f444c18eb301f1c822b483_1</td>\n",
       "      <td>[Привет, что это?, Понял, я знаю только квадро...</td>\n",
       "      <td>[привет, что это?, понял, я знаю только квадро...</td>\n",
       "      <td>привет это понять знать квадробер</td>\n",
       "      <td>привет, что это? понял, я знаю только квадроберов</td>\n",
       "      <td>[9.831017987928472, 11.15533307740913]</td>\n",
       "      <td>[5.233719862948588, 6.370072046242536]</td>\n",
       "      <td>-0.5</td>\n",
       "      <td>-0.282601</td>\n",
       "      <td>-0.068773</td>\n",
       "      <td>...</td>\n",
       "      <td>1.0</td>\n",
       "      <td>0.0</td>\n",
       "      <td>0.0</td>\n",
       "      <td>0.0</td>\n",
       "      <td>0.0</td>\n",
       "      <td>0.0</td>\n",
       "      <td>0.0</td>\n",
       "      <td>0.0</td>\n",
       "      <td>0.0</td>\n",
       "      <td>0.0</td>\n",
       "    </tr>\n",
       "    <tr>\n",
       "      <th>2</th>\n",
       "      <td>007bf899fb5b4a3b8105183d0ca56cfa_0</td>\n",
       "      <td>[hello, а у тебя как?]</td>\n",
       "      <td>[hello, а у тебя как?]</td>\n",
       "      <td>hello</td>\n",
       "      <td>hello а у тебя как?</td>\n",
       "      <td>[0, 27.364453979114362]</td>\n",
       "      <td>[0, 21.687074177222566]</td>\n",
       "      <td>-0.5</td>\n",
       "      <td>-0.158520</td>\n",
       "      <td>0.369546</td>\n",
       "      <td>...</td>\n",
       "      <td>0.0</td>\n",
       "      <td>1.0</td>\n",
       "      <td>0.0</td>\n",
       "      <td>0.0</td>\n",
       "      <td>0.0</td>\n",
       "      <td>0.0</td>\n",
       "      <td>0.0</td>\n",
       "      <td>0.0</td>\n",
       "      <td>0.0</td>\n",
       "      <td>0.0</td>\n",
       "    </tr>\n",
       "    <tr>\n",
       "      <th>3</th>\n",
       "      <td>007bf899fb5b4a3b8105183d0ca56cfa_1</td>\n",
       "      <td>[привет как дела гыы, отлично тащусь\\n гыы]</td>\n",
       "      <td>[привет как дела гыы, отлично тащусь гыы]</td>\n",
       "      <td>привет дело гыы отлично тащиться гыы</td>\n",
       "      <td>привет как дела гыы отлично тащусь гыы</td>\n",
       "      <td>[18.536590384973884, 17.173689696161293]</td>\n",
       "      <td>[13.505715092142136, 12.166454080497772]</td>\n",
       "      <td>-0.5</td>\n",
       "      <td>0.003843</td>\n",
       "      <td>-0.068712</td>\n",
       "      <td>...</td>\n",
       "      <td>0.0</td>\n",
       "      <td>0.0</td>\n",
       "      <td>0.0</td>\n",
       "      <td>1.0</td>\n",
       "      <td>0.0</td>\n",
       "      <td>0.0</td>\n",
       "      <td>0.0</td>\n",
       "      <td>0.0</td>\n",
       "      <td>0.0</td>\n",
       "      <td>0.0</td>\n",
       "    </tr>\n",
       "    <tr>\n",
       "      <th>4</th>\n",
       "      <td>00ae575033054ce3ba68d2d3e1ba30e2_0</td>\n",
       "      <td>[йоуйоу как оно, норм а у тебя, чеееееееееее, ...</td>\n",
       "      <td>[йоуйоу как оно, норм а у тебя, чеееееееееее, ...</td>\n",
       "      <td>йоуйоу оно норма чеееееееееий верить справитьс...</td>\n",
       "      <td>йоуйоу как оно норм а у тебя чеееееееееее я ве...</td>\n",
       "      <td>[34.07556052429414, 24.971979193692224, 33.386...</td>\n",
       "      <td>[15.32779949854643, 11.936516761472767, 12.944...</td>\n",
       "      <td>1.0</td>\n",
       "      <td>0.312194</td>\n",
       "      <td>0.044163</td>\n",
       "      <td>...</td>\n",
       "      <td>0.0</td>\n",
       "      <td>0.0</td>\n",
       "      <td>0.0</td>\n",
       "      <td>1.0</td>\n",
       "      <td>0.0</td>\n",
       "      <td>0.0</td>\n",
       "      <td>0.0</td>\n",
       "      <td>0.0</td>\n",
       "      <td>0.0</td>\n",
       "      <td>0.0</td>\n",
       "    </tr>\n",
       "  </tbody>\n",
       "</table>\n",
       "<p>5 rows × 29 columns</p>\n",
       "</div>"
      ],
      "text/plain": [
       "                                   ID  \\\n",
       "0  00559a1338f444c18eb301f1c822b483_0   \n",
       "1  00559a1338f444c18eb301f1c822b483_1   \n",
       "2  007bf899fb5b4a3b8105183d0ca56cfa_0   \n",
       "3  007bf899fb5b4a3b8105183d0ca56cfa_1   \n",
       "4  00ae575033054ce3ba68d2d3e1ba30e2_0   \n",
       "\n",
       "                                                text  \\\n",
       "0    [квадрокоптth, экто квадратный вертолёт, харош]   \n",
       "1  [Привет, что это?, Понял, я знаю только квадро...   \n",
       "2                             [hello, а у тебя как?]   \n",
       "3        [привет как дела гыы, отлично тащусь\\n гыы]   \n",
       "4  [йоуйоу как оно, норм а у тебя, чеееееееееее, ...   \n",
       "\n",
       "                               text_for_transformers  \\\n",
       "0    [квадрокоптth, экто квадратный вертолёт, харош]   \n",
       "1  [привет, что это?, понял, я знаю только квадро...   \n",
       "2                             [hello, а у тебя как?]   \n",
       "3          [привет как дела гыы, отлично тащусь гыы]   \n",
       "4  [йоуйоу как оно, норм а у тебя, чеееееееееее, ...   \n",
       "\n",
       "                                 text_for_vectorizer  \\\n",
       "0        квадрокоптth экто квадратный вертолёт харош   \n",
       "1                  привет это понять знать квадробер   \n",
       "2                                             hello    \n",
       "3               привет дело гыы отлично тащиться гыы   \n",
       "4  йоуйоу оно норма чеееееееееий верить справитьс...   \n",
       "\n",
       "                                 text_for_embeddings  \\\n",
       "0        квадрокоптth экто квадратный вертолёт харош   \n",
       "1  привет, что это? понял, я знаю только квадроберов   \n",
       "2                                hello а у тебя как?   \n",
       "3             привет как дела гыы отлично тащусь гыы   \n",
       "4  йоуйоу как оно норм а у тебя чеееееееееее я ве...   \n",
       "\n",
       "                                    perplexities_gpt  \\\n",
       "0  [111.36381008495029, 16.72231955741822, 14.601...   \n",
       "1             [9.831017987928472, 11.15533307740913]   \n",
       "2                            [0, 27.364453979114362]   \n",
       "3           [18.536590384973884, 17.173689696161293]   \n",
       "4  [34.07556052429414, 24.971979193692224, 33.386...   \n",
       "\n",
       "                                    perplexities_phi  cnt_ppl  mean_ppl_gpt  \\\n",
       "0  [86.22541481327156, 19.563231997176253, 17.365...      0.0      1.159714   \n",
       "1             [5.233719862948588, 6.370072046242536]     -0.5     -0.282601   \n",
       "2                            [0, 21.687074177222566]     -0.5     -0.158520   \n",
       "3           [13.505715092142136, 12.166454080497772]     -0.5      0.003843   \n",
       "4  [15.32779949854643, 11.936516761472767, 12.944...      1.0      0.312194   \n",
       "\n",
       "   var_ppl_gpt  ...  binned_(1.08, 8.34]  binned_(11.34, 12.77]  \\\n",
       "0     4.708624  ...                  0.0                    0.0   \n",
       "1    -0.068773  ...                  1.0                    0.0   \n",
       "2     0.369546  ...                  0.0                    1.0   \n",
       "3    -0.068712  ...                  0.0                    0.0   \n",
       "4     0.044163  ...                  0.0                    0.0   \n",
       "\n",
       "   binned_(12.77, 15.13]  binned_(15.13, 19.49]  binned_(19.49, 27.58]  \\\n",
       "0                    0.0                    0.0                    0.0   \n",
       "1                    0.0                    0.0                    0.0   \n",
       "2                    0.0                    0.0                    0.0   \n",
       "3                    0.0                    1.0                    0.0   \n",
       "4                    0.0                    1.0                    0.0   \n",
       "\n",
       "   binned_(27.58, 58.42]  binned_(272.95, 1120591.46]  binned_(58.42, 272.95]  \\\n",
       "0                    1.0                          0.0                     0.0   \n",
       "1                    0.0                          0.0                     0.0   \n",
       "2                    0.0                          0.0                     0.0   \n",
       "3                    0.0                          0.0                     0.0   \n",
       "4                    0.0                          0.0                     0.0   \n",
       "\n",
       "  binned_(8.34, 9.78]  binned_(9.78, 11.34]  \n",
       "0                 0.0                   0.0  \n",
       "1                 0.0                   0.0  \n",
       "2                 0.0                   0.0  \n",
       "3                 0.0                   0.0  \n",
       "4                 0.0                   0.0  \n",
       "\n",
       "[5 rows x 29 columns]"
      ]
     },
     "execution_count": 54,
     "metadata": {},
     "output_type": "execute_result"
    }
   ],
   "source": [
    "submission_data[['text_for_transformers', 'text_for_vectorizer']] = (submission_data['text']\n",
    "    .apply(lambda x: pd.Series(preprocess_text(text=x,\n",
    "                                     stopwords=STOP_WORDS))\n",
    "           )\n",
    ")\n",
    "\n",
    "submission_data = submission_data.sort_values(by=['ID', 'message_index'])\n",
    "\n",
    "# Шаг 2 и 3: Группировка по ID и агрегация данных\n",
    "def aggregate_group_test(group):\n",
    "    # Сбор текстов в список\n",
    "    text = group['text'].tolist()\n",
    "    text_for_transformers = group['text_for_transformers'].tolist()\n",
    "    text_for_vectorizer = ' '.join(group['text_for_vectorizer'].tolist())\n",
    "    text_for_embeddings = ' '.join(group['text_for_transformers'].tolist())\n",
    "    \n",
    "    return pd.Series({\n",
    "        'text': text,\n",
    "        'text_for_transformers': text_for_transformers,\n",
    "        'text_for_vectorizer': text_for_vectorizer,\n",
    "        'text_for_embeddings': text_for_embeddings\n",
    "    })\n",
    "\n",
    "# Применение функции агрегации\n",
    "result_submission_df = submission_data.groupby('ID').apply(aggregate_group_test).reset_index()\n",
    "\n",
    "result_submission_df = result_submission_df.reset_index(drop=True)\n",
    "\n",
    "submission_dataset = Dataset.from_pandas(result_submission_df)\n",
    "\n",
    "splits['submission'] = submission_dataset\n",
    "\n",
    "perplexity_per_sample_submission = defaultdict(list)\n",
    "\n",
    "for sample in tqdm(splits[\"submission\"]):\n",
    "    sample_id = sample[\"ID\"]\n",
    "    text = sample[\"text\"]\n",
    "    text_for_transformers = sample[\"text_for_transformers\"]\n",
    "    text_for_vectorizer = sample[\"text_for_vectorizer\"]\n",
    "    text_for_embeddings = sample[\"text_for_embeddings\"]\n",
    "\n",
    "    cumulative_text = \"\"\n",
    "    perplexities_gpt = []\n",
    "    perplexities_phi = []\n",
    "    for i in range(1, len(text_for_transformers) + 1):\n",
    "        cumulative_text = ' '.join(text_for_transformers[:i])\n",
    "        try:\n",
    "            ppl_gpt = calculate_perplexity(cumulative_text, model_gpt, tokenizer_gpt, DEVICE)\n",
    "            if np.isnan(ppl_gpt):\n",
    "                ppl_gpt = 0                \n",
    "            perplexities_gpt.append(ppl_gpt)\n",
    "        except Exception as e:\n",
    "            print(f\"Error processing sample ID {sample_id}: {e}\")\n",
    "            perplexities_gpt.append(0)  # None при ошибке расчета перплексии\n",
    "            \n",
    "        try:\n",
    "            ppl_phi = calculate_perplexity(cumulative_text, model_phi, tokenizer_phi, DEVICE)\n",
    "            if np.isnan(ppl_phi):\n",
    "                ppl_phi = 0                    \n",
    "            perplexities_phi.append(ppl_phi)\n",
    "        except Exception as e:\n",
    "            print(f\"Error processing sample ID {sample_id}: {e}\")\n",
    "            perplexities_phi.append(0)  # None при ошибке расчета перплексии\n",
    "\n",
    "    # Сохраняем результаты в виде списков\n",
    "    perplexity_per_sample_submission[\"submission\"].append({\n",
    "        \"ID\": sample_id,\n",
    "        \"text\": text,\n",
    "        \"text_for_transformers\": text_for_transformers,\n",
    "        \"text_for_vectorizer\": text_for_vectorizer,\n",
    "        \"text_for_embeddings\": text_for_embeddings,\n",
    "        \"perplexities_gpt\": perplexities_gpt,\n",
    "        \"perplexities_phi\": perplexities_phi\n",
    "    })\n",
    "\n",
    "\n",
    "submission_df = pd.DataFrame(perplexity_per_sample_submission[\"submission\"])\n",
    "\n",
    "submission_df['cnt_ppl'] = submission_df['text_for_transformers'].apply(len)\n",
    "submission_df['stats'] = submission_df['perplexities_gpt'].apply(lambda x: calculate_statistics(x, 'gpt'))\n",
    "submission_df = submission_df.join(pd.json_normalize(submission_df['stats']))\n",
    "submission_df = submission_df.drop(columns=['stats'])\n",
    "\n",
    "submission_df['stats'] = submission_df['perplexities_phi'].apply(lambda x: calculate_statistics(x, 'phi'))\n",
    "submission_df = submission_df.join(pd.json_normalize(submission_df['stats']))\n",
    "submission_df = submission_df.drop(columns=['stats'])\n",
    "\n",
    "submission_df['avg_ppl'] = ((submission_df[\"mean_ppl_gpt\"] + submission_df[\"mean_ppl_phi\"]) / 2)\n",
    "submission_df['pred'] = (submission_df['avg_ppl'] > best_threshold).astype(int)\n",
    "submission_df['binned'] = pd.cut(submission_df['avg_ppl'], bins=bins, labels=bin_labels, include_lowest=True)\n",
    "\n",
    "submission_df[[f'{i}' for i in num_cols]] = scl.transform(submission_df[num_cols])\n",
    "encoded_submission = encoder.transform(submission_df[['binned']])\n",
    "\n",
    "encoded_submission_df = pd.DataFrame(encoded_submission, columns=encoder.get_feature_names_out(['binned']))\n",
    "submission_df = pd.concat([submission_df, encoded_submission_df], axis=1)\n",
    "\n",
    "print(submission_df.shape)\n",
    "submission_df.head()"
   ]
  },
  {
   "cell_type": "code",
   "execution_count": 55,
   "metadata": {},
   "outputs": [
    {
     "name": "stdout",
     "output_type": "stream",
     "text": [
      "TfIdf emb submission: (676, 3180) shape\n",
      "PPL vectors submission: (676, 20) shape\n",
      "USER-bge-m3 emb submission: (676, 1024) shape\n",
      "TfIdf + Robust scaler PPL + USER-bge-m3 emb train: (676, 4204) shape\n",
      "(676, 125)\n",
      "CPU times: user 40.7 s, sys: 137 ms, total: 40.9 s\n",
      "Wall time: 40.4 s\n"
     ]
    }
   ],
   "source": [
    "%%time\n",
    "\n",
    "submission_tfidf = vectorizer.transform(submission_df['text_for_vectorizer'])\n",
    "submission_factors = submission_df[ppl_factors].values\n",
    "submission_embeddings = embedding_model.encode(submission_df['text_for_embeddings'].tolist())\n",
    "\n",
    "print(f'TfIdf emb submission: {submission_tfidf.shape} shape')\n",
    "print(f'PPL vectors submission: {submission_factors.shape} shape')\n",
    "print(f'USER-bge-m3 emb submission: {submission_embeddings.shape} shape')\n",
    "\n",
    "all_submission_embeddings = np.hstack([submission_tfidf.toarray(), submission_embeddings])\n",
    "\n",
    "print(f'TfIdf + Robust scaler PPL + USER-bge-m3 emb train: {all_submission_embeddings.shape} shape')\n",
    "\n",
    "submission_reduced_embeddings = umap_model.transform(all_submission_embeddings)\n",
    "submission_decomposed_embeddings = pca_model.transform(all_submission_embeddings)\n",
    "\n",
    "X_submission = np.hstack([submission_factors, submission_reduced_embeddings, submission_decomposed_embeddings])\n",
    "print(X_submission.shape)"
   ]
  },
  {
   "cell_type": "code",
   "execution_count": 56,
   "metadata": {},
   "outputs": [],
   "source": [
    "y_submission_predicted = catb_model.predict_proba(X_submission)[:, 1]"
   ]
  },
  {
   "cell_type": "code",
   "execution_count": 57,
   "metadata": {},
   "outputs": [],
   "source": [
    "# Формируем финальный скор для отправки на kaggle\n",
    "\n",
    "preds_submission_df = pd.DataFrame({\"ID\": submission_df[\"ID\"], \"is_bot\": y_submission_predicted})\n",
    "preds_submission_df.to_csv(\"preds_submission.csv\", index=False)"
   ]
  },
  {
   "cell_type": "code",
   "execution_count": 58,
   "metadata": {},
   "outputs": [
    {
     "data": {
      "text/html": [
       "<div>\n",
       "<style scoped>\n",
       "    .dataframe tbody tr th:only-of-type {\n",
       "        vertical-align: middle;\n",
       "    }\n",
       "\n",
       "    .dataframe tbody tr th {\n",
       "        vertical-align: top;\n",
       "    }\n",
       "\n",
       "    .dataframe thead th {\n",
       "        text-align: right;\n",
       "    }\n",
       "</style>\n",
       "<table border=\"1\" class=\"dataframe\">\n",
       "  <thead>\n",
       "    <tr style=\"text-align: right;\">\n",
       "      <th></th>\n",
       "      <th>ID</th>\n",
       "      <th>is_bot</th>\n",
       "    </tr>\n",
       "  </thead>\n",
       "  <tbody>\n",
       "    <tr>\n",
       "      <th>0</th>\n",
       "      <td>00559a1338f444c18eb301f1c822b483_0</td>\n",
       "      <td>0.269840</td>\n",
       "    </tr>\n",
       "    <tr>\n",
       "      <th>1</th>\n",
       "      <td>00559a1338f444c18eb301f1c822b483_1</td>\n",
       "      <td>0.202104</td>\n",
       "    </tr>\n",
       "    <tr>\n",
       "      <th>2</th>\n",
       "      <td>007bf899fb5b4a3b8105183d0ca56cfa_0</td>\n",
       "      <td>0.069368</td>\n",
       "    </tr>\n",
       "    <tr>\n",
       "      <th>3</th>\n",
       "      <td>007bf899fb5b4a3b8105183d0ca56cfa_1</td>\n",
       "      <td>0.100266</td>\n",
       "    </tr>\n",
       "    <tr>\n",
       "      <th>4</th>\n",
       "      <td>00ae575033054ce3ba68d2d3e1ba30e2_0</td>\n",
       "      <td>0.845835</td>\n",
       "    </tr>\n",
       "    <tr>\n",
       "      <th>...</th>\n",
       "      <td>...</td>\n",
       "      <td>...</td>\n",
       "    </tr>\n",
       "    <tr>\n",
       "      <th>671</th>\n",
       "      <td>febf5f02b3bd4018a49da0bcf01565b6_1</td>\n",
       "      <td>0.084640</td>\n",
       "    </tr>\n",
       "    <tr>\n",
       "      <th>672</th>\n",
       "      <td>fed6ebff90f94f43ababc2042e6c96e3_0</td>\n",
       "      <td>0.155834</td>\n",
       "    </tr>\n",
       "    <tr>\n",
       "      <th>673</th>\n",
       "      <td>fed6ebff90f94f43ababc2042e6c96e3_1</td>\n",
       "      <td>0.351919</td>\n",
       "    </tr>\n",
       "    <tr>\n",
       "      <th>674</th>\n",
       "      <td>fee84463bb5c4b13aa6149447a1dcf97_0</td>\n",
       "      <td>0.309952</td>\n",
       "    </tr>\n",
       "    <tr>\n",
       "      <th>675</th>\n",
       "      <td>fee84463bb5c4b13aa6149447a1dcf97_1</td>\n",
       "      <td>0.322647</td>\n",
       "    </tr>\n",
       "  </tbody>\n",
       "</table>\n",
       "<p>676 rows × 2 columns</p>\n",
       "</div>"
      ],
      "text/plain": [
       "                                     ID    is_bot\n",
       "0    00559a1338f444c18eb301f1c822b483_0  0.269840\n",
       "1    00559a1338f444c18eb301f1c822b483_1  0.202104\n",
       "2    007bf899fb5b4a3b8105183d0ca56cfa_0  0.069368\n",
       "3    007bf899fb5b4a3b8105183d0ca56cfa_1  0.100266\n",
       "4    00ae575033054ce3ba68d2d3e1ba30e2_0  0.845835\n",
       "..                                  ...       ...\n",
       "671  febf5f02b3bd4018a49da0bcf01565b6_1  0.084640\n",
       "672  fed6ebff90f94f43ababc2042e6c96e3_0  0.155834\n",
       "673  fed6ebff90f94f43ababc2042e6c96e3_1  0.351919\n",
       "674  fee84463bb5c4b13aa6149447a1dcf97_0  0.309952\n",
       "675  fee84463bb5c4b13aa6149447a1dcf97_1  0.322647\n",
       "\n",
       "[676 rows x 2 columns]"
      ]
     },
     "execution_count": 58,
     "metadata": {},
     "output_type": "execute_result"
    }
   ],
   "source": [
    "pd.read_csv(\"preds_submission.csv\")"
   ]
  },
  {
   "cell_type": "code",
   "execution_count": null,
   "metadata": {},
   "outputs": [],
   "source": []
  }
 ],
 "metadata": {
  "kernelspec": {
   "display_name": "Python 3 (ipykernel)",
   "language": "python",
   "name": "python3"
  },
  "language_info": {
   "codemirror_mode": {
    "name": "ipython",
    "version": 3
   },
   "file_extension": ".py",
   "mimetype": "text/x-python",
   "name": "python",
   "nbconvert_exporter": "python",
   "pygments_lexer": "ipython3",
   "version": "3.10.12"
  }
 },
 "nbformat": 4,
 "nbformat_minor": 4
}
